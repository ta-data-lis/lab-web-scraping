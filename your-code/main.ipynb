{
 "cells": [
  {
   "cell_type": "markdown",
   "metadata": {},
   "source": [
    "# Web Scraping Lab\n",
    "\n",
    "You will find in this notebook some scrapy exercises to practise your scraping skills.\n",
    "\n",
    "**Tips:**\n",
    "\n",
    "- Check the response status code for each request to ensure you have obtained the intended content.\n",
    "- Print the response text in each request to understand the kind of info you are getting and its format.\n",
    "- Check for patterns in the response text to extract the data/info requested in each question.\n",
    "- Visit the urls below and take a look at their source code through Chrome DevTools. You'll need to identify the html tags, special class names, etc used in the html content you are expected to extract.\n",
    "\n",
    "**Resources**:\n",
    "- [Requests library](http://docs.python-requests.org/en/master/#the-user-guide)\n",
    "- [Beautiful Soup Doc](https://www.crummy.com/software/BeautifulSoup/bs4/doc/)\n",
    "- [Urllib](https://docs.python.org/3/library/urllib.html#module-urllib)\n",
    "- [re lib](https://docs.python.org/3/library/re.html)\n",
    "- [lxml lib](https://lxml.de/)\n",
    "- [Scrapy](https://scrapy.org/)\n",
    "- [List of HTTP status codes](https://en.wikipedia.org/wiki/List_of_HTTP_status_codes)\n",
    "- [HTML basics](http://www.simplehtmlguide.com/cheatsheet.php)\n",
    "- [CSS basics](https://www.cssbasics.com/#page_start)"
   ]
  },
  {
   "cell_type": "markdown",
   "metadata": {},
   "source": [
    "#### Below are the libraries and modules you may need. `requests`,  `BeautifulSoup` and `pandas` are already imported for you. If you prefer to use additional libraries feel free to do it."
   ]
  },
  {
   "cell_type": "code",
   "execution_count": 1,
   "metadata": {},
   "outputs": [],
   "source": [
    "# importing libraries\n",
    "import requests\n",
    "from bs4 import BeautifulSoup\n",
    "import pandas as pd"
   ]
  },
  {
   "cell_type": "markdown",
   "metadata": {},
   "source": [
    "#### Download, parse (using BeautifulSoup), and print the content from the Trending Developers page from GitHub:"
   ]
  },
  {
   "cell_type": "code",
   "execution_count": null,
   "metadata": {},
   "outputs": [],
   "source": [
    "# This is the url you will scrape in this exercise\n",
    "url = 'https://github.com/trending/developers'"
   ]
  },
  {
   "cell_type": "code",
   "execution_count": null,
   "metadata": {},
   "outputs": [],
   "source": [
    "html = requests.get(url).content\n",
    "soup = BeautifulSoup(html, \"lxml\")"
   ]
  },
  {
   "cell_type": "markdown",
   "metadata": {},
   "source": [
    "#### Display the names of the trending developers retrieved in the previous step.\n",
    "\n",
    "Your output should be a Python list of developer names. Each name should not contain any html tag.\n",
    "\n",
    "**Instructions:**\n",
    "\n",
    "1. Find out the html tag and class names used for the developer names. You can achieve this using Chrome DevTools.\n",
    "\n",
    "1. Use BeautifulSoup to extract all the html elements that contain the developer names.\n",
    "\n",
    "1. Use string manipulation techniques to replace whitespaces and linebreaks (i.e. `\\n`) in the *text* of each html element. Use a list to store the clean names.\n",
    "\n",
    "1. Print the list of names.\n",
    "\n",
    "Your output should look like below:\n",
    "\n",
    "```\n",
    "['trimstray (@trimstray)',\n",
    " 'joewalnes (JoeWalnes)',\n",
    " 'charlax (Charles-AxelDein)',\n",
    " 'ForrestKnight (ForrestKnight)',\n",
    " 'revery-ui (revery-ui)',\n",
    " 'alibaba (Alibaba)',\n",
    " 'Microsoft (Microsoft)',\n",
    " 'github (GitHub)',\n",
    " 'facebook (Facebook)',\n",
    " 'boazsegev (Bo)',\n",
    " 'google (Google)',\n",
    " 'cloudfetch',\n",
    " 'sindresorhus (SindreSorhus)',\n",
    " 'tensorflow',\n",
    " 'apache (TheApacheSoftwareFoundation)',\n",
    " 'DevonCrawford (DevonCrawford)',\n",
    " 'ARMmbed (ArmMbed)',\n",
    " 'vuejs (vuejs)',\n",
    " 'fastai (fast.ai)',\n",
    " 'QiShaoXuan (Qi)',\n",
    " 'joelparkerhenderson (JoelParkerHenderson)',\n",
    " 'torvalds (LinusTorvalds)',\n",
    " 'CyC2018',\n",
    " 'komeiji-satori (神楽坂覚々)',\n",
    " 'script-8']\n",
    " ```"
   ]
  },
  {
   "cell_type": "code",
   "execution_count": null,
   "metadata": {},
   "outputs": [],
   "source": [
    "# get names\n",
    "# tag: h1 \n",
    "# class: h3 lh-condensed\n",
    "all_names = [element.text for element in soup.find_all('h1', attrs = {'class':'h3 lh-condensed'})]\n",
    "\n",
    "clean_names = [x.replace(\"\\n\",\"\").strip() for x in all_names]\n",
    "\n",
    "# get usernames\n",
    "# tag: p\n",
    "# class: f4 text-normal mb-one\n",
    "all_usernames = [element.text for element in soup.find_all('p', attrs = {'class':'f4 text-normal mb-1'})]\n",
    "\n",
    "clean_usernames = [x.replace(\"\\n\",\"\").strip() for x in all_usernames]\n",
    "usernames = ['(' + x + ')' for x in clean_usernames]\n",
    "\n",
    "# agg names and usernames\n",
    "names_usernames = [l[0] + ' ' + l[1] for l in zip(clean_names, usernames)]\n",
    "names_usernames"
   ]
  },
  {
   "cell_type": "markdown",
   "metadata": {},
   "source": [
    "#### Display the trending Python repositories in GitHub.\n",
    "\n",
    "The steps to solve this problem is similar to the previous one except that you need to find out the repository names instead of developer names."
   ]
  },
  {
   "cell_type": "code",
   "execution_count": null,
   "metadata": {},
   "outputs": [],
   "source": [
    "# This is the url you will scrape in this exercise\n",
    "url = 'https://github.com/trending/python?since=daily'\n",
    "\n",
    "html = requests.get(url).content\n",
    "soup = BeautifulSoup(html, \"lxml\")"
   ]
  },
  {
   "cell_type": "code",
   "execution_count": null,
   "metadata": {},
   "outputs": [],
   "source": [
    "# tag: h1\n",
    "# class: \"h3 lh-condensed\"\n",
    "\n",
    "all_repos = [element.text for element in soup.find_all('h1', attrs = {'class':'h3 lh-condensed'})]\n",
    "\n",
    "clean_repos = [x.replace(\"\\n\",\"\").replace(\" \", \"\") for x in all_repos]\n",
    "clean_repos"
   ]
  },
  {
   "cell_type": "markdown",
   "metadata": {},
   "source": [
    "#### Display all the image links from Walt Disney wikipedia page."
   ]
  },
  {
   "cell_type": "code",
   "execution_count": null,
   "metadata": {},
   "outputs": [],
   "source": [
    "# This is the url you will scrape in this exercise\n",
    "url = 'https://en.wikipedia.org/wiki/Walt_Disney'\n",
    "html = requests.get(url).content\n",
    "soup = BeautifulSoup(html, \"lxml\")"
   ]
  },
  {
   "cell_type": "code",
   "execution_count": null,
   "metadata": {},
   "outputs": [],
   "source": [
    "images = [element.get('src') for element in soup.find_all('img')]\n",
    "images"
   ]
  },
  {
   "cell_type": "markdown",
   "metadata": {},
   "source": [
    "#### Find the number of titles that have changed in the United States Code since its last release point."
   ]
  },
  {
   "cell_type": "code",
   "execution_count": null,
   "metadata": {},
   "outputs": [],
   "source": [
    "# This is the url you will scrape in this exercise\n",
    "url = 'http://uscode.house.gov/download/download.shtml'\n",
    "html = requests.get(url).content\n",
    "soup = BeautifulSoup(html, \"lxml\")"
   ]
  },
  {
   "cell_type": "code",
   "execution_count": null,
   "metadata": {},
   "outputs": [],
   "source": [
    "# Tag: div\n",
    "# Class: usctitlechanged\n",
    "all_updates = [element.text for element in soup.find_all('div', attrs = {'class':'usctitlechanged'})]\n",
    "clean_updates = [x.replace(\"\\n\",\"\").replace(\"٭\", \"\").strip() for x in all_updates]\n",
    "clean_updates"
   ]
  },
  {
   "cell_type": "markdown",
   "metadata": {},
   "source": [
    "#### Find a Python list with the top ten FBI's Most Wanted names."
   ]
  },
  {
   "cell_type": "code",
   "execution_count": null,
   "metadata": {},
   "outputs": [],
   "source": [
    "# This is the url you will scrape in this exercise\n",
    "url = 'https://www.fbi.gov/wanted/topten'\n",
    "html = requests.get(url).content\n",
    "soup = BeautifulSoup(html, \"lxml\")"
   ]
  },
  {
   "cell_type": "code",
   "execution_count": null,
   "metadata": {},
   "outputs": [],
   "source": [
    "# Tag: h3 Class: title\n",
    "most_wanted = [element.text for element in soup.find_all('h3', attrs = {'class':'title'})]\n",
    "clean_wanted = [x.replace(\"\\n\",\"\").strip() for x in most_wanted]\n",
    "clean_wanted"
   ]
  },
  {
   "cell_type": "markdown",
   "metadata": {},
   "source": [
    "#### Count the number of tweets by a given Twitter account.\n",
    "Ask the user for the handle (@handle) of a twitter account. You will need to include a ***try/except block*** for account names not found. \n",
    "<br>***Hint:*** the program should count the number of tweets for any provided account."
   ]
  },
  {
   "cell_type": "code",
   "execution_count": null,
   "metadata": {},
   "outputs": [],
   "source": [
    "# This is the url you will scrape in this exercise \n",
    "# You will need to add the account credentials to this url\n",
    "url = 'https://twitter.com/'"
   ]
  },
  {
   "cell_type": "code",
   "execution_count": null,
   "metadata": {},
   "outputs": [],
   "source": [
    "handle = input('Input the account name on Twitter: ')\n",
    "html = requests.get(url + handle)\n",
    "soup = BeautifulSoup(html.text, \"lxml\")\n",
    "\n",
    "try:\n",
    "    tweet_box = soup.find('li',{'class':'ProfileNav-item ProfileNav-item--tweets is-active'})\n",
    "    tweets = tweet_box.find('a').find('span',{'class':'ProfileNav-value'})\n",
    "    print('Number of tweets: ' + tweets.get('data-count'))\n",
    "\n",
    "except:\n",
    "    print('Account name not found...')"
   ]
  },
  {
   "cell_type": "markdown",
   "metadata": {},
   "source": [
    "#### Number of followers of a given twitter account\n",
    "Ask the user for the handle (@handle) of a twitter account. You will need to include a ***try/except block*** for account names not found. \n",
    "<br>***Hint:*** the program should count the followers for any provided account."
   ]
  },
  {
   "cell_type": "code",
   "execution_count": null,
   "metadata": {},
   "outputs": [],
   "source": [
    "# This is the url you will scrape in this exercise \n",
    "# You will need to add the account credentials to this url\n",
    "url = 'https://twitter.com/'"
   ]
  },
  {
   "cell_type": "code",
   "execution_count": null,
   "metadata": {},
   "outputs": [],
   "source": [
    "handle = input('Input the account name on Twitter: ') \n",
    "html = requests.get(url + handle)\n",
    "soup = BeautifulSoup(html.text,'lxml')\n",
    "\n",
    "try:\n",
    "    follower_box = soup.find('li',{'class':'ProfileNav-item ProfileNav-item--followers'})\n",
    "    followers = follower_box.find('a').find('span',{'class':'ProfileNav-value'})\n",
    "    print('Number of followers: ' + followers.get('data-count'))\n",
    "    \n",
    "except:\n",
    "    print('Account name not found...')"
   ]
  },
  {
   "cell_type": "markdown",
   "metadata": {},
   "source": [
    "#### List all language names and number of related articles in the order they appear in wikipedia.org."
   ]
  },
  {
   "cell_type": "code",
   "execution_count": null,
   "metadata": {},
   "outputs": [],
   "source": [
    "# This is the url you will scrape in this exercise\n",
    "url = 'https://www.wikipedia.org/'\n",
    "html = requests.get(url).content\n",
    "soup = BeautifulSoup(html, \"lxml\")"
   ]
  },
  {
   "cell_type": "code",
   "execution_count": null,
   "metadata": {},
   "outputs": [],
   "source": [
    "# Tag: div, class: \"central-featured\"\n",
    "all_lang = [element.text for element in soup.find_all('div', attrs = {'class':'central-featured'})]\n",
    "clean_lang = [x.strip().replace(u'\\xa0', u' ').replace(\"\\n\",\" \").split('      ') for x in all_lang]\n",
    "clean_lang"
   ]
  },
  {
   "cell_type": "markdown",
   "metadata": {},
   "source": [
    "#### A list with the different kind of datasets available in data.gov.uk."
   ]
  },
  {
   "cell_type": "code",
   "execution_count": null,
   "metadata": {},
   "outputs": [],
   "source": [
    "# This is the url you will scrape in this exercise\n",
    "url = 'https://data.gov.uk/'\n",
    "html = requests.get(url).content\n",
    "soup = BeautifulSoup(html, \"lxml\")"
   ]
  },
  {
   "cell_type": "code",
   "execution_count": null,
   "metadata": {},
   "outputs": [],
   "source": [
    "# Tag: h2\n",
    "dataset_types = [element.text for element in soup.find_all('h2')]\n",
    "dataset_types "
   ]
  },
  {
   "cell_type": "markdown",
   "metadata": {},
   "source": [
    "#### Display the top 10 languages by number of native speakers stored in a pandas dataframe."
   ]
  },
  {
   "cell_type": "code",
   "execution_count": null,
   "metadata": {},
   "outputs": [],
   "source": [
    "# This is the url you will scrape in this exercise\n",
    "url = 'https://en.wikipedia.org/wiki/List_of_languages_by_number_of_native_speakers'\n",
    "html = requests.get(url).content\n",
    "soup = BeautifulSoup(html, \"lxml\")"
   ]
  },
  {
   "cell_type": "code",
   "execution_count": null,
   "metadata": {},
   "outputs": [],
   "source": [
    "# Tag: tbody\n",
    "table_body = soup.find_all('tbody')[0]\n",
    "\n",
    "rows = table_body.find_all('tr')\n",
    "rows_clean = [row.text.replace('\\n', ' ').replace('\\xa0', '').split('  ') for row in rows]\n",
    "\n",
    "\n",
    "# dataframe\n",
    "\n",
    "import pandas as pd\n",
    "\n",
    "df = pd.DataFrame(rows_clean[1:11], columns = rows_clean[0])\n",
    "df['Language'] = df['Language'].apply(lambda x: x.split('[')[0])\n",
    "df"
   ]
  },
  {
   "cell_type": "markdown",
   "metadata": {},
   "source": [
    "#### Scrape a certain number of tweets of a given Twitter account."
   ]
  },
  {
   "cell_type": "code",
   "execution_count": null,
   "metadata": {},
   "outputs": [],
   "source": [
    "# This is the url you will scrape in this exercise \n",
    "# You will need to add the account credentials to this url\n",
    "url = 'https://twitter.com/'"
   ]
  },
  {
   "cell_type": "code",
   "execution_count": null,
   "metadata": {},
   "outputs": [],
   "source": [
    "handle = input('Input the account name on Twitter: ')\n",
    "nb_tweets = int(input('Input number of tweets to scrape: '))\n",
    "html = requests.get(url + handle)\n",
    "soup = BeautifulSoup(html.content,'lxml')\n",
    "all_tweets = soup.find_all('div',{'class':'tweet'})\n",
    "\n",
    "if all_tweets:\n",
    "  for tweet in all_tweets[:nb_tweets]:\n",
    "    context = tweet.find('div',{'class':'context'}).text.replace(\"\\n\",\" \").strip()\n",
    "    content = tweet.find('div',{'class':'content'})\n",
    "    header = content.find('div',{'class':'stream-item-header'})\n",
    "    user = header.find('a',{'class':'account-group js-account-group js-action-profile js-user-profile-link js-nav'}).text.replace(\"\\n\",\" \").strip()\n",
    "    time = header.find('a',{'class':'tweet-timestamp js-permalink js-nav js-tooltip'}).find('span').text.replace(\"\\n\",\" \").strip()\n",
    "    message = content.find('div',{'class':'js-tweet-text-container'}).text.replace(\"\\n\",\" \").strip()\n",
    "    footer = content.find('div',{'class':'stream-item-footer'})\n",
    "    stat = footer.find('div',{'class':'ProfileTweet-actionCountList u-hiddenVisually'}).text.replace(\"\\n\",\" \").strip()\n",
    "    if context:\n",
    "      print(context)\n",
    "    print(user,time)\n",
    "    print(message)\n",
    "    print(stat)\n",
    "    print()\n",
    "else:\n",
    "    print(\"List is empty/account name not found.\")\n"
   ]
  },
  {
   "cell_type": "markdown",
   "metadata": {},
   "source": [
    "#### Display IMDB's top 250 data (movie name, initial release, director name and stars) as a pandas dataframe."
   ]
  },
  {
   "cell_type": "code",
   "execution_count": null,
   "metadata": {},
   "outputs": [],
   "source": [
    "# This is the url you will scrape in this exercise \n",
    "url = 'https://www.imdb.com/chart/top'\n",
    "html = requests.get(url).content\n",
    "soup = BeautifulSoup(html, \"lxml\")"
   ]
  },
  {
   "cell_type": "code",
   "execution_count": null,
   "metadata": {},
   "outputs": [],
   "source": [
    "# tag: td\n",
    "table_body = soup.find_all('td')\n",
    "\n",
    "# titles\n",
    "titles = [element.find('img')['alt'] for element in table_body if element.find('img')]\n",
    "\n",
    "# directors and stars\n",
    "dir_stars = [element.a.get('title') for element in table_body if element.a][1::2]\n",
    "directors = [element.split(' (dir.)')[0] for element in dir_stars]\n",
    "stars = [element.split(', ')[1:] for element in dir_stars]\n",
    "\n",
    "# years\n",
    "years = [int(element.text.replace(\"(\",'').replace(\")\",'')) for element in soup.find_all('span', attrs = {'class': 'secondaryInfo'})]\n",
    "\n",
    "# dataframe\n",
    "df = pd.DataFrame({'Title' : titles, 'Initial Release' : years, 'Director name' : directors, 'Stars' : stars})"
   ]
  },
  {
   "cell_type": "code",
   "execution_count": null,
   "metadata": {},
   "outputs": [],
   "source": [
    "df"
   ]
  },
  {
   "cell_type": "markdown",
   "metadata": {},
   "source": [
    "#### Display the movie name, year and a brief summary of the top 10 random movies (IMDB) as a pandas dataframe."
   ]
  },
  {
   "cell_type": "code",
   "execution_count": null,
   "metadata": {},
   "outputs": [],
   "source": [
    "#This is the url you will scrape in this exercise\n",
    "url = 'http://www.imdb.com/chart/top'"
   ]
  },
  {
   "cell_type": "code",
   "execution_count": null,
   "metadata": {},
   "outputs": [],
   "source": [
    "html = requests.get(url).content\n",
    "soup = BeautifulSoup(html, \"lxml\")\n",
    "\n",
    "# tag: td\n",
    "body = soup.find_all('tr')\n",
    "\n",
    "# titles\n",
    "titles = [element.find('img')['alt'] for element in body if element.find('img')][:10]\n",
    "\n",
    "#year\n",
    "years = [int(element.text.replace(\"(\",'').replace(\")\",'')) for element in soup.find_all('span', attrs = {'class': 'secondaryInfo'})][:10]"
   ]
  },
  {
   "cell_type": "code",
   "execution_count": null,
   "metadata": {},
   "outputs": [],
   "source": [
    "# summary\n",
    "title_column = soup.find_all('td', attrs = {'class': 'titleColumn'})\n",
    "title_ref = [element.a.get('href') for element in title_column if (element.a and element.a.get('href'))][:10]\n",
    "\n",
    "url2 = [\"https://www.imdb.com\" + ref + \"?pf_rd_m=A2FGELUUNOQJNL&pf_rd_p=e31d89dd-322d-4646-8962-327b42fe94b1&pf_rd_r=FQ5FJ4CRXT1JAJRB3NT3&pf_rd_s=center-1&pf_rd_t=15506&pf_rd_i=top&ref_=chttp_tt_\" + str(nb) for ref, nb in zip(title_ref, range(len(title_ref)))]\n",
    "\n",
    "# class: div\n",
    "# tag: summary_text\n",
    "\n",
    "html2 = [requests.get(url).content for url in url2]\n",
    "soup2 = [BeautifulSoup(html, \"lxml\") for html in html2]\n",
    "summary = [soup.find('div', attrs = {'class': 'summary_text'}).text for soup in soup2]\n",
    "summary_clean = [element.replace('\\n','').strip() for element in summary]"
   ]
  },
  {
   "cell_type": "code",
   "execution_count": null,
   "metadata": {
    "scrolled": false
   },
   "outputs": [],
   "source": [
    "# dataframe\n",
    "df = pd.DataFrame({'Title' : titles, 'Initial Release' : years, 'Summary' : summary_clean})\n",
    "df"
   ]
  },
  {
   "cell_type": "markdown",
   "metadata": {},
   "source": [
    "## Bonus"
   ]
  },
  {
   "cell_type": "markdown",
   "metadata": {},
   "source": [
    "#### Find the live weather report (temperature, wind speed, description and weather) of a given city."
   ]
  },
  {
   "cell_type": "code",
   "execution_count": 2,
   "metadata": {},
   "outputs": [
    {
     "name": "stdout",
     "output_type": "stream",
     "text": [
      "Enter the city: paris\n"
     ]
    }
   ],
   "source": [
    "#https://openweathermap.org/current\n",
    "city = input('Enter the city: ')\n",
    "url = 'http://api.openweathermap.org/data/2.5/weather?'+'q='+city+'&APPID=b35975e18dc93725acb092f7272cc6b8&units=metric'"
   ]
  },
  {
   "cell_type": "code",
   "execution_count": 9,
   "metadata": {},
   "outputs": [
    {
     "data": {
      "text/plain": [
       "{'weather': <p>{\"coord\":{\"lon\":2.35,\"lat\":48.85},\"weather\":[{\"id\":500,\"main\":\"Rain\",\"description\":\"light rain\",\"icon\":\"10d\"}],\"base\":\"stations\",\"main\":{\"temp\":9.04,\"feels_like\":6.05,\"temp_min\":8.33,\"temp_max\":10,\"pressure\":1021,\"humidity\":93},\"visibility\":7000,\"wind\":{\"speed\":3.6,\"deg\":170},\"clouds\":{\"all\":90},\"dt\":1581180528,\"sys\":{\"type\":1,\"id\":6550,\"country\":\"FR\",\"sunrise\":1581145894,\"sunset\":1581181081},\"timezone\":3600,\"id\":2988507,\"name\":\"Paris\",\"cod\":200}</p>}"
      ]
     },
     "execution_count": 9,
     "metadata": {},
     "output_type": "execute_result"
    }
   ],
   "source": [
    "html = requests.get(url)\n",
    "soup = BeautifulSoup(html.text,'lxml')\n",
    "\n",
    "# tag: h2\n",
    "# class: weather-widget__city-name\n",
    "\n",
    "data = soup.find_all('p')\n",
    "weather_dict = {'weather':i for i in data}\n",
    "#weather_main2 = {\"main\":i for i in weather_main}\n",
    "weather_dict"
   ]
  },
  {
   "cell_type": "markdown",
   "metadata": {},
   "source": [
    "#### Find the book name, price and stock availability as a pandas dataframe."
   ]
  },
  {
   "cell_type": "code",
   "execution_count": 10,
   "metadata": {},
   "outputs": [],
   "source": [
    "# This is the url you will scrape in this exercise. \n",
    "# It is a fictional bookstore created to be scraped. \n",
    "url = 'http://books.toscrape.com/'"
   ]
  },
  {
   "cell_type": "code",
   "execution_count": 21,
   "metadata": {},
   "outputs": [
    {
     "data": {
      "text/html": [
       "<div>\n",
       "<style scoped>\n",
       "    .dataframe tbody tr th:only-of-type {\n",
       "        vertical-align: middle;\n",
       "    }\n",
       "\n",
       "    .dataframe tbody tr th {\n",
       "        vertical-align: top;\n",
       "    }\n",
       "\n",
       "    .dataframe thead th {\n",
       "        text-align: right;\n",
       "    }\n",
       "</style>\n",
       "<table border=\"1\" class=\"dataframe\">\n",
       "  <thead>\n",
       "    <tr style=\"text-align: right;\">\n",
       "      <th></th>\n",
       "      <th>Book name</th>\n",
       "      <th>Price</th>\n",
       "      <th>Stock availability</th>\n",
       "    </tr>\n",
       "  </thead>\n",
       "  <tbody>\n",
       "    <tr>\n",
       "      <td>0</td>\n",
       "      <td>A Light in the ...</td>\n",
       "      <td>£51.77</td>\n",
       "      <td>In stock</td>\n",
       "    </tr>\n",
       "    <tr>\n",
       "      <td>1</td>\n",
       "      <td>Tipping the Velvet</td>\n",
       "      <td>£53.74</td>\n",
       "      <td>In stock</td>\n",
       "    </tr>\n",
       "    <tr>\n",
       "      <td>2</td>\n",
       "      <td>Soumission</td>\n",
       "      <td>£50.10</td>\n",
       "      <td>In stock</td>\n",
       "    </tr>\n",
       "    <tr>\n",
       "      <td>3</td>\n",
       "      <td>Sharp Objects</td>\n",
       "      <td>£47.82</td>\n",
       "      <td>In stock</td>\n",
       "    </tr>\n",
       "    <tr>\n",
       "      <td>4</td>\n",
       "      <td>Sapiens: A Brief History ...</td>\n",
       "      <td>£54.23</td>\n",
       "      <td>In stock</td>\n",
       "    </tr>\n",
       "    <tr>\n",
       "      <td>5</td>\n",
       "      <td>The Requiem Red</td>\n",
       "      <td>£22.65</td>\n",
       "      <td>In stock</td>\n",
       "    </tr>\n",
       "    <tr>\n",
       "      <td>6</td>\n",
       "      <td>The Dirty Little Secrets ...</td>\n",
       "      <td>£33.34</td>\n",
       "      <td>In stock</td>\n",
       "    </tr>\n",
       "    <tr>\n",
       "      <td>7</td>\n",
       "      <td>The Coming Woman: A ...</td>\n",
       "      <td>£17.93</td>\n",
       "      <td>In stock</td>\n",
       "    </tr>\n",
       "    <tr>\n",
       "      <td>8</td>\n",
       "      <td>The Boys in the ...</td>\n",
       "      <td>£22.60</td>\n",
       "      <td>In stock</td>\n",
       "    </tr>\n",
       "    <tr>\n",
       "      <td>9</td>\n",
       "      <td>The Black Maria</td>\n",
       "      <td>£52.15</td>\n",
       "      <td>In stock</td>\n",
       "    </tr>\n",
       "    <tr>\n",
       "      <td>10</td>\n",
       "      <td>Starving Hearts (Triangular Trade ...</td>\n",
       "      <td>£13.99</td>\n",
       "      <td>In stock</td>\n",
       "    </tr>\n",
       "    <tr>\n",
       "      <td>11</td>\n",
       "      <td>Shakespeare's Sonnets</td>\n",
       "      <td>£20.66</td>\n",
       "      <td>In stock</td>\n",
       "    </tr>\n",
       "    <tr>\n",
       "      <td>12</td>\n",
       "      <td>Set Me Free</td>\n",
       "      <td>£17.46</td>\n",
       "      <td>In stock</td>\n",
       "    </tr>\n",
       "    <tr>\n",
       "      <td>13</td>\n",
       "      <td>Scott Pilgrim's Precious Little ...</td>\n",
       "      <td>£52.29</td>\n",
       "      <td>In stock</td>\n",
       "    </tr>\n",
       "    <tr>\n",
       "      <td>14</td>\n",
       "      <td>Rip it Up and ...</td>\n",
       "      <td>£35.02</td>\n",
       "      <td>In stock</td>\n",
       "    </tr>\n",
       "    <tr>\n",
       "      <td>15</td>\n",
       "      <td>Our Band Could Be ...</td>\n",
       "      <td>£57.25</td>\n",
       "      <td>In stock</td>\n",
       "    </tr>\n",
       "    <tr>\n",
       "      <td>16</td>\n",
       "      <td>Olio</td>\n",
       "      <td>£23.88</td>\n",
       "      <td>In stock</td>\n",
       "    </tr>\n",
       "    <tr>\n",
       "      <td>17</td>\n",
       "      <td>Mesaerion: The Best Science ...</td>\n",
       "      <td>£37.59</td>\n",
       "      <td>In stock</td>\n",
       "    </tr>\n",
       "    <tr>\n",
       "      <td>18</td>\n",
       "      <td>Libertarianism for Beginners</td>\n",
       "      <td>£51.33</td>\n",
       "      <td>In stock</td>\n",
       "    </tr>\n",
       "    <tr>\n",
       "      <td>19</td>\n",
       "      <td>It's Only the Himalayas</td>\n",
       "      <td>£45.17</td>\n",
       "      <td>In stock</td>\n",
       "    </tr>\n",
       "  </tbody>\n",
       "</table>\n",
       "</div>"
      ],
      "text/plain": [
       "                                Book name   Price Stock availability\n",
       "0                      A Light in the ...  £51.77           In stock\n",
       "1                      Tipping the Velvet  £53.74           In stock\n",
       "2                              Soumission  £50.10           In stock\n",
       "3                           Sharp Objects  £47.82           In stock\n",
       "4            Sapiens: A Brief History ...  £54.23           In stock\n",
       "5                         The Requiem Red  £22.65           In stock\n",
       "6            The Dirty Little Secrets ...  £33.34           In stock\n",
       "7                 The Coming Woman: A ...  £17.93           In stock\n",
       "8                     The Boys in the ...  £22.60           In stock\n",
       "9                         The Black Maria  £52.15           In stock\n",
       "10  Starving Hearts (Triangular Trade ...  £13.99           In stock\n",
       "11                  Shakespeare's Sonnets  £20.66           In stock\n",
       "12                            Set Me Free  £17.46           In stock\n",
       "13    Scott Pilgrim's Precious Little ...  £52.29           In stock\n",
       "14                      Rip it Up and ...  £35.02           In stock\n",
       "15                  Our Band Could Be ...  £57.25           In stock\n",
       "16                                   Olio  £23.88           In stock\n",
       "17        Mesaerion: The Best Science ...  £37.59           In stock\n",
       "18           Libertarianism for Beginners  £51.33           In stock\n",
       "19                It's Only the Himalayas  £45.17           In stock"
      ]
     },
     "execution_count": 21,
     "metadata": {},
     "output_type": "execute_result"
    }
   ],
   "source": [
    "html = requests.get(url).content\n",
    "soup = BeautifulSoup(html, \"lxml\")\n",
    "\n",
    "# book name\n",
    "name = [element.text for element in soup.find_all('h3')]\n",
    "\n",
    "# book price\n",
    "price = [element.text for element in soup.find_all('p', attrs = {'class': 'price_color'})]\n",
    "\n",
    "# stock availability\n",
    "stock = [element.text for element in soup.find_all('p', attrs = {'class': 'instock availability'})]\n",
    "stock_clean = [element.strip().replace('\\n', '') for element in stock]\n",
    "\n",
    "# df\n",
    "df = pd.DataFrame({'Book name' : name, 'Price' : price, 'Stock availability' : stock_clean})\n",
    "df"
   ]
  },
  {
   "cell_type": "markdown",
   "metadata": {},
   "source": [
    "####  Display the 20 latest earthquakes info (date, time, latitude, longitude and region name) by the EMSC as a pandas dataframe."
   ]
  },
  {
   "cell_type": "code",
   "execution_count": 22,
   "metadata": {},
   "outputs": [],
   "source": [
    "# This is the url you will scrape in this exercise\n",
    "url = 'https://www.emsc-csem.org/Earthquake/'"
   ]
  },
  {
   "cell_type": "code",
   "execution_count": 23,
   "metadata": {},
   "outputs": [
    {
     "data": {
      "text/plain": [
       "[<tbody id=\"tbody\"><tr class=\"ligne1 normal\" id=\"828158\" onclick=\"go_details(event,828158);\"><td class=\"tabev0\"></td><td class=\"tabev0\"></td><td class=\"tabev0\"></td><td class=\"tabev6\"><b><i style=\"display:none;\">earthquake</i><a href=\"/Earthquake/earthquake.php?id=828158\">2020-02-08   16:41:07.2</a></b><i class=\"ago\" id=\"ago0\">24min ago</i></td><td class=\"tabev1\">17.81 </td><td class=\"tabev2\">N  </td><td class=\"tabev1\">66.86 </td><td class=\"tabev2\">W  </td><td class=\"tabev3\">10</td><td class=\"tabev5\" id=\"magtyp0\">Md</td><td class=\"tabev2\">3.2</td><td class=\"tb_region\" id=\"reg0\"> PUERTO RICO REGION</td><td class=\"comment updatetimeno\" id=\"upd0\" style=\"text-align:right;\">2020-02-08 17:04</td></tr>\n",
       " <tr class=\"ligne2 normal\" id=\"828155\" onclick=\"go_details(event,828155);\"><td class=\"tabev0\"></td><td class=\"tabev0\"></td><td class=\"tabev0\"></td><td class=\"tabev6\"><b><i style=\"display:none;\">earthquake</i><a href=\"/Earthquake/earthquake.php?id=828155\">2020-02-08   16:28:11.0</a></b><i class=\"ago\" id=\"ago1\">37min ago</i></td><td class=\"tabev1\">9.96 </td><td class=\"tabev2\">N  </td><td class=\"tabev1\">125.69 </td><td class=\"tabev2\">E  </td><td class=\"tabev3\">155</td><td class=\"tabev5\" id=\"magtyp1\"> M</td><td class=\"tabev2\">3.6</td><td class=\"tb_region\" id=\"reg1\"> MINDANAO, PHILIPPINES</td><td class=\"comment updatetimeno\" id=\"upd1\" style=\"text-align:right;\">2020-02-08 16:45</td></tr>\n",
       " <tr class=\"ligne1 normal\" id=\"828154\" onclick=\"go_details(event,828154);\"><td class=\"tabev0\"></td><td class=\"tabev0\"></td><td class=\"tabev0\"></td><td class=\"tabev6\"><b><i style=\"display:none;\">earthquake</i><a href=\"/Earthquake/earthquake.php?id=828154\">2020-02-08   16:26:18.8</a></b><i class=\"ago\" id=\"ago2\">39min ago</i></td><td class=\"tabev1\">37.44 </td><td class=\"tabev2\">N  </td><td class=\"tabev1\">38.81 </td><td class=\"tabev2\">E  </td><td class=\"tabev3\">7</td><td class=\"tabev5\" id=\"magtyp2\">ML</td><td class=\"tabev2\">2.4</td><td class=\"tb_region\" id=\"reg2\"> EASTERN TURKEY</td><td class=\"comment updatetimeno\" id=\"upd2\" style=\"text-align:right;\">2020-02-08 16:42</td></tr>\n",
       " <tr class=\"ligne2 normal\" id=\"828149\" onclick=\"go_details(event,828149);\"><td class=\"tabev0\"></td><td class=\"tabev0\"></td><td class=\"tabev0\"></td><td class=\"tabev6\"><b><i style=\"display:none;\">earthquake</i><a href=\"/Earthquake/earthquake.php?id=828149\">2020-02-08   16:16:56.3</a></b><i class=\"ago\" id=\"ago3\">48min ago</i></td><td class=\"tabev1\">59.82 </td><td class=\"tabev2\">S  </td><td class=\"tabev1\">25.60 </td><td class=\"tabev2\">W  </td><td class=\"tabev3\">10</td><td class=\"tabev5\" id=\"magtyp3\">mb</td><td class=\"tabev2\">4.8</td><td class=\"tb_region\" id=\"reg3\"> SOUTH SANDWICH ISLANDS REGION</td><td class=\"comment updatetimeno\" id=\"upd3\" style=\"text-align:right;\">2020-02-08 16:31</td></tr>\n",
       " <tr class=\"ligne1 normal\" id=\"828142\" onclick=\"go_details(event,828142);\"><td class=\"tabev0\"></td><td class=\"tabev0\"></td><td class=\"tabev0\"></td><td class=\"tabev6\"><b><i style=\"display:none;\">earthquake</i><a href=\"/Earthquake/earthquake.php?id=828142\">2020-02-08   16:09:36.4</a></b><i class=\"ago\" id=\"ago4\">56min ago</i></td><td class=\"tabev1\">43.75 </td><td class=\"tabev2\">N  </td><td class=\"tabev1\">21.24 </td><td class=\"tabev2\">E  </td><td class=\"tabev3\">1</td><td class=\"tabev5\" id=\"magtyp4\">ML</td><td class=\"tabev2\">2.8</td><td class=\"tb_region\" id=\"reg4\"> SERBIA</td><td class=\"comment updatetimeno\" id=\"upd4\" style=\"text-align:right;\">2020-02-08 16:24</td></tr>\n",
       " <tr class=\"ligne2 normal\" id=\"828144\" onclick=\"go_details(event,828144);\"><td class=\"tabev0\"></td><td class=\"tabev0\"></td><td class=\"tabev0\"></td><td class=\"tabev6\"><b><i style=\"display:none;\">earthquake</i><a href=\"/Earthquake/earthquake.php?id=828144\">2020-02-08   16:06:27.0</a></b><i class=\"ago\" id=\"ago5\">59min ago</i></td><td class=\"tabev1\">1.31 </td><td class=\"tabev2\">S  </td><td class=\"tabev1\">119.49 </td><td class=\"tabev2\">E  </td><td class=\"tabev3\">10</td><td class=\"tabev5\" id=\"magtyp5\"> M</td><td class=\"tabev2\">3.1</td><td class=\"tb_region\" id=\"reg5\"> SULAWESI, INDONESIA</td><td class=\"comment updatetimeno\" id=\"upd5\" style=\"text-align:right;\">2020-02-08 16:17</td></tr>\n",
       " <tr class=\"ligne1 normal\" id=\"828148\" onclick=\"go_details(event,828148);\"><td class=\"tabev0\"></td><td class=\"tabev0\"></td><td class=\"tabev0\"></td><td class=\"tabev6\"><b><i style=\"display:none;\">earthquake</i><a href=\"/Earthquake/earthquake.php?id=828148\">2020-02-08   16:06:04.5</a></b><i class=\"ago\" id=\"ago6\">59min ago</i></td><td class=\"tabev1\">60.11 </td><td class=\"tabev2\">S  </td><td class=\"tabev1\">24.78 </td><td class=\"tabev2\">W  </td><td class=\"tabev3\">10</td><td class=\"tabev5\" id=\"magtyp6\">mb</td><td class=\"tabev2\">4.8</td><td class=\"tb_region\" id=\"reg6\"> SOUTH SANDWICH ISLANDS REGION</td><td class=\"comment updatetimeno\" id=\"upd6\" style=\"text-align:right;\">2020-02-08 16:25</td></tr>\n",
       " <tr class=\"ligne2 normal\" id=\"828145\" onclick=\"go_details(event,828145);\"><td class=\"tabev0\"></td><td class=\"tabev0\"></td><td class=\"tabev0\"></td><td class=\"tabev6\"><b><i style=\"display:none;\">earthquake</i><a href=\"/Earthquake/earthquake.php?id=828145\">2020-02-08   16:02:03.0</a></b><i class=\"ago\" id=\"ago7\">1hr 03min ago</i></td><td class=\"tabev1\">2.82 </td><td class=\"tabev2\">S  </td><td class=\"tabev1\">129.87 </td><td class=\"tabev2\">E  </td><td class=\"tabev3\">10</td><td class=\"tabev5\" id=\"magtyp7\"> M</td><td class=\"tabev2\">3.9</td><td class=\"tb_region\" id=\"reg7\"> SERAM, INDONESIA</td><td class=\"comment updatetimeno\" id=\"upd7\" style=\"text-align:right;\">2020-02-08 16:17</td></tr>\n",
       " <tr class=\"ligne1 normal\" id=\"828147\" onclick=\"go_details(event,828147);\"><td class=\"tabev0\"></td><td class=\"tabev0\"></td><td class=\"tabev0\"></td><td class=\"tabev6\"><b><i style=\"display:none;\">earthquake</i><a href=\"/Earthquake/earthquake.php?id=828147\">2020-02-08   16:00:39.0</a></b><i class=\"ago\" id=\"ago8\">1hr 04min ago</i></td><td class=\"tabev1\">2.93 </td><td class=\"tabev2\">S  </td><td class=\"tabev1\">129.91 </td><td class=\"tabev2\">E  </td><td class=\"tabev3\">10</td><td class=\"tabev5\" id=\"magtyp8\"> M</td><td class=\"tabev2\">3.5</td><td class=\"tb_region\" id=\"reg8\"> SERAM, INDONESIA</td><td class=\"comment updatetimeno\" id=\"upd8\" style=\"text-align:right;\">2020-02-08 16:23</td></tr>\n",
       " <tr class=\"ligne2 normal\" id=\"828141\" onclick=\"go_details(event,828141);\"><td class=\"tabev0\"></td><td class=\"tabev0\"></td><td class=\"tabev0\"></td><td class=\"tabev6\"><b><i style=\"display:none;\">earthquake</i><a href=\"/Earthquake/earthquake.php?id=828141\">2020-02-08   15:41:52.0</a></b><i class=\"ago\" id=\"ago9\">1hr 23min ago</i></td><td class=\"tabev1\">17.67 </td><td class=\"tabev2\">N  </td><td class=\"tabev1\">66.84 </td><td class=\"tabev2\">W  </td><td class=\"tabev3\">10</td><td class=\"tabev5\" id=\"magtyp9\">ML</td><td class=\"tabev2\">3.8</td><td class=\"tb_region\" id=\"reg9\"> PUERTO RICO REGION</td><td class=\"comment updatetimeno\" id=\"upd9\" style=\"text-align:right;\">2020-02-08 16:01</td></tr>\n",
       " <tr class=\"ligne1 normal\" id=\"828140\" onclick=\"go_details(event,828140);\"><td class=\"tabev0\"></td><td class=\"tabev0\"></td><td class=\"tabev0\"></td><td class=\"tabev6\"><b><i style=\"display:none;\">earthquake</i><a href=\"/Earthquake/earthquake.php?id=828140\">2020-02-08   15:34:56.2</a></b><i class=\"ago\" id=\"ago10\">1hr 30min ago</i></td><td class=\"tabev1\">43.36 </td><td class=\"tabev2\">N  </td><td class=\"tabev1\">126.92 </td><td class=\"tabev2\">W  </td><td class=\"tabev3\">10</td><td class=\"tabev5\" id=\"magtyp10\">mb</td><td class=\"tabev2\">4.7</td><td class=\"tb_region\" id=\"reg10\"> OFF COAST OF OREGON</td><td class=\"comment updatetimeno\" id=\"upd10\" style=\"text-align:right;\">2020-02-08 16:10</td></tr>\n",
       " <tr class=\"ligne2 normal\" id=\"828152\" onclick=\"go_details(event,828152);\"><td class=\"tabev0\"></td><td class=\"tabev0\"></td><td class=\"tabev0\"></td><td class=\"tabev6\"><b><i style=\"display:none;\">earthquake</i><a href=\"/Earthquake/earthquake.php?id=828152\">2020-02-08   15:22:27.9</a></b><i class=\"ago\" id=\"ago11\">1hr 43min ago</i></td><td class=\"tabev1\">17.94 </td><td class=\"tabev2\">N  </td><td class=\"tabev1\">66.83 </td><td class=\"tabev2\">W  </td><td class=\"tabev3\">12</td><td class=\"tabev5\" id=\"magtyp11\">Md</td><td class=\"tabev2\">2.4</td><td class=\"tb_region\" id=\"reg11\"> PUERTO RICO REGION</td><td class=\"comment updatetimeno\" id=\"upd11\" style=\"text-align:right;\">2020-02-08 16:41</td></tr>\n",
       " <tr class=\"ligne1 normal\" id=\"828137\" onclick=\"go_details(event,828137);\"><td class=\"tabev0\"></td><td class=\"tabev0\"></td><td class=\"tabev0\"></td><td class=\"tabev6\"><b><i style=\"display:none;\">earthquake</i><a href=\"/Earthquake/earthquake.php?id=828137\">2020-02-08   15:16:39.0</a></b><i class=\"ago\" id=\"ago12\">1hr 48min ago</i></td><td class=\"tabev1\">2.83 </td><td class=\"tabev2\">S  </td><td class=\"tabev1\">129.90 </td><td class=\"tabev2\">E  </td><td class=\"tabev3\">17</td><td class=\"tabev5\" id=\"magtyp12\"> M</td><td class=\"tabev2\">4.1</td><td class=\"tb_region\" id=\"reg12\"> SERAM, INDONESIA</td><td class=\"comment updatetimeno\" id=\"upd12\" style=\"text-align:right;\">2020-02-08 15:25</td></tr>\n",
       " <tr class=\"ligne2 normal\" id=\"828135\" onclick=\"go_details(event,828135);\"><td class=\"tabev0\"></td><td class=\"tabev0\"></td><td class=\"tabev0\"></td><td class=\"tabev6\"><b><i style=\"display:none;\">earthquake</i><a href=\"/Earthquake/earthquake.php?id=828135\">2020-02-08   15:16:14.9</a></b><i class=\"ago\" id=\"ago13\">1hr 49min ago</i></td><td class=\"tabev1\">19.19 </td><td class=\"tabev2\">N  </td><td class=\"tabev1\">155.47 </td><td class=\"tabev2\">W  </td><td class=\"tabev3\">36</td><td class=\"tabev5\" id=\"magtyp13\">Md</td><td class=\"tabev2\">2.5</td><td class=\"tb_region\" id=\"reg13\"> ISLAND OF HAWAII, HAWAII</td><td class=\"comment updatetimeno\" id=\"upd13\" style=\"text-align:right;\">2020-02-08 15:19</td></tr>\n",
       " <tr class=\"ligne1 normal\" id=\"828136\" onclick=\"go_details(event,828136);\"><td class=\"tabev0\"></td><td class=\"tabev0\"></td><td class=\"tabev0\"></td><td class=\"tabev6\"><b><i style=\"display:none;\">earthquake</i><a href=\"/Earthquake/earthquake.php?id=828136\">2020-02-08   15:15:29.5</a></b><i class=\"ago\" id=\"ago14\">1hr 50min ago</i></td><td class=\"tabev1\">46.51 </td><td class=\"tabev2\">N  </td><td class=\"tabev1\">7.47 </td><td class=\"tabev2\">E  </td><td class=\"tabev3\">12</td><td class=\"tabev5\" id=\"magtyp14\">ML</td><td class=\"tabev2\">1.5</td><td class=\"tb_region\" id=\"reg14\"> SWITZERLAND</td><td class=\"comment updatetimeno\" id=\"upd14\" style=\"text-align:right;\">2020-02-08 15:23</td></tr>\n",
       " <tr class=\"ligne2 normal\" id=\"828133\" onclick=\"go_details(event,828133);\"><td class=\"tabev0\"></td><td class=\"tabev0\"></td><td class=\"tabev0\"></td><td class=\"tabev6\"><b><i style=\"display:none;\">earthquake</i><a href=\"/Earthquake/earthquake.php?id=828133\">2020-02-08   15:06:14.4</a></b><i class=\"ago\" id=\"ago15\">1hr 59min ago</i></td><td class=\"tabev1\">35.29 </td><td class=\"tabev2\">N  </td><td class=\"tabev1\">23.42 </td><td class=\"tabev2\">E  </td><td class=\"tabev3\">21</td><td class=\"tabev5\" id=\"magtyp15\">ML</td><td class=\"tabev2\">2.7</td><td class=\"tb_region\" id=\"reg15\"> CRETE, GREECE</td><td class=\"comment updatetimeno\" id=\"upd15\" style=\"text-align:right;\">2020-02-08 15:20</td></tr>\n",
       " <tr class=\"ligne1 normal\" id=\"828134\" onclick=\"go_details(event,828134);\"><td class=\"tabev0\" style=\"text-align:center;\"><a href=\"https://www.emsc-csem.org/Earthquake/Testimonies/comments.php?id=828134\" onmouseout=\"info_b2('notshow','');\" onmouseover=\"info_b2('show','See the &lt;b&gt;testimony&lt;/b&gt; for this earthquake');\"><span class=\"\" style=\"vertical-align:middle;\">1</span></a></td><td class=\"tabev0\"></td><td class=\"tabev0\"><span class=\"intensity\" onclick=\"go_details(event,null,'https://www.emsc-csem.org/Earthquake/popup_intensmap.php?id=828134&amp;f=/FELTREPORTS/82/828134/IntensityMap.png');\" onmouseout=\"info_b2('notshow','');\" onmouseover=\"info_b2('show','See the &lt;b&gt; Intensity map&lt;/b&gt;');\" style=\"background-color:#FFFFFF;\">F</span></td><td class=\"tabev6\"><b><i style=\"display:none;\">earthquake</i><a href=\"/Earthquake/earthquake.php?id=828134\">2020-02-08   15:06:00.6</a></b><i class=\"ago\" id=\"ago16\">1hr 59min ago</i></td><td class=\"tabev1\">38.96 </td><td class=\"tabev2\">N  </td><td class=\"tabev1\">27.88 </td><td class=\"tabev2\">E  </td><td class=\"tabev3\">8</td><td class=\"tabev5\" id=\"magtyp16\">ML</td><td class=\"tabev2\">2.6</td><td class=\"tb_region\" id=\"reg16\"> WESTERN TURKEY</td><td class=\"comment updatetimeno\" id=\"upd16\" style=\"text-align:right;\">2020-02-08 15:32</td></tr>\n",
       " <tr class=\"ligne2 normal\" id=\"828143\" onclick=\"go_details(event,828143);\"><td class=\"tabev0\"></td><td class=\"tabev0\"></td><td class=\"tabev0\"></td><td class=\"tabev6\"><b><i style=\"display:none;\">earthquake</i><a href=\"/Earthquake/earthquake.php?id=828143\">2020-02-08   14:57:14.8</a></b><i class=\"ago\" id=\"ago17\">2hr 08min ago</i></td><td class=\"tabev1\">18.06 </td><td class=\"tabev2\">N  </td><td class=\"tabev1\">66.06 </td><td class=\"tabev2\">W  </td><td class=\"tabev3\">7</td><td class=\"tabev5\" id=\"magtyp17\">Ml</td><td class=\"tabev2\">2.1</td><td class=\"tb_region\" id=\"reg17\"> PUERTO RICO</td><td class=\"comment updatetimeno\" id=\"upd17\" style=\"text-align:right;\">2020-02-08 16:16</td></tr>\n",
       " <tr class=\"ligne1 normal\" id=\"828132\" onclick=\"go_details(event,828132);\"><td class=\"tabev0\"></td><td class=\"tabev0\"></td><td class=\"tabev0\"></td><td class=\"tabev6\"><b><i style=\"display:none;\">earthquake</i><a href=\"/Earthquake/earthquake.php?id=828132\">2020-02-08   14:54:22.4</a></b><i class=\"ago\" id=\"ago18\">2hr 11min ago</i></td><td class=\"tabev1\">39.09 </td><td class=\"tabev2\">N  </td><td class=\"tabev1\">27.84 </td><td class=\"tabev2\">E  </td><td class=\"tabev3\">8</td><td class=\"tabev5\" id=\"magtyp18\">ML</td><td class=\"tabev2\">2.5</td><td class=\"tb_region\" id=\"reg18\"> WESTERN TURKEY</td><td class=\"comment updatetimeno\" id=\"upd18\" style=\"text-align:right;\">2020-02-08 16:28</td></tr>\n",
       " <tr class=\"ligne2 normal\" id=\"828138\" onclick=\"go_details(event,828138);\"><td class=\"tabev0\"></td><td class=\"tabev0\"></td><td class=\"tabev0\"><span class=\"intensity\" onclick=\"go_details(event,null,'https://www.emsc-csem.org/Earthquake/popup_intensmap.php?id=828138&amp;f=/FELTREPORTS/82/828138/IntensityMap.png');\" onmouseout=\"info_b2('notshow','');\" onmouseover=\"info_b2('show','See the &lt;b&gt; Intensity map&lt;/b&gt;');\" style=\"background-color:#FFFFFF;\">F</span></td><td class=\"tabev6\"><b><i style=\"display:none;\">earthquake</i><a href=\"/Earthquake/earthquake.php?id=828138\">2020-02-08   14:42:08.1</a></b><i class=\"ago\" id=\"ago19\">2hr 23min ago</i></td><td class=\"tabev1\">17.86 </td><td class=\"tabev2\">N  </td><td class=\"tabev1\">67.02 </td><td class=\"tabev2\">W  </td><td class=\"tabev3\">10</td><td class=\"tabev5\" id=\"magtyp19\">ML</td><td class=\"tabev2\">3.2</td><td class=\"tb_region\" id=\"reg19\"> PUERTO RICO REGION</td><td class=\"comment updatetimeno\" id=\"upd19\" style=\"text-align:right;\">2020-02-08 16:16</td></tr>\n",
       " <tr class=\"ligne1 info\" id=\"828127\" onclick=\"go_details(event,828127);\"><td class=\"tabev0\"></td><td class=\"tabev0\"></td><td class=\"tabev0\"></td><td class=\"tabev6\"><b><i style=\"display:none;\">earthquake</i><a href=\"/Earthquake/earthquake.php?id=828127\">2020-02-08   14:32:58.8</a></b><i class=\"ago\" id=\"ago20\">2hr 32min ago</i></td><td class=\"tabev1\">59.79 </td><td class=\"tabev2\">S  </td><td class=\"tabev1\">25.77 </td><td class=\"tabev2\">W  </td><td class=\"tabev3\">10</td><td class=\"tabev5\" id=\"magtyp20\">Mw</td><td class=\"tabev2\">6.1</td><td class=\"tb_region\" id=\"reg20\"> SOUTH SANDWICH ISLANDS REGION</td><td class=\"comment updatetimeno\" id=\"upd20\" style=\"text-align:right;\">2020-02-08 15:05</td></tr>\n",
       " <tr class=\"ligne2 normal\" id=\"828146\" onclick=\"go_details(event,828146);\"><td class=\"tabev0\"></td><td class=\"tabev0\"></td><td class=\"tabev0\"></td><td class=\"tabev6\"><b><i style=\"display:none;\">earthquake</i><a href=\"/Earthquake/earthquake.php?id=828146\">2020-02-08   14:25:21.8</a></b><i class=\"ago\" id=\"ago21\">2hr 40min ago</i></td><td class=\"tabev1\">17.58 </td><td class=\"tabev2\">N  </td><td class=\"tabev1\">66.85 </td><td class=\"tabev2\">W  </td><td class=\"tabev3\">10</td><td class=\"tabev5\" id=\"magtyp21\">ML</td><td class=\"tabev2\">2.7</td><td class=\"tb_region\" id=\"reg21\"> PUERTO RICO REGION</td><td class=\"comment updatetimeno\" id=\"upd21\" style=\"text-align:right;\">2020-02-08 16:20</td></tr>\n",
       " <tr class=\"ligne1 normal\" id=\"828115\" onclick=\"go_details(event,828115);\"><td class=\"tabev0\"></td><td class=\"tabev0\"></td><td class=\"tabev0\"></td><td class=\"tabev6\"><b><i style=\"display:none;\">earthquake</i><a href=\"/Earthquake/earthquake.php?id=828115\">2020-02-08   14:16:23.0</a></b><i class=\"ago\" id=\"ago22\">2hr 49min ago</i></td><td class=\"tabev1\">16.24 </td><td class=\"tabev2\">N  </td><td class=\"tabev1\">119.85 </td><td class=\"tabev2\">E  </td><td class=\"tabev3\">59</td><td class=\"tabev5\" id=\"magtyp22\"> M</td><td class=\"tabev2\">3.5</td><td class=\"tb_region\" id=\"reg22\"> LUZON, PHILIPPINES</td><td class=\"comment updatetimeno\" id=\"upd22\" style=\"text-align:right;\">2020-02-08 14:30</td></tr>\n",
       " <tr class=\"ligne2 normal\" id=\"828126\" onclick=\"go_details(event,828126);\"><td class=\"tabev0\"></td><td class=\"tabev0\"></td><td class=\"tabev0\"></td><td class=\"tabev6\"><b><i style=\"display:none;\">earthquake</i><a href=\"/Earthquake/earthquake.php?id=828126\">2020-02-08   13:57:06.6</a></b><i class=\"ago\" id=\"ago23\">3hr 08min ago</i></td><td class=\"tabev1\">38.45 </td><td class=\"tabev2\">N  </td><td class=\"tabev1\">39.21 </td><td class=\"tabev2\">E  </td><td class=\"tabev3\">7</td><td class=\"tabev5\" id=\"magtyp23\">ML</td><td class=\"tabev2\">2.2</td><td class=\"tb_region\" id=\"reg23\"> EASTERN TURKEY</td><td class=\"comment updatetimeno\" id=\"upd23\" style=\"text-align:right;\">2020-02-08 14:41</td></tr>\n",
       " <tr class=\"ligne1 normal\" id=\"828125\" onclick=\"go_details(event,828125);\"><td class=\"tabev0\"></td><td class=\"tabev0\"></td><td class=\"tabev0\"></td><td class=\"tabev6\"><b><i style=\"display:none;\">earthquake</i><a href=\"/Earthquake/earthquake.php?id=828125\">2020-02-08   13:52:10.9</a></b><i class=\"ago\" id=\"ago24\">3hr 13min ago</i></td><td class=\"tabev1\">38.26 </td><td class=\"tabev2\">N  </td><td class=\"tabev1\">38.79 </td><td class=\"tabev2\">E  </td><td class=\"tabev3\">7</td><td class=\"tabev5\" id=\"magtyp24\">ML</td><td class=\"tabev2\">2.0</td><td class=\"tb_region\" id=\"reg24\"> EASTERN TURKEY</td><td class=\"comment updatetimeno\" id=\"upd24\" style=\"text-align:right;\">2020-02-08 14:40</td></tr>\n",
       " <tr class=\"ligne2 normal\" id=\"828130\" onclick=\"go_details(event,828130);\"><td class=\"tabev0\"></td><td class=\"tabev0\"></td><td class=\"tabev0\"></td><td class=\"tabev6\"><b><i style=\"display:none;\">earthquake</i><a href=\"/Earthquake/earthquake.php?id=828130\">2020-02-08   13:46:50.6</a></b><i class=\"ago\" id=\"ago25\">3hr 18min ago</i></td><td class=\"tabev1\">42.88 </td><td class=\"tabev2\">N  </td><td class=\"tabev1\">45.77 </td><td class=\"tabev2\">E  </td><td class=\"tabev3\">10</td><td class=\"tabev5\" id=\"magtyp25\">mb</td><td class=\"tabev2\">3.4</td><td class=\"tb_region\" id=\"reg25\"> CAUCASUS REGION, RUSSIA</td><td class=\"comment updatetimeno\" id=\"upd25\" style=\"text-align:right;\">2020-02-08 14:53</td></tr>\n",
       " <tr class=\"ligne1 normal\" id=\"828101\" onclick=\"go_details(event,828101);\"><td class=\"tabev0\"></td><td class=\"tabev0\"></td><td class=\"tabev0\"></td><td class=\"tabev6\"><b><i style=\"display:none;\">earthquake</i><a href=\"/Earthquake/earthquake.php?id=828101\">2020-02-08   13:46:18.0</a></b><i class=\"ago\" id=\"ago26\">3hr 19min ago</i></td><td class=\"tabev1\">21.14 </td><td class=\"tabev2\">S  </td><td class=\"tabev1\">68.17 </td><td class=\"tabev2\">W  </td><td class=\"tabev3\">178</td><td class=\"tabev5\" id=\"magtyp26\">ML</td><td class=\"tabev2\">3.6</td><td class=\"tb_region\" id=\"reg26\"> POTOSI, BOLIVIA</td><td class=\"comment updatetimeno\" id=\"upd26\" style=\"text-align:right;\">2020-02-08 14:00</td></tr>\n",
       " <tr class=\"ligne2 normal\" id=\"828151\" onclick=\"go_details(event,828151);\"><td class=\"tabev0\"></td><td class=\"tabev0\"></td><td class=\"tabev0\"></td><td class=\"tabev6\"><b><i style=\"display:none;\">earthquake</i><a href=\"/Earthquake/earthquake.php?id=828151\">2020-02-08   13:42:09.1</a></b><i class=\"ago\" id=\"ago27\">3hr 23min ago</i></td><td class=\"tabev1\">17.84 </td><td class=\"tabev2\">N  </td><td class=\"tabev1\">66.86 </td><td class=\"tabev2\">W  </td><td class=\"tabev3\">3</td><td class=\"tabev5\" id=\"magtyp27\">Md</td><td class=\"tabev2\">2.5</td><td class=\"tb_region\" id=\"reg27\"> PUERTO RICO REGION</td><td class=\"comment updatetimeno\" id=\"upd27\" style=\"text-align:right;\">2020-02-08 16:40</td></tr>\n",
       " <tr class=\"ligne1 normal\" id=\"828099\" onclick=\"go_details(event,828099);\"><td class=\"tabev0\"></td><td class=\"tabev0\"></td><td class=\"tabev0\"></td><td class=\"tabev6\"><b><i style=\"display:none;\">earthquake</i><a href=\"/Earthquake/earthquake.php?id=828099\">2020-02-08   13:31:47.0</a></b><i class=\"ago\" id=\"ago28\">3hr 33min ago</i></td><td class=\"tabev1\">2.76 </td><td class=\"tabev2\">S  </td><td class=\"tabev1\">129.92 </td><td class=\"tabev2\">E  </td><td class=\"tabev3\">10</td><td class=\"tabev5\" id=\"magtyp28\"> M</td><td class=\"tabev2\">3.9</td><td class=\"tb_region\" id=\"reg28\"> SERAM, INDONESIA</td><td class=\"comment updatetimeno\" id=\"upd28\" style=\"text-align:right;\">2020-02-08 13:36</td></tr>\n",
       " <tr class=\"ligne2 normal\" id=\"828098\" onclick=\"go_details(event,828098);\"><td class=\"tabev0\"></td><td class=\"tabev0\"></td><td class=\"tabev0\"></td><td class=\"tabev6\"><b><i style=\"display:none;\">earthquake</i><a href=\"/Earthquake/earthquake.php?id=828098\">2020-02-08   13:23:10.0</a></b><i class=\"ago\" id=\"ago29\">3hr 42min ago</i></td><td class=\"tabev1\">0.24 </td><td class=\"tabev2\">S  </td><td class=\"tabev1\">125.38 </td><td class=\"tabev2\">E  </td><td class=\"tabev3\">10</td><td class=\"tabev5\" id=\"magtyp29\"> M</td><td class=\"tabev2\">4.4</td><td class=\"tb_region\" id=\"reg29\"> MOLUCCA SEA</td><td class=\"comment updatetimeno\" id=\"upd29\" style=\"text-align:right;\">2020-02-08 13:30</td></tr>\n",
       " <tr class=\"ligne1 normal\" id=\"828153\" onclick=\"go_details(event,828153);\"><td class=\"tabev0\"></td><td class=\"tabev0\"></td><td class=\"tabev0\"></td><td class=\"tabev6\"><b><i style=\"display:none;\">earthquake</i><a href=\"/Earthquake/earthquake.php?id=828153\">2020-02-08   13:22:31.2</a></b><i class=\"ago\" id=\"ago30\">3hr 43min ago</i></td><td class=\"tabev1\">31.65 </td><td class=\"tabev2\">N  </td><td class=\"tabev1\">104.38 </td><td class=\"tabev2\">W  </td><td class=\"tabev3\">4</td><td class=\"tabev5\" id=\"magtyp30\">ML</td><td class=\"tabev2\">2.6</td><td class=\"tb_region\" id=\"reg30\"> WESTERN TEXAS</td><td class=\"comment updatetimeno\" id=\"upd30\" style=\"text-align:right;\">2020-02-08 16:42</td></tr>\n",
       " <tr class=\"ligne2 normal\" id=\"828095\" onclick=\"go_details(event,828095);\"><td class=\"tabev0\"></td><td class=\"tabev0\"></td><td class=\"tabev0\"></td><td class=\"tabev6\"><b><i style=\"display:none;\">earthquake</i><a href=\"/Earthquake/earthquake.php?id=828095\">2020-02-08   13:11:31.6</a></b><i class=\"ago\" id=\"ago31\">3hr 54min ago</i></td><td class=\"tabev1\">36.80 </td><td class=\"tabev2\">N  </td><td class=\"tabev1\">91.12 </td><td class=\"tabev2\">W  </td><td class=\"tabev3\">11</td><td class=\"tabev5\" id=\"magtyp31\">ML</td><td class=\"tabev2\">2.8</td><td class=\"tb_region\" id=\"reg31\"> SOUTHEASTERN MISSOURI</td><td class=\"comment updatetimeno\" id=\"upd31\" style=\"text-align:right;\">2020-02-08 16:46</td></tr>\n",
       " <tr class=\"ligne1 normal\" id=\"828150\" onclick=\"go_details(event,828150);\"><td class=\"tabev0\"></td><td class=\"tabev0\"></td><td class=\"tabev0\"></td><td class=\"tabev6\"><b><i style=\"display:none;\">earthquake</i><a href=\"/Earthquake/earthquake.php?id=828150\">2020-02-08   13:01:05.4</a></b><i class=\"ago\" id=\"ago32\">4hr 04min ago</i></td><td class=\"tabev1\">17.76 </td><td class=\"tabev2\">N  </td><td class=\"tabev1\">66.86 </td><td class=\"tabev2\">W  </td><td class=\"tabev3\">4</td><td class=\"tabev5\" id=\"magtyp32\">Md</td><td class=\"tabev2\">2.4</td><td class=\"tb_region\" id=\"reg32\"> PUERTO RICO REGION</td><td class=\"comment updatetimeno\" id=\"upd32\" style=\"text-align:right;\">2020-02-08 16:40</td></tr>\n",
       " <tr class=\"ligne2 normal\" id=\"828091\" onclick=\"go_details(event,828091);\"><td class=\"tabev0\"></td><td class=\"tabev0\"></td><td class=\"tabev0\"></td><td class=\"tabev6\"><b><i style=\"display:none;\">earthquake</i><a href=\"/Earthquake/earthquake.php?id=828091\">2020-02-08   12:48:43.6</a></b><i class=\"ago\" id=\"ago33\">4hr 16min ago</i></td><td class=\"tabev1\">6.01 </td><td class=\"tabev2\">S  </td><td class=\"tabev1\">147.45 </td><td class=\"tabev2\">E  </td><td class=\"tabev3\">60</td><td class=\"tabev5\" id=\"magtyp33\">Mw</td><td class=\"tabev2\">5.1</td><td class=\"tb_region\" id=\"reg33\"> EASTERN NEW GUINEA REG., P.N.G.</td><td class=\"comment updatetimeno\" id=\"upd33\" style=\"text-align:right;\">2020-02-08 13:53</td></tr>\n",
       " <tr class=\"ligne1 normal\" id=\"828092\" onclick=\"go_details(event,828092);\"><td class=\"tabev0\" style=\"text-align:center;\"><a href=\"https://www.emsc-csem.org/Earthquake/Testimonies/comments.php?id=828092\" onmouseout=\"info_b2('notshow','');\" onmouseover=\"info_b2('show','See the &lt;b&gt;47 testimonies&lt;/b&gt; for this earthquake');\"><span class=\"\" style=\"vertical-align:middle;\">47</span></a></td><td class=\"tabev0\"></td><td class=\"tabev0\"><span class=\"intensity\" onclick=\"go_details(event,null,'https://www.emsc-csem.org/Earthquake/popup_intensmap.php?id=828092&amp;f=/FELTREPORTS/82/828092/IntensityMap.png');\" onmouseout=\"info_b2('notshow','');\" onmouseover=\"info_b2('show','See the &lt;b&gt; Intensity map&lt;/b&gt;');\" style=\"background-color:#00FFFF;\">IV</span></td><td class=\"tabev6\"><b><i style=\"display:none;\">earthquake</i><a href=\"/Earthquake/earthquake.php?id=828092\">2020-02-08   12:47:05.1</a></b><i class=\"ago\" id=\"ago34\">4hr 18min ago</i></td><td class=\"tabev1\">26.28 </td><td class=\"tabev2\">N  </td><td class=\"tabev1\">90.85 </td><td class=\"tabev2\">E  </td><td class=\"tabev3\">40</td><td class=\"tabev5\" id=\"magtyp34\">mb</td><td class=\"tabev2\">5.0</td><td class=\"tb_region\" id=\"reg34\"> ASSAM, INDIA</td><td class=\"comment updatetimeno\" id=\"upd34\" style=\"text-align:right;\">2020-02-08 13:33</td></tr>\n",
       " <tr class=\"ligne2 normal\" id=\"828096\" onclick=\"go_details(event,828096);\"><td class=\"tabev0\"></td><td class=\"tabev0\"></td><td class=\"tabev0\"></td><td class=\"tabev6\"><b><i style=\"display:none;\">earthquake</i><a href=\"/Earthquake/earthquake.php?id=828096\">2020-02-08   12:46:12.7</a></b><i class=\"ago\" id=\"ago35\">4hr 19min ago</i></td><td class=\"tabev1\">17.80 </td><td class=\"tabev2\">N  </td><td class=\"tabev1\">66.87 </td><td class=\"tabev2\">W  </td><td class=\"tabev3\">10</td><td class=\"tabev5\" id=\"magtyp35\">ML</td><td class=\"tabev2\">2.5</td><td class=\"tb_region\" id=\"reg35\"> PUERTO RICO REGION</td><td class=\"comment updatetimeno\" id=\"upd35\" style=\"text-align:right;\">2020-02-08 13:26</td></tr>\n",
       " <tr class=\"ligne1 normal\" id=\"828084\" onclick=\"go_details(event,828084);\"><td class=\"tabev0\"></td><td class=\"tabev0\"></td><td class=\"tabev0\"></td><td class=\"tabev6\"><b><i style=\"display:none;\">earthquake</i><a href=\"/Earthquake/earthquake.php?id=828084\">2020-02-08   12:25:27.0</a></b><i class=\"ago\" id=\"ago36\">4hr 40min ago</i></td><td class=\"tabev1\">2.69 </td><td class=\"tabev2\">S  </td><td class=\"tabev1\">129.93 </td><td class=\"tabev2\">E  </td><td class=\"tabev3\">10</td><td class=\"tabev5\" id=\"magtyp36\"> M</td><td class=\"tabev2\">3.0</td><td class=\"tb_region\" id=\"reg36\"> SERAM, INDONESIA</td><td class=\"comment updatetimeno\" id=\"upd36\" style=\"text-align:right;\">2020-02-08 12:40</td></tr>\n",
       " <tr class=\"ligne2 normal\" id=\"828085\" onclick=\"go_details(event,828085);\"><td class=\"tabev0\"></td><td class=\"tabev0\"></td><td class=\"tabev0\"></td><td class=\"tabev6\"><b><i style=\"display:none;\">earthquake</i><a href=\"/Earthquake/earthquake.php?id=828085\">2020-02-08   12:18:15.0</a></b><i class=\"ago\" id=\"ago37\">4hr 47min ago</i></td><td class=\"tabev1\">2.80 </td><td class=\"tabev2\">S  </td><td class=\"tabev1\">129.91 </td><td class=\"tabev2\">E  </td><td class=\"tabev3\">10</td><td class=\"tabev5\" id=\"magtyp37\"> M</td><td class=\"tabev2\">3.0</td><td class=\"tb_region\" id=\"reg37\"> SERAM, INDONESIA</td><td class=\"comment updatetimeno\" id=\"upd37\" style=\"text-align:right;\">2020-02-08 12:40</td></tr>\n",
       " <tr class=\"ligne1 normal\" id=\"828081\" onclick=\"go_details(event,828081);\"><td class=\"tabev0\"></td><td class=\"tabev0\"></td><td class=\"tabev0\"><span class=\"intensity\" onclick=\"go_details(event,null,'https://www.emsc-csem.org/Earthquake/popup_intensmap.php?id=828081&amp;f=/FELTREPORTS/82/828081/IntensityMap.png');\" onmouseout=\"info_b2('notshow','');\" onmouseover=\"info_b2('show','See the &lt;b&gt; Intensity map&lt;/b&gt;');\" style=\"background-color:#FFFFFF;\">F</span></td><td class=\"tabev6\"><b><i style=\"display:none;\">earthquake</i><a href=\"/Earthquake/earthquake.php?id=828081\">2020-02-08   12:02:46.4</a></b><i class=\"ago\" id=\"ago38\">5hr 02min ago</i></td><td class=\"tabev1\">36.84 </td><td class=\"tabev2\">N  </td><td class=\"tabev1\">21.48 </td><td class=\"tabev2\">E  </td><td class=\"tabev3\">2</td><td class=\"tabev5\" id=\"magtyp38\">ML</td><td class=\"tabev2\">3.4</td><td class=\"tb_region\" id=\"reg38\"> SOUTHERN GREECE</td><td class=\"comment updatetimeno\" id=\"upd38\" style=\"text-align:right;\">2020-02-08 12:26</td></tr>\n",
       " <tr class=\"ligne2 normal\" id=\"828079\" onclick=\"go_details(event,828079);\"><td class=\"tabev0\"></td><td class=\"tabev0\"></td><td class=\"tabev0\"></td><td class=\"tabev6\"><b><i style=\"display:none;\">earthquake</i><a href=\"/Earthquake/earthquake.php?id=828079\">2020-02-08   11:46:31.0</a></b><i class=\"ago\" id=\"ago39\">5hr 19min ago</i></td><td class=\"tabev1\">2.80 </td><td class=\"tabev2\">S  </td><td class=\"tabev1\">129.90 </td><td class=\"tabev2\">E  </td><td class=\"tabev3\">20</td><td class=\"tabev5\" id=\"magtyp39\"> M</td><td class=\"tabev2\">3.6</td><td class=\"tb_region\" id=\"reg39\"> SERAM, INDONESIA</td><td class=\"comment updatetimeno\" id=\"upd39\" style=\"text-align:right;\">2020-02-08 11:50</td></tr>\n",
       " <tr class=\"ligne1 normal\" id=\"828088\" onclick=\"go_details(event,828088);\"><td class=\"tabev0\"></td><td class=\"tabev0\"></td><td class=\"tabev0\"></td><td class=\"tabev6\"><b><i style=\"display:none;\">earthquake</i><a href=\"/Earthquake/earthquake.php?id=828088\">2020-02-08   11:41:06.0</a></b><i class=\"ago\" id=\"ago40\">5hr 24min ago</i></td><td class=\"tabev1\">7.62 </td><td class=\"tabev2\">S  </td><td class=\"tabev1\">107.71 </td><td class=\"tabev2\">E  </td><td class=\"tabev3\">10</td><td class=\"tabev5\" id=\"magtyp40\"> M</td><td class=\"tabev2\">3.3</td><td class=\"tb_region\" id=\"reg40\"> JAVA, INDONESIA</td><td class=\"comment updatetimeno\" id=\"upd40\" style=\"text-align:right;\">2020-02-08 12:50</td></tr>\n",
       " <tr class=\"ligne2 normal\" id=\"828078\" onclick=\"go_details(event,828078);\"><td class=\"tabev0\"></td><td class=\"tabev0\"></td><td class=\"tabev0\"></td><td class=\"tabev6\"><b><i style=\"display:none;\">earthquake</i><a href=\"/Earthquake/earthquake.php?id=828078\">2020-02-08   11:37:21.2</a></b><i class=\"ago\" id=\"ago41\">5hr 28min ago</i></td><td class=\"tabev1\">38.37 </td><td class=\"tabev2\">N  </td><td class=\"tabev1\">39.13 </td><td class=\"tabev2\">E  </td><td class=\"tabev3\">10</td><td class=\"tabev5\" id=\"magtyp41\">ML</td><td class=\"tabev2\">2.5</td><td class=\"tb_region\" id=\"reg41\"> EASTERN TURKEY</td><td class=\"comment updatetimeno\" id=\"upd41\" style=\"text-align:right;\">2020-02-08 12:52</td></tr>\n",
       " <tr class=\"ligne1 normal\" id=\"828076\" onclick=\"go_details(event,828076);\"><td class=\"tabev0\"></td><td class=\"tabev0\"></td><td class=\"tabev0\"></td><td class=\"tabev6\"><b><i style=\"display:none;\">earthquake</i><a href=\"/Earthquake/earthquake.php?id=828076\">2020-02-08   11:25:33.0</a></b><i class=\"ago\" id=\"ago42\">5hr 40min ago</i></td><td class=\"tabev1\">2.79 </td><td class=\"tabev2\">S  </td><td class=\"tabev1\">129.92 </td><td class=\"tabev2\">E  </td><td class=\"tabev3\">10</td><td class=\"tabev5\" id=\"magtyp42\"> M</td><td class=\"tabev2\">4.0</td><td class=\"tb_region\" id=\"reg42\"> SERAM, INDONESIA</td><td class=\"comment updatetimeno\" id=\"upd42\" style=\"text-align:right;\">2020-02-08 11:31</td></tr>\n",
       " <tr class=\"ligne2 normal\" id=\"828093\" onclick=\"go_details(event,828093);\"><td class=\"tabev0\"></td><td class=\"tabev0\"></td><td class=\"tabev0\"></td><td class=\"tabev6\"><b><i style=\"display:none;\">earthquake</i><a href=\"/Earthquake/earthquake.php?id=828093\">2020-02-08   11:15:35.7</a></b><i class=\"ago\" id=\"ago43\">5hr 50min ago</i></td><td class=\"tabev1\">36.28 </td><td class=\"tabev2\">N  </td><td class=\"tabev1\">31.12 </td><td class=\"tabev2\">E  </td><td class=\"tabev3\">7</td><td class=\"tabev5\" id=\"magtyp43\">ML</td><td class=\"tabev2\">2.2</td><td class=\"tb_region\" id=\"reg43\"> WESTERN TURKEY</td><td class=\"comment updatetimeno\" id=\"upd43\" style=\"text-align:right;\">2020-02-08 12:57</td></tr>\n",
       " <tr class=\"ligne1 normal\" id=\"828075\" onclick=\"go_details(event,828075);\"><td class=\"tabev0\"></td><td class=\"tabev0\"></td><td class=\"tabev0\"></td><td class=\"tabev6\"><b><i style=\"display:none;\">earthquake</i><a href=\"/Earthquake/earthquake.php?id=828075\">2020-02-08   11:14:05.9</a></b><i class=\"ago\" id=\"ago44\">5hr 51min ago</i></td><td class=\"tabev1\">17.99 </td><td class=\"tabev2\">N  </td><td class=\"tabev1\">66.84 </td><td class=\"tabev2\">W  </td><td class=\"tabev3\">10</td><td class=\"tabev5\" id=\"magtyp44\">ML</td><td class=\"tabev2\">3.0</td><td class=\"tb_region\" id=\"reg44\"> PUERTO RICO</td><td class=\"comment updatetimeno\" id=\"upd44\" style=\"text-align:right;\">2020-02-08 11:29</td></tr>\n",
       " <tr class=\"ligne2 normal\" id=\"828074\" onclick=\"go_details(event,828074);\"><td class=\"tabev0\"></td><td class=\"tabev0\"></td><td class=\"tabev0\"></td><td class=\"tabev6\"><b><i style=\"display:none;\">earthquake</i><a href=\"/Earthquake/earthquake.php?id=828074\">2020-02-08   11:10:20.9</a></b><i class=\"ago\" id=\"ago45\">5hr 55min ago</i></td><td class=\"tabev1\">43.02 </td><td class=\"tabev2\">N  </td><td class=\"tabev1\">13.10 </td><td class=\"tabev2\">E  </td><td class=\"tabev3\">13</td><td class=\"tabev5\" id=\"magtyp45\">ML</td><td class=\"tabev2\">2.0</td><td class=\"tb_region\" id=\"reg45\"> CENTRAL ITALY</td><td class=\"comment updatetimeno\" id=\"upd45\" style=\"text-align:right;\">2020-02-08 11:19</td></tr>\n",
       " <tr class=\"ligne1 normal\" id=\"828083\" onclick=\"go_details(event,828083);\"><td class=\"tabev0\"></td><td class=\"tabev0\"></td><td class=\"tabev0\"></td><td class=\"tabev6\"><b><i style=\"display:none;\">earthquake</i><a href=\"/Earthquake/earthquake.php?id=828083\">2020-02-08   11:08:40.1</a></b><i class=\"ago\" id=\"ago46\">5hr 56min ago</i></td><td class=\"tabev1\">17.90 </td><td class=\"tabev2\">N  </td><td class=\"tabev1\">66.84 </td><td class=\"tabev2\">W  </td><td class=\"tabev3\">12</td><td class=\"tabev5\" id=\"magtyp46\">Md</td><td class=\"tabev2\">2.6</td><td class=\"tb_region\" id=\"reg46\"> PUERTO RICO REGION</td><td class=\"comment updatetimeno\" id=\"upd46\" style=\"text-align:right;\">2020-02-08 12:33</td></tr>\n",
       " <tr class=\"ligne2 normal\" id=\"828071\" onclick=\"go_details(event,828071);\"><td class=\"tabev0\"></td><td class=\"tabev0\"></td><td class=\"tabev0\"></td><td class=\"tabev6\"><b><i style=\"display:none;\">earthquake</i><a href=\"/Earthquake/earthquake.php?id=828071\">2020-02-08   10:54:15.1</a></b><i class=\"ago\" id=\"ago47\">6hr 11min ago</i></td><td class=\"tabev1\">35.20 </td><td class=\"tabev2\">N  </td><td class=\"tabev1\">28.04 </td><td class=\"tabev2\">E  </td><td class=\"tabev3\">2</td><td class=\"tabev5\" id=\"magtyp47\">ML</td><td class=\"tabev2\">3.2</td><td class=\"tb_region\" id=\"reg47\"> EASTERN MEDITERRANEAN SEA</td><td class=\"comment updatetimeno\" id=\"upd47\" style=\"text-align:right;\">2020-02-08 12:42</td></tr>\n",
       " <tr class=\"ligne1 normal\" id=\"828116\" onclick=\"go_details(event,828116);\"><td class=\"tabev0\"></td><td class=\"tabev0\"></td><td class=\"tabev0\"></td><td class=\"tabev6\"><b><i style=\"display:none;\">earthquake</i><a href=\"/Earthquake/earthquake.php?id=828116\">2020-02-08   10:52:21.0</a></b><i class=\"ago\" id=\"ago48\">6hr 13min ago</i></td><td class=\"tabev1\">19.43 </td><td class=\"tabev2\">N  </td><td class=\"tabev1\">102.17 </td><td class=\"tabev2\">W  </td><td class=\"tabev3\">24</td><td class=\"tabev5\" id=\"magtyp48\"> M</td><td class=\"tabev2\">3.5</td><td class=\"tb_region\" id=\"reg48\"> MICHOACAN, MEXICO</td><td class=\"comment updatetimeno\" id=\"upd48\" style=\"text-align:right;\">2020-02-08 14:30</td></tr>\n",
       " <tr class=\"ligne2 normal\" id=\"828069\" onclick=\"go_details(event,828069);\"><td class=\"tabev0\"></td><td class=\"tabev0\"></td><td class=\"tabev0\"></td><td class=\"tabev6\"><b><i style=\"display:none;\">earthquake</i><a href=\"/Earthquake/earthquake.php?id=828069\">2020-02-08   10:50:55.7</a></b><i class=\"ago\" id=\"ago49\">6hr 14min ago</i></td><td class=\"tabev1\">19.22 </td><td class=\"tabev2\">N  </td><td class=\"tabev1\">155.41 </td><td class=\"tabev2\">W  </td><td class=\"tabev3\">41</td><td class=\"tabev5\" id=\"magtyp49\">ML</td><td class=\"tabev2\">2.5</td><td class=\"tb_region\" id=\"reg49\"> ISLAND OF HAWAII, HAWAII</td><td class=\"comment updatetimeno\" id=\"upd49\" style=\"text-align:right;\">2020-02-08 11:14</td></tr>\n",
       " </tbody>]"
      ]
     },
     "execution_count": 23,
     "metadata": {},
     "output_type": "execute_result"
    }
   ],
   "source": [
    "# your code here\n",
    "html = requests.get(url).content\n",
    "soup = BeautifulSoup(html, \"lxml\")\n",
    "\n",
    "body = soup.find_all('tbody')\n",
    "titles = [element.find('img')['alt'] for element in body if element.find('img')][:10]"
   ]
  },
  {
   "cell_type": "code",
   "execution_count": null,
   "metadata": {},
   "outputs": [],
   "source": []
  }
 ],
 "metadata": {
  "kernelspec": {
   "display_name": "Python 3",
   "language": "python",
   "name": "python3"
  },
  "language_info": {
   "codemirror_mode": {
    "name": "ipython",
    "version": 3
   },
   "file_extension": ".py",
   "mimetype": "text/x-python",
   "name": "python",
   "nbconvert_exporter": "python",
   "pygments_lexer": "ipython3",
   "version": "3.7.4"
  }
 },
 "nbformat": 4,
 "nbformat_minor": 2
}
