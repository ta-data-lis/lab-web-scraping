{
 "cells": [
  {
   "cell_type": "markdown",
   "metadata": {},
   "source": [
    "# Web Scraping Lab\n",
    "\n",
    "You will find in this notebook some scrapy exercises to practise your scraping skills.\n",
    "\n",
    "**Tips:**\n",
    "\n",
    "- Check the response status code for each request to ensure you have obtained the intended content.\n",
    "- Print the response text in each request to understand the kind of info you are getting and its format.\n",
    "- Check for patterns in the response text to extract the data/info requested in each question.\n",
    "- Visit the urls below and take a look at their source code through Chrome DevTools. You'll need to identify the html tags, special class names, etc used in the html content you are expected to extract.\n",
    "\n",
    "**Resources**:\n",
    "- [Requests library](http://docs.python-requests.org/en/master/#the-user-guide)\n",
    "- [Beautiful Soup Doc](https://www.crummy.com/software/BeautifulSoup/bs4/doc/)\n",
    "- [Urllib](https://docs.python.org/3/library/urllib.html#module-urllib)\n",
    "- [re lib](https://docs.python.org/3/library/re.html)\n",
    "- [lxml lib](https://lxml.de/)\n",
    "- [Scrapy](https://scrapy.org/)\n",
    "- [List of HTTP status codes](https://en.wikipedia.org/wiki/List_of_HTTP_status_codes)\n",
    "- [HTML basics](http://www.simplehtmlguide.com/cheatsheet.php)\n",
    "- [CSS basics](https://www.cssbasics.com/#page_start)"
   ]
  },
  {
   "cell_type": "markdown",
   "metadata": {},
   "source": [
    "#### Below are the libraries and modules you may need. `requests`,  `BeautifulSoup` and `pandas` are already imported for you. If you prefer to use additional libraries feel free to do it."
   ]
  },
  {
   "cell_type": "code",
   "execution_count": 2,
   "metadata": {},
   "outputs": [],
   "source": [
    "import requests\n",
    "from bs4 import BeautifulSoup\n",
    "import pandas as pd\n",
    "import re"
   ]
  },
  {
   "cell_type": "markdown",
   "metadata": {},
   "source": [
    "#### Download, parse (using BeautifulSoup), and print the content from the Trending Developers page from GitHub:"
   ]
  },
  {
   "cell_type": "code",
   "execution_count": 116,
   "metadata": {},
   "outputs": [],
   "source": [
    "# get the url\n",
    "url = 'https://github.com/trending/developers'\n",
    "\n",
    "# get the response and cook the soup\n",
    "response = requests.get(url)\n",
    "soup = BeautifulSoup(response.content, \"html.parser\")"
   ]
  },
  {
   "cell_type": "markdown",
   "metadata": {},
   "source": [
    "- This is the class for the name of each developer\n",
    "![title](name_tag.png)"
   ]
  },
  {
   "cell_type": "markdown",
   "metadata": {},
   "source": [
    "#### Display the names of the trending developers retrieved in the previous step.\n",
    "\n",
    "Your output should be a Python list of developer names. Each name should not contain any html tag.\n",
    "\n",
    "**Instructions:**\n",
    "\n",
    "1. Find out the html tag and class names used for the developer names. You can achieve this using Chrome DevTools.\n",
    "\n",
    "1. Use BeautifulSoup to extract all the html elements that contain the developer names.\n",
    "\n",
    "1. Use string manipulation techniques to replace whitespaces and linebreaks (i.e. `\\n`) in the *text* of each html element. Use a list to store the clean names.\n",
    "\n",
    "1. Print the list of names.\n",
    "\n",
    "Your output should look like below:\n",
    "\n",
    "```\n",
    "['trimstray (@trimstray)',\n",
    " 'joewalnes (JoeWalnes)',\n",
    " 'charlax (Charles-AxelDein)',\n",
    " 'ForrestKnight (ForrestKnight)',\n",
    " 'revery-ui (revery-ui)',\n",
    " 'alibaba (Alibaba)',\n",
    " 'Microsoft (Microsoft)',\n",
    " 'github (GitHub)',\n",
    " 'facebook (Facebook)',\n",
    " 'boazsegev (Bo)',\n",
    " 'google (Google)',\n",
    " 'cloudfetch',\n",
    " 'sindresorhus (SindreSorhus)',\n",
    " 'tensorflow',\n",
    " 'apache (TheApacheSoftwareFoundation)',\n",
    " 'DevonCrawford (DevonCrawford)',\n",
    " 'ARMmbed (ArmMbed)',\n",
    " 'vuejs (vuejs)',\n",
    " 'fastai (fast.ai)',\n",
    " 'QiShaoXuan (Qi)',\n",
    " 'joelparkerhenderson (JoelParkerHenderson)',\n",
    " 'torvalds (LinusTorvalds)',\n",
    " 'CyC2018',\n",
    " 'komeiji-satori (神楽坂覚々)',\n",
    " 'script-8']\n",
    " ```"
   ]
  },
  {
   "cell_type": "code",
   "execution_count": 129,
   "metadata": {},
   "outputs": [
    {
     "data": {
      "text/plain": [
       "[('David Sherret', 'dsherret'),\n",
       " ('Nuno Maduro', 'nunomaduro'),\n",
       " ('Devon Govett', 'devongovett'),\n",
       " ('Linus Unnebäck', 'LinusU'),\n",
       " (\"Giampaolo Rodola'\", 'giampaolo'),\n",
       " ('Michiel Borkent', 'borkdude'),\n",
       " ('Kat Marchán', 'zkat'),\n",
       " ('Mike McQuaid', 'MikeMcQuaid'),\n",
       " ('Jérémy Barbet', 'jeremybarbet'),\n",
       " ('Barry vd. Heuvel', 'barryvdh'),\n",
       " ('Brian Flad', 'bflad'),\n",
       " ('Jeffrey Stedfast', 'jstedfast'),\n",
       " ('Jeremy Apthorp', 'nornagon'),\n",
       " ('Steven', 'styfle'),\n",
       " ('Alexandre ZANNI', 'noraj'),\n",
       " ('Pierre Krieger', 'tomaka'),\n",
       " ('Robert Mosolgo', 'rmosolgo'),\n",
       " ('Henrik Rydgård', 'hrydgard'),\n",
       " ('Rich Harris', 'Rich-Harris'),\n",
       " ('Kyle Conroy', 'kyleconroy'),\n",
       " ('Franck Nijhof', 'frenck'),\n",
       " ('Abhinay Omkar', 'abhiomkar'),\n",
       " ('Francois Zaninotto', 'fzaninotto'),\n",
       " ('Ross Wightman', 'rwightman'),\n",
       " ('John Howard', 'howardjohn')]"
      ]
     },
     "execution_count": 129,
     "metadata": {},
     "output_type": "execute_result"
    }
   ],
   "source": [
    "# find all people under h1 tag and additional class\n",
    "people_tags = soup.find_all('h1', {\"class\": \"h3 lh-condensed\"})\n",
    "\n",
    "# get the text of the child of each element in list\n",
    "people = [tag.a.text.strip() for tag in people_tags]\n",
    "\n",
    "people_nick_tags = soup.find_all('p', {\"class\": \"f4\"})\n",
    "people_nick = [tag.text.strip() for tag in people_nick_tags][1:]\n",
    "\n",
    "hot_devs = list(zip(people, people_nick))\n",
    "hot_devs"
   ]
  },
  {
   "cell_type": "markdown",
   "metadata": {},
   "source": [
    "#### Display the trending Python repositories in GitHub.\n",
    "\n",
    "The steps to solve this problem is similar to the previous one except that you need to find out the repository names instead of developer names."
   ]
  },
  {
   "cell_type": "code",
   "execution_count": 140,
   "metadata": {},
   "outputs": [],
   "source": [
    "# This is the url you will scrape in this exercise\n",
    "url = 'https://github.com/trending/python?since=daily'\n",
    "\n",
    "# get the response and cook the soup\n",
    "response = requests.get(url)\n",
    "soup = BeautifulSoup(response.content, \"html.parser\")"
   ]
  },
  {
   "cell_type": "code",
   "execution_count": 45,
   "metadata": {},
   "outputs": [
    {
     "data": {
      "text/plain": [
       "[('521xueweihan', 'HelloGitHub'),\n",
       " ('tychxn', 'jd-assistant'),\n",
       " ('Echowxsy', 'CMPEDUDownload'),\n",
       " ('cpnota', 'autonomous-learning-library'),\n",
       " ('NVlabs', 'stylegan2'),\n",
       " ('0xb0bb', 'karkinos'),\n",
       " ('kajweb', 'wqxuetang_downloader'),\n",
       " ('rwightman', 'pytorch-image-models'),\n",
       " ('jackzhenguo', 'python-small-examples'),\n",
       " ('maqp', 'tfc'),\n",
       " ('Tessellate-Imaging', 'Monk_Gui'),\n",
       " ('mbadry1', 'DeepLearning.ai-Summary'),\n",
       " ('pallets', 'flask'),\n",
       " ('RaRe-Technologies', 'gensim'),\n",
       " ('google-research', 'lasertagger'),\n",
       " ('harismuneer', 'Ultimate-Facebook-Scraper'),\n",
       " ('aj-4', 'tinder-swipe-bot'),\n",
       " ('gothinkster', 'django-realworld-example-app'),\n",
       " ('jcjohnson', 'pytorch-examples'),\n",
       " ('PyJun', 'Mooc_Downloader'),\n",
       " ('statsmodels', 'statsmodels'),\n",
       " ('IBM', 'AIX360'),\n",
       " ('hudson-and-thames', 'mlfinlab'),\n",
       " ('jwyang', 'faster-rcnn.pytorch'),\n",
       " ('awslabs', 'gluon-ts')]"
      ]
     },
     "execution_count": 45,
     "metadata": {},
     "output_type": "execute_result"
    }
   ],
   "source": [
    "# find all repositories under h1 tag and additional class\n",
    "repos_tags = soup.find_all('h1', {\"class\": \"h3 lh-condensed\"})\n",
    "\n",
    "# get the text of the child of each element in list\n",
    "repos_users = [tag.span.text.strip()[:-2] for tag in repos_tags]\n",
    "repos_names = [tag.a.text.replace('\\n', '').split('/')[-1].strip() for tag in repos_tags]\n",
    "\n",
    "repos = list(zip(repos_users, repos_names))\n",
    "repos"
   ]
  },
  {
   "cell_type": "markdown",
   "metadata": {},
   "source": [
    "#### Display all the image links from Walt Disney wikipedia page."
   ]
  },
  {
   "cell_type": "code",
   "execution_count": 177,
   "metadata": {},
   "outputs": [],
   "source": [
    "# This is the url you will scrape in this exercise\n",
    "url = 'https://en.wikipedia.org/wiki/Walt_Disney'\n",
    "response = requests.get(url)\n",
    "soup = BeautifulSoup(response.content, \"html.parser\")"
   ]
  },
  {
   "cell_type": "code",
   "execution_count": 178,
   "metadata": {
    "scrolled": true
   },
   "outputs": [
    {
     "data": {
      "text/plain": [
       "['//upload.wikimedia.org/wikipedia/en/thumb/e/e7/Cscr-featured.svg/20px-Cscr-featured.svg.png',\n",
       " '//upload.wikimedia.org/wikipedia/en/thumb/1/1b/Semi-protection-shackle.svg/20px-Semi-protection-shackle.svg.png',\n",
       " '//upload.wikimedia.org/wikipedia/commons/thumb/d/df/Walt_Disney_1946.JPG/220px-Walt_Disney_1946.JPG',\n",
       " '//upload.wikimedia.org/wikipedia/commons/thumb/8/87/Walt_Disney_1942_signature.svg/150px-Walt_Disney_1942_signature.svg.png',\n",
       " '//upload.wikimedia.org/wikipedia/commons/thumb/c/c4/Walt_Disney_envelope_ca._1921.jpg/220px-Walt_Disney_envelope_ca._1921.jpg',\n",
       " '//upload.wikimedia.org/wikipedia/commons/thumb/4/4d/Newman_Laugh-O-Gram_%281921%29.webm/220px-seek%3D2-Newman_Laugh-O-Gram_%281921%29.webm.jpg',\n",
       " '//upload.wikimedia.org/wikipedia/commons/thumb/0/0d/Trolley_Troubles_poster.jpg/170px-Trolley_Troubles_poster.jpg',\n",
       " '//upload.wikimedia.org/wikipedia/commons/thumb/7/71/Walt_Disney_and_his_cartoon_creation_%22Mickey_Mouse%22_-_National_Board_of_Review_Magazine.jpg/170px-Walt_Disney_and_his_cartoon_creation_%22Mickey_Mouse%22_-_National_Board_of_Review_Magazine.jpg',\n",
       " '//upload.wikimedia.org/wikipedia/en/thumb/4/4e/Steamboat-willie.jpg/170px-Steamboat-willie.jpg',\n",
       " '//upload.wikimedia.org/wikipedia/commons/thumb/5/57/Walt_Disney_1935.jpg/170px-Walt_Disney_1935.jpg',\n",
       " '//upload.wikimedia.org/wikipedia/commons/thumb/c/cd/Walt_Disney_Snow_white_1937_trailer_screenshot_%2813%29.jpg/220px-Walt_Disney_Snow_white_1937_trailer_screenshot_%2813%29.jpg',\n",
       " '//upload.wikimedia.org/wikipedia/commons/thumb/1/15/Disney_drawing_goofy.jpg/170px-Disney_drawing_goofy.jpg',\n",
       " '//upload.wikimedia.org/wikipedia/commons/thumb/1/13/DisneySchiphol1951.jpg/220px-DisneySchiphol1951.jpg',\n",
       " '//upload.wikimedia.org/wikipedia/commons/thumb/8/8c/WaltDisneyplansDisneylandDec1954.jpg/220px-WaltDisneyplansDisneylandDec1954.jpg',\n",
       " '//upload.wikimedia.org/wikipedia/commons/thumb/f/ff/Walt_disney_portrait_right.jpg/170px-Walt_disney_portrait_right.jpg',\n",
       " '//upload.wikimedia.org/wikipedia/commons/thumb/1/1a/Walt_Disney_Grave.JPG/170px-Walt_Disney_Grave.JPG',\n",
       " '//upload.wikimedia.org/wikipedia/commons/thumb/2/2d/Roy_O._Disney_with_Company_at_Press_Conference.jpg/170px-Roy_O._Disney_with_Company_at_Press_Conference.jpg',\n",
       " '//upload.wikimedia.org/wikipedia/commons/thumb/a/a9/Disney_Display_Case.JPG/170px-Disney_Display_Case.JPG',\n",
       " '//upload.wikimedia.org/wikipedia/commons/thumb/6/6c/Disney1968.jpg/170px-Disney1968.jpg',\n",
       " '//upload.wikimedia.org/wikipedia/en/thumb/8/8a/OOjs_UI_icon_edit-ltr-progressive.svg/10px-OOjs_UI_icon_edit-ltr-progressive.svg.png',\n",
       " '//upload.wikimedia.org/wikipedia/commons/thumb/4/44/The_Walt_Disney_Company_Logo.svg/120px-The_Walt_Disney_Company_Logo.svg.png',\n",
       " '//upload.wikimedia.org/wikipedia/commons/thumb/d/da/Animation_disc.svg/30px-Animation_disc.svg.png',\n",
       " '//upload.wikimedia.org/wikipedia/en/thumb/6/69/P_vip.svg/29px-P_vip.svg.png',\n",
       " '//upload.wikimedia.org/wikipedia/commons/thumb/1/1a/Magic_Kingdom_castle.jpg/24px-Magic_Kingdom_castle.jpg',\n",
       " '//upload.wikimedia.org/wikipedia/en/thumb/e/e7/Video-x-generic.svg/30px-Video-x-generic.svg.png',\n",
       " '//upload.wikimedia.org/wikipedia/commons/thumb/a/a3/Flag_of_Los_Angeles_County%2C_California.svg/30px-Flag_of_Los_Angeles_County%2C_California.svg.png',\n",
       " '//upload.wikimedia.org/wikipedia/commons/thumb/8/8c/Blank_television_set.svg/30px-Blank_television_set.svg.png',\n",
       " '//upload.wikimedia.org/wikipedia/en/thumb/a/a4/Flag_of_the_United_States.svg/30px-Flag_of_the_United_States.svg.png',\n",
       " '//upload.wikimedia.org/wikipedia/en/thumb/4/4a/Commons-logo.svg/22px-Commons-logo.svg.png',\n",
       " '//upload.wikimedia.org/wikipedia/commons/thumb/f/fa/Wikiquote-logo.svg/25px-Wikiquote-logo.svg.png',\n",
       " '//upload.wikimedia.org/wikipedia/commons/thumb/f/ff/Wikidata-logo.svg/30px-Wikidata-logo.svg.png',\n",
       " '//upload.wikimedia.org/wikipedia/en/thumb/8/8a/OOjs_UI_icon_edit-ltr-progressive.svg/10px-OOjs_UI_icon_edit-ltr-progressive.svg.png',\n",
       " '//en.wikipedia.org/wiki/Special:CentralAutoLogin/start?type=1x1',\n",
       " '/static/images/wikimedia-button.png',\n",
       " '/static/images/poweredby_mediawiki_88x31.png']"
      ]
     },
     "execution_count": 178,
     "metadata": {},
     "output_type": "execute_result"
    }
   ],
   "source": [
    "# find all repositories under img tag\n",
    "find_main_page = soup.find_all('img')\n",
    "\n",
    "# get the link\n",
    "images = [tag.get('src') for tag in find_main_page]\n",
    "images"
   ]
  },
  {
   "cell_type": "markdown",
   "metadata": {},
   "source": [
    "# Working on actually displaying the images in the notebook\n",
    "from IPython.display import Image\n",
    "from IPython.display import display\n",
    "\n",
    "x = []\n",
    "for img in images:\n",
    "    x += [Image(url= img)]\n",
    "\n",
    "display(x)"
   ]
  },
  {
   "cell_type": "markdown",
   "metadata": {},
   "source": [
    "#### Find the number of titles that have changed in the United States Code since its last release point."
   ]
  },
  {
   "cell_type": "code",
   "execution_count": 85,
   "metadata": {},
   "outputs": [],
   "source": [
    "# This is the url you will scrape in this exercise\n",
    "url = 'http://uscode.house.gov/download/download.shtml'\n",
    "response = requests.get(url)\n",
    "soup = BeautifulSoup(response.content, \"html.parser\")"
   ]
  },
  {
   "cell_type": "code",
   "execution_count": 98,
   "metadata": {},
   "outputs": [
    {
     "data": {
      "text/plain": [
       "['Title 1 - General Provisions',\n",
       " 'Title 2 - The Congress',\n",
       " 'Title 3 - The President',\n",
       " 'Title 4 - Flag and Seal, Seat of Government, and the States',\n",
       " 'Title 5 - Government Organization and Employees',\n",
       " 'Title 6 - Domestic Security',\n",
       " 'Title 7 - Agriculture',\n",
       " 'Title 8 - Aliens and Nationality',\n",
       " 'Title 9 - Arbitration',\n",
       " 'Title 10 - Armed Forces',\n",
       " 'Title 11 - Bankruptcy',\n",
       " 'Title 12 - Banks and Banking',\n",
       " 'Title 13 - Census',\n",
       " 'Title 14 - Coast Guard',\n",
       " 'Title 15 - Commerce and Trade',\n",
       " 'Title 16 - Conservation',\n",
       " 'Title 17 - Copyrights',\n",
       " 'Title 19 - Customs Duties',\n",
       " 'Title 21 - Food and Drugs',\n",
       " 'Title 22 - Foreign Relations and Intercourse',\n",
       " 'Title 23 - Highways',\n",
       " 'Title 24 - Hospitals and Asylums',\n",
       " 'Title 25 - Indians',\n",
       " 'Title 27 - Intoxicating Liquors',\n",
       " 'Title 28 - Judiciary and Judicial Procedure',\n",
       " 'Title 29 - Labor',\n",
       " 'Title 30 - Mineral Lands and Mining',\n",
       " 'Title 31 - Money and Finance',\n",
       " 'Title 32 - National Guard',\n",
       " 'Title 33 - Navigation and Navigable Waters',\n",
       " 'Title 34 - Crime Control and Law Enforcement',\n",
       " 'Title 35 - Patents',\n",
       " 'Title 36 - Patriotic and National Observances, Ceremonies, and Organizations',\n",
       " 'Title 37 - Pay and Allowances of the Uniformed Services',\n",
       " \"Title 38 - Veterans' Benefits\",\n",
       " 'Title 39 - Postal Service',\n",
       " 'Title 40 - Public Buildings, Property, and Works',\n",
       " 'Title 41 - Public Contracts',\n",
       " 'Title 42 - The Public Health and Welfare',\n",
       " 'Title 43 - Public Lands',\n",
       " 'Title 44 - Public Printing and Documents',\n",
       " 'Title 45 - Railroads',\n",
       " 'Title 46 - Shipping',\n",
       " 'Title 47 - Telecommunications',\n",
       " 'Title 48 - Territories and Insular Possessions',\n",
       " 'Title 49 - Transportation',\n",
       " 'Title 50 - War and National Defense',\n",
       " 'Title 51 - National and Commercial Space Programs',\n",
       " 'Title 52 - Voting and Elections',\n",
       " 'Title 53 [Reserved]',\n",
       " 'Title 54 - National Park Service and Related Programs']"
      ]
     },
     "execution_count": 98,
     "metadata": {},
     "output_type": "execute_result"
    }
   ],
   "source": [
    "# find all repositories under img tag\n",
    "find_main_page = soup.find_all('div', {'class':'usctitle'})\n",
    "\n",
    "titles = [tag.text.replace('٭', '').strip() for tag in find_main_page if \"Title\" in tag.text]\n",
    "titles"
   ]
  },
  {
   "cell_type": "markdown",
   "metadata": {},
   "source": [
    "#### Find a Python list with the top ten FBI's Most Wanted names."
   ]
  },
  {
   "cell_type": "code",
   "execution_count": 131,
   "metadata": {},
   "outputs": [],
   "source": [
    "# This is the url you will scrape in this exercise\n",
    "url = 'https://www.fbi.gov/wanted/topten'\n",
    "response = requests.get(url)\n",
    "soup = BeautifulSoup(response.content, \"html.parser\")"
   ]
  },
  {
   "cell_type": "code",
   "execution_count": 139,
   "metadata": {},
   "outputs": [
    {
     "data": {
      "text/plain": [
       "['Jason Derek Brown',\n",
       " 'Alexis Flores',\n",
       " 'Eugene Palmer',\n",
       " 'Santiago Villalba Mederos',\n",
       " 'Rafael Caro-quintero',\n",
       " 'Robert William Fisher',\n",
       " 'Bhadreshkumar Chetanbhai Patel',\n",
       " 'Arnoldo Jimenez',\n",
       " 'Alejandro Rosales Castillo',\n",
       " 'Yaser Abdel Said']"
      ]
     },
     "execution_count": 139,
     "metadata": {},
     "output_type": "execute_result"
    }
   ],
   "source": [
    "# your code here\n",
    "wanted_tags = soup.find_all('h3', {'class': 'title'})\n",
    "\n",
    "most_wanted = [' '.join([x.capitalize() for x in tag.text.strip().lower().split()]) for tag in wanted_tags]\n",
    "most_wanted"
   ]
  },
  {
   "cell_type": "markdown",
   "metadata": {},
   "source": [
    "#### Count the number of tweets by a given Twitter account.\n",
    "Ask the user for the handle (@handle) of a twitter account. You will need to include a ***try/except block*** for account names not found. \n",
    "<br>***Hint:*** the program should count the number of tweets for any provided account."
   ]
  },
  {
   "cell_type": "code",
   "execution_count": 14,
   "metadata": {},
   "outputs": [],
   "source": [
    "# This is the url you will scrape in this exercise \n",
    "# You will need to add the account credentials to this url\n",
    "url = 'https://twitter.com/'"
   ]
  },
  {
   "cell_type": "code",
   "execution_count": 15,
   "metadata": {},
   "outputs": [],
   "source": [
    "# your code here"
   ]
  },
  {
   "cell_type": "markdown",
   "metadata": {},
   "source": [
    "#### Number of followers of a given twitter account\n",
    "Ask the user for the handle (@handle) of a twitter account. You will need to include a ***try/except block*** for account names not found. \n",
    "<br>***Hint:*** the program should count the followers for any provided account."
   ]
  },
  {
   "cell_type": "code",
   "execution_count": 16,
   "metadata": {},
   "outputs": [],
   "source": [
    "# This is the url you will scrape in this exercise \n",
    "# You will need to add the account credentials to this url\n",
    "url = 'https://twitter.com/'"
   ]
  },
  {
   "cell_type": "code",
   "execution_count": 17,
   "metadata": {},
   "outputs": [],
   "source": [
    "# your code here"
   ]
  },
  {
   "cell_type": "markdown",
   "metadata": {},
   "source": [
    "#### List all language names and number of related articles in the order they appear in wikipedia.org."
   ]
  },
  {
   "cell_type": "code",
   "execution_count": 141,
   "metadata": {},
   "outputs": [],
   "source": [
    "# This is the url you will scrape in this exercise\n",
    "url = 'https://www.wikipedia.org/'\n",
    "response = requests.get(url)\n",
    "soup = BeautifulSoup(response.content, \"html.parser\")"
   ]
  },
  {
   "cell_type": "code",
   "execution_count": 151,
   "metadata": {},
   "outputs": [
    {
     "data": {
      "text/plain": [
       "[('English', '5.994.000+ articles'),\n",
       " ('日本語', '1.185.000+ 記事'),\n",
       " ('Deutsch', '2.385.000+ Artikel'),\n",
       " ('Español', '1.571.000+ artículos'),\n",
       " ('Русский', '1.590.000+ статей'),\n",
       " ('Français', '2.171.000+ articles'),\n",
       " ('Italiano', '1.576.000+ voci'),\n",
       " ('中文', '1.090.000+ 條目'),\n",
       " ('Português', '1.018.000+ artigos'),\n",
       " ('Polski', '1.379.000+ haseł')]"
      ]
     },
     "execution_count": 151,
     "metadata": {},
     "output_type": "execute_result"
    }
   ],
   "source": [
    "# your code here\n",
    "languages_tags = soup.find_all('div', {'class': 'central-featured-lang'})\n",
    "\n",
    "languages = [tag.strong.text for tag in languages_tags]\n",
    "articles = [tag.small.text.replace('\\xa0', '.') for tag in languages_tags]\n",
    "\n",
    "lang_art = list(zip(languages, articles))\n",
    "lang_art"
   ]
  },
  {
   "cell_type": "markdown",
   "metadata": {},
   "source": [
    "#### A list with the different kind of datasets available in data.gov.uk."
   ]
  },
  {
   "cell_type": "code",
   "execution_count": 158,
   "metadata": {},
   "outputs": [],
   "source": [
    "# This is the url you will scrape in this exercise\n",
    "url = 'https://data.gov.uk/'\n",
    "response = requests.get(url)\n",
    "soup = BeautifulSoup(response.content, \"html.parser\")"
   ]
  },
  {
   "cell_type": "code",
   "execution_count": 159,
   "metadata": {},
   "outputs": [
    {
     "data": {
      "text/plain": [
       "['Business and economy',\n",
       " 'Crime and justice',\n",
       " 'Defence',\n",
       " 'Education',\n",
       " 'Environment',\n",
       " 'Government',\n",
       " 'Government spending',\n",
       " 'Health',\n",
       " 'Mapping',\n",
       " 'Society',\n",
       " 'Towns and cities',\n",
       " 'Transport']"
      ]
     },
     "execution_count": 159,
     "metadata": {},
     "output_type": "execute_result"
    }
   ],
   "source": [
    "dataset_tags = soup.find_all('h2')\n",
    "\n",
    "datasets = [tag.a.text for tag in dataset_tags]\n",
    "datasets"
   ]
  },
  {
   "cell_type": "markdown",
   "metadata": {},
   "source": [
    "#### Display the top 10 languages by number of native speakers stored in a pandas dataframe."
   ]
  },
  {
   "cell_type": "code",
   "execution_count": 248,
   "metadata": {},
   "outputs": [],
   "source": [
    "# This is the url you will scrape in this exercise\n",
    "url = 'https://en.wikipedia.org/wiki/List_of_languages_by_number_of_native_speakers'\n",
    "response = requests.get(url)\n",
    "soup = BeautifulSoup(response.content, \"html.parser\")"
   ]
  },
  {
   "cell_type": "code",
   "execution_count": 255,
   "metadata": {},
   "outputs": [
    {
     "data": {
      "text/html": [
       "<div>\n",
       "<style scoped>\n",
       "    .dataframe tbody tr th:only-of-type {\n",
       "        vertical-align: middle;\n",
       "    }\n",
       "\n",
       "    .dataframe tbody tr th {\n",
       "        vertical-align: top;\n",
       "    }\n",
       "\n",
       "    .dataframe thead th {\n",
       "        text-align: right;\n",
       "    }\n",
       "</style>\n",
       "<table border=\"1\" class=\"dataframe\">\n",
       "  <thead>\n",
       "    <tr style=\"text-align: right;\">\n",
       "      <th></th>\n",
       "      <th>Rank</th>\n",
       "      <th>Language</th>\n",
       "      <th>Speakers(millions)</th>\n",
       "      <th>% of the World population(March 2019)</th>\n",
       "      <th>Language familyBranch</th>\n",
       "    </tr>\n",
       "  </thead>\n",
       "  <tbody>\n",
       "    <tr>\n",
       "      <td>0</td>\n",
       "      <td>1</td>\n",
       "      <td>Mandarin Chinese</td>\n",
       "      <td>918</td>\n",
       "      <td>11.922</td>\n",
       "      <td>Sino-TibetanSinitic</td>\n",
       "    </tr>\n",
       "    <tr>\n",
       "      <td>1</td>\n",
       "      <td>2</td>\n",
       "      <td>Spanish</td>\n",
       "      <td>480</td>\n",
       "      <td>5.994</td>\n",
       "      <td>Indo-EuropeanRomance</td>\n",
       "    </tr>\n",
       "    <tr>\n",
       "      <td>2</td>\n",
       "      <td>3</td>\n",
       "      <td>English</td>\n",
       "      <td>379</td>\n",
       "      <td>4.922</td>\n",
       "      <td>Indo-EuropeanGermanic</td>\n",
       "    </tr>\n",
       "    <tr>\n",
       "      <td>3</td>\n",
       "      <td>4</td>\n",
       "      <td>Hindi (Sanskritised Hindustani)</td>\n",
       "      <td>341</td>\n",
       "      <td>4.429</td>\n",
       "      <td>Indo-EuropeanIndo-Aryan</td>\n",
       "    </tr>\n",
       "    <tr>\n",
       "      <td>4</td>\n",
       "      <td>5</td>\n",
       "      <td>Bengali</td>\n",
       "      <td>228</td>\n",
       "      <td>2.961</td>\n",
       "      <td>Indo-EuropeanIndo-Aryan</td>\n",
       "    </tr>\n",
       "    <tr>\n",
       "      <td>...</td>\n",
       "      <td>...</td>\n",
       "      <td>...</td>\n",
       "      <td>...</td>\n",
       "      <td>...</td>\n",
       "      <td>...</td>\n",
       "    </tr>\n",
       "    <tr>\n",
       "      <td>86</td>\n",
       "      <td>87</td>\n",
       "      <td>Czech</td>\n",
       "      <td>10.7</td>\n",
       "      <td>0.139</td>\n",
       "      <td>Indo-EuropeanBalto-Slavic</td>\n",
       "    </tr>\n",
       "    <tr>\n",
       "      <td>87</td>\n",
       "      <td>88</td>\n",
       "      <td>Taʽizzi-Adeni Arabic</td>\n",
       "      <td>10.5</td>\n",
       "      <td>0.136</td>\n",
       "      <td>AfroasiaticSemitic</td>\n",
       "    </tr>\n",
       "    <tr>\n",
       "      <td>88</td>\n",
       "      <td>89</td>\n",
       "      <td>Uyghur</td>\n",
       "      <td>10.4</td>\n",
       "      <td>0.135</td>\n",
       "      <td>TurkicKarluk</td>\n",
       "    </tr>\n",
       "    <tr>\n",
       "      <td>89</td>\n",
       "      <td>90</td>\n",
       "      <td>Min Dong Chinese</td>\n",
       "      <td>10.3</td>\n",
       "      <td>0.134</td>\n",
       "      <td>Sino-TibetanSinitic</td>\n",
       "    </tr>\n",
       "    <tr>\n",
       "      <td>90</td>\n",
       "      <td>91</td>\n",
       "      <td>Sylheti</td>\n",
       "      <td>10.3</td>\n",
       "      <td>0.134</td>\n",
       "      <td>Indo-EuropeanIndo-Aryan</td>\n",
       "    </tr>\n",
       "  </tbody>\n",
       "</table>\n",
       "<p>91 rows × 5 columns</p>\n",
       "</div>"
      ],
      "text/plain": [
       "   Rank                         Language Speakers(millions)  \\\n",
       "0     1                 Mandarin Chinese                918   \n",
       "1     2                          Spanish                480   \n",
       "2     3                          English                379   \n",
       "3     4  Hindi (Sanskritised Hindustani)                341   \n",
       "4     5                          Bengali                228   \n",
       "..  ...                              ...                ...   \n",
       "86   87                            Czech               10.7   \n",
       "87   88             Taʽizzi-Adeni Arabic               10.5   \n",
       "88   89                           Uyghur               10.4   \n",
       "89   90                 Min Dong Chinese               10.3   \n",
       "90   91                          Sylheti               10.3   \n",
       "\n",
       "   % of the World population(March 2019)      Language familyBranch  \n",
       "0                                 11.922        Sino-TibetanSinitic  \n",
       "1                                  5.994       Indo-EuropeanRomance  \n",
       "2                                  4.922      Indo-EuropeanGermanic  \n",
       "3                                  4.429    Indo-EuropeanIndo-Aryan  \n",
       "4                                  2.961    Indo-EuropeanIndo-Aryan  \n",
       "..                                   ...                        ...  \n",
       "86                                 0.139  Indo-EuropeanBalto-Slavic  \n",
       "87                                 0.136         AfroasiaticSemitic  \n",
       "88                                 0.135               TurkicKarluk  \n",
       "89                                 0.134        Sino-TibetanSinitic  \n",
       "90                                 0.134    Indo-EuropeanIndo-Aryan  \n",
       "\n",
       "[91 rows x 5 columns]"
      ]
     },
     "execution_count": 255,
     "metadata": {},
     "output_type": "execute_result"
    }
   ],
   "source": [
    "table = soup.find_all('table', attrs = {'class':'wikitable'})[0]\n",
    "rows = table.find_all('td')\n",
    "\n",
    "columns = table.find_all('th')\n",
    "\n",
    "language_table = [tag.text.replace('\\n', '')[:-3] if '[' in tag.text.replace('\\n', '') else tag.text.replace('\\n', '') for tag in rows]\n",
    "\n",
    "columns = [tag.text.replace('\\n', '')[:-3] if '[' in tag.text.replace('\\n', '') else tag.text.replace('\\n', '') for tag in columns]\n",
    "\n",
    "languages_dict = {columns[i]:language_table[i::len(columns)] for i in range(len(columns))}\n",
    "\n",
    "languages_df = pd.DataFrame(languages_dict)\n",
    "languages_df"
   ]
  },
  {
   "cell_type": "markdown",
   "metadata": {},
   "source": [
    "#### Scrape a certain number of tweets of a given Twitter account."
   ]
  },
  {
   "cell_type": "code",
   "execution_count": 24,
   "metadata": {},
   "outputs": [],
   "source": [
    "# This is the url you will scrape in this exercise \n",
    "# You will need to add the account credentials to this url\n",
    "url = 'https://twitter.com/'"
   ]
  },
  {
   "cell_type": "code",
   "execution_count": 25,
   "metadata": {},
   "outputs": [],
   "source": [
    "# your code here"
   ]
  },
  {
   "cell_type": "markdown",
   "metadata": {},
   "source": [
    "#### Display IMDB's top 250 data (movie name, initial release, director name and stars) as a pandas dataframe."
   ]
  },
  {
   "cell_type": "code",
   "execution_count": 3,
   "metadata": {},
   "outputs": [],
   "source": [
    "# This is the url you will scrape in this exercise \n",
    "url = 'https://www.imdb.com/chart/top'\n",
    "response = requests.get(url)\n",
    "soup = BeautifulSoup(response.content, \"html.parser\")"
   ]
  },
  {
   "cell_type": "code",
   "execution_count": 96,
   "metadata": {},
   "outputs": [
    {
     "data": {
      "text/plain": [
       "['Frank Darabont (dir.), Tim Robbins, Morgan Freeman',\n",
       " 'Francis Ford Coppola (dir.), Marlon Brando, Al Pacino',\n",
       " 'Francis Ford Coppola (dir.), Al Pacino, Robert De Niro',\n",
       " 'Christopher Nolan (dir.), Christian Bale, Heath Ledger',\n",
       " 'Sidney Lumet (dir.), Henry Fonda, Lee J. Cobb',\n",
       " 'Steven Spielberg (dir.), Liam Neeson, Ralph Fiennes',\n",
       " 'Peter Jackson (dir.), Elijah Wood, Viggo Mortensen',\n",
       " 'Quentin Tarantino (dir.), John Travolta, Uma Thurman',\n",
       " 'Sergio Leone (dir.), Clint Eastwood, Eli Wallach',\n",
       " 'Peter Jackson (dir.), Elijah Wood, Ian McKellen',\n",
       " 'David Fincher (dir.), Brad Pitt, Edward Norton',\n",
       " 'Robert Zemeckis (dir.), Tom Hanks, Robin Wright',\n",
       " 'Christopher Nolan (dir.), Leonardo DiCaprio, Joseph Gordon-Levitt',\n",
       " 'Irvin Kershner (dir.), Mark Hamill, Harrison Ford',\n",
       " 'Peter Jackson (dir.), Elijah Wood, Ian McKellen',\n",
       " 'Lana Wachowski (dir.), Keanu Reeves, Laurence Fishburne',\n",
       " 'Martin Scorsese (dir.), Robert De Niro, Ray Liotta',\n",
       " 'Milos Forman (dir.), Jack Nicholson, Louise Fletcher',\n",
       " 'Akira Kurosawa (dir.), Toshirô Mifune, Takashi Shimura',\n",
       " 'David Fincher (dir.), Morgan Freeman, Brad Pitt',\n",
       " 'Fernando Meirelles (dir.), Alexandre Rodrigues, Leandro Firmino',\n",
       " 'Roberto Benigni (dir.), Roberto Benigni, Nicoletta Braschi',\n",
       " 'Jonathan Demme (dir.), Jodie Foster, Anthony Hopkins',\n",
       " 'Frank Capra (dir.), James Stewart, Donna Reed',\n",
       " 'George Lucas (dir.), Mark Hamill, Harrison Ford',\n",
       " 'Bong Joon Ho (dir.), Kang-ho Song, Sun-kyun Lee',\n",
       " 'Steven Spielberg (dir.), Tom Hanks, Matt Damon',\n",
       " 'Hayao Miyazaki (dir.), Daveigh Chase, Suzanne Pleshette',\n",
       " 'Frank Darabont (dir.), Tom Hanks, Michael Clarke Duncan',\n",
       " 'Christopher Nolan (dir.), Matthew McConaughey, Anne Hathaway',\n",
       " 'Luc Besson (dir.), Jean Reno, Gary Oldman',\n",
       " 'Bryan Singer (dir.), Kevin Spacey, Gabriel Byrne',\n",
       " 'Masaki Kobayashi (dir.), Tatsuya Nakadai, Akira Ishihama',\n",
       " 'Todd Phillips (dir.), Joaquin Phoenix, Robert De Niro',\n",
       " 'Roger Allers (dir.), Matthew Broderick, Jeremy Irons',\n",
       " 'Tony Kaye (dir.), Edward Norton, Edward Furlong',\n",
       " 'James Cameron (dir.), Arnold Schwarzenegger, Linda Hamilton',\n",
       " 'Robert Zemeckis (dir.), Michael J. Fox, Christopher Lloyd',\n",
       " 'Roman Polanski (dir.), Adrien Brody, Thomas Kretschmann',\n",
       " 'Charles Chaplin (dir.), Charles Chaplin, Paulette Goddard',\n",
       " 'Alfred Hitchcock (dir.), Anthony Perkins, Janet Leigh',\n",
       " 'Ridley Scott (dir.), Russell Crowe, Joaquin Phoenix',\n",
       " 'Charles Chaplin (dir.), Charles Chaplin, Virginia Cherrill',\n",
       " 'Olivier Nakache (dir.), François Cluzet, Omar Sy',\n",
       " 'Martin Scorsese (dir.), Leonardo DiCaprio, Matt Damon',\n",
       " 'Damien Chazelle (dir.), Miles Teller, J.K. Simmons',\n",
       " 'Sergio Leone (dir.), Henry Fonda, Charles Bronson',\n",
       " 'Christopher Nolan (dir.), Christian Bale, Hugh Jackman',\n",
       " 'Sam Mendes (dir.), Dean-Charles Chapman, George MacKay',\n",
       " 'Michael Curtiz (dir.), Humphrey Bogart, Ingrid Bergman',\n",
       " 'Isao Takahata (dir.), Tsutomu Tatsumi, Ayano Shiraishi',\n",
       " 'Alfred Hitchcock (dir.), James Stewart, Grace Kelly',\n",
       " 'Giuseppe Tornatore (dir.), Philippe Noiret, Enzo Cannavale',\n",
       " 'Ridley Scott (dir.), Sigourney Weaver, Tom Skerritt',\n",
       " 'Steven Spielberg (dir.), Harrison Ford, Karen Allen',\n",
       " 'Francis Ford Coppola (dir.), Martin Sheen, Marlon Brando',\n",
       " 'Christopher Nolan (dir.), Guy Pearce, Carrie-Anne Moss',\n",
       " 'Charles Chaplin (dir.), Charles Chaplin, Paulette Goddard',\n",
       " 'Florian Henckel von Donnersmarck (dir.), Ulrich Mühe, Martina Gedeck',\n",
       " 'Quentin Tarantino (dir.), Jamie Foxx, Christoph Waltz',\n",
       " 'Anthony Russo (dir.), Robert Downey Jr., Chris Hemsworth',\n",
       " 'Stanley Kubrick (dir.), Jack Nicholson, Shelley Duvall',\n",
       " 'Stanley Kubrick (dir.), Kirk Douglas, Ralph Meeker',\n",
       " 'Anthony Russo (dir.), Robert Downey Jr., Chris Evans',\n",
       " 'Andrew Stanton (dir.), Ben Burtt, Elissa Knight',\n",
       " 'Bob Persichetti (dir.), Shameik Moore, Jake Johnson',\n",
       " 'Hayao Miyazaki (dir.), Yôji Matsuda, Yuriko Ishida',\n",
       " 'Billy Wilder (dir.), William Holden, Gloria Swanson',\n",
       " 'Stanley Kubrick (dir.), Peter Sellers, George C. Scott',\n",
       " 'Chan-wook Park (dir.), Min-sik Choi, Ji-Tae Yoo',\n",
       " 'Billy Wilder (dir.), Tyrone Power, Marlene Dietrich',\n",
       " 'Christopher Nolan (dir.), Christian Bale, Tom Hardy',\n",
       " 'Sergio Leone (dir.), Robert De Niro, James Woods',\n",
       " 'James Cameron (dir.), Sigourney Weaver, Michael Biehn',\n",
       " 'Makoto Shinkai (dir.), Ryûnosuke Kamiki, Mone Kamishiraishi',\n",
       " 'Sam Mendes (dir.), Kevin Spacey, Annette Bening',\n",
       " 'Lee Unkrich (dir.), Anthony Gonzalez, Gael García Bernal',\n",
       " 'Mel Gibson (dir.), Mel Gibson, Sophie Marceau',\n",
       " 'Wolfgang Petersen (dir.), Jürgen Prochnow, Herbert Grönemeyer',\n",
       " 'Akira Kurosawa (dir.), Toshirô Mifune, Yutaka Sada',\n",
       " 'Rajkumar Hirani (dir.), Aamir Khan, Madhavan',\n",
       " 'Richard Marquand (dir.), Mark Hamill, Harrison Ford',\n",
       " 'John Lasseter (dir.), Tom Hanks, Tim Allen',\n",
       " 'Aamir Khan (dir.), Darsheel Safary, Aamir Khan',\n",
       " 'Milos Forman (dir.), F. Murray Abraham, Tom Hulce',\n",
       " 'Quentin Tarantino (dir.), Harvey Keitel, Tim Roth',\n",
       " 'Quentin Tarantino (dir.), Brad Pitt, Diane Kruger',\n",
       " 'Gus Van Sant (dir.), Robin Williams, Matt Damon',\n",
       " 'Stanley Kubrick (dir.), Keir Dullea, Gary Lockwood',\n",
       " 'Fritz Lang (dir.), Peter Lorre, Ellen Widmann',\n",
       " 'Darren Aronofsky (dir.), Ellen Burstyn, Jared Leto',\n",
       " 'Alfred Hitchcock (dir.), James Stewart, Kim Novak',\n",
       " 'Nitesh Tiwari (dir.), Aamir Khan, Sakshi Tanwar',\n",
       " 'Michel Gondry (dir.), Jim Carrey, Kate Winslet',\n",
       " 'Orson Welles (dir.), Orson Welles, Joseph Cotten',\n",
       " 'Thomas Vinterberg (dir.), Mads Mikkelsen, Thomas Bo Larsen',\n",
       " 'Stanley Kubrick (dir.), Matthew Modine, R. Lee Ermey',\n",
       " 'Alfred Hitchcock (dir.), Cary Grant, Eva Marie Saint',\n",
       " 'Stanley Kubrick (dir.), Malcolm McDowell, Patrick Magee',\n",
       " 'Guy Ritchie (dir.), Jason Statham, Brad Pitt',\n",
       " 'Charles Chaplin (dir.), Charles Chaplin, Edna Purviance',\n",
       " 'Vittorio De Sica (dir.), Lamberto Maggiorani, Enzo Staiola',\n",
       " 'Brian De Palma (dir.), Al Pacino, Michelle Pfeiffer',\n",
       " \"Stanley Donen (dir.), Gene Kelly, Donald O'Connor\",\n",
       " 'Jean-Pierre Jeunet (dir.), Audrey Tautou, Mathieu Kassovitz',\n",
       " 'Martin Scorsese (dir.), Robert De Niro, Jodie Foster',\n",
       " \"David Lean (dir.), Peter O'Toole, Alec Guinness\",\n",
       " 'Lee Unkrich (dir.), Tom Hanks, Tim Allen',\n",
       " 'George Roy Hill (dir.), Paul Newman, Robert Redford',\n",
       " 'Nadine Labaki (dir.), Zain Al Rafeea, Yordanos Shiferaw',\n",
       " 'Fritz Lang (dir.), Brigitte Helm, Alfred Abel',\n",
       " 'Sergio Leone (dir.), Clint Eastwood, Lee Van Cleef',\n",
       " 'Asghar Farhadi (dir.), Payman Maadi, Leila Hatami',\n",
       " 'Akira Kurosawa (dir.), Takashi Shimura, Nobuo Kaneko',\n",
       " 'Billy Wilder (dir.), Fred MacMurray, Barbara Stanwyck',\n",
       " 'Robert Mulligan (dir.), Gregory Peck, John Megna',\n",
       " 'Billy Wilder (dir.), Jack Lemmon, Shirley MacLaine',\n",
       " 'Steven Spielberg (dir.), Harrison Ford, Sean Connery',\n",
       " 'Denis Villeneuve (dir.), Lubna Azabal, Mélissa Désormeaux-Poulin',\n",
       " 'Pete Docter (dir.), Edward Asner, Jordan Nagai',\n",
       " 'Curtis Hanson (dir.), Kevin Spacey, Russell Crowe',\n",
       " 'Terry Gilliam (dir.), Graham Chapman, John Cleese',\n",
       " 'Michael Mann (dir.), Al Pacino, Robert De Niro',\n",
       " 'John McTiernan (dir.), Bruce Willis, Alan Rickman',\n",
       " 'Akira Kurosawa (dir.), Toshirô Mifune, Machiko Kyô',\n",
       " 'Akira Kurosawa (dir.), Toshirô Mifune, Eijirô Tôno',\n",
       " 'Christopher Nolan (dir.), Christian Bale, Michael Caine',\n",
       " 'Peter Farrelly (dir.), Viggo Mortensen, Mahershala Ali',\n",
       " 'Clint Eastwood (dir.), Clint Eastwood, Gene Hackman',\n",
       " 'Oliver Hirschbiegel (dir.), Bruno Ganz, Alexandra Maria Lara',\n",
       " 'Majid Majidi (dir.), Mohammad Amir Naji, Amir Farrokh Hashemian',\n",
       " 'Billy Wilder (dir.), Marilyn Monroe, Tony Curtis',\n",
       " 'Hayao Miyazaki (dir.), Chieko Baishô, Takuya Kimura',\n",
       " 'Elem Klimov (dir.), Aleksey Kravchenko, Olga Mironova',\n",
       " 'John Sturges (dir.), Steve McQueen, James Garner',\n",
       " 'Akira Kurosawa (dir.), Tatsuya Nakadai, Akira Terao',\n",
       " 'Hayao Miyazaki (dir.), Hitoshi Takagi, Noriko Hidaka',\n",
       " 'Joseph L. Mankiewicz (dir.), Bette Davis, Anne Baxter',\n",
       " 'Ron Howard (dir.), Russell Crowe, Ed Harris',\n",
       " 'Martin Scorsese (dir.), Robert De Niro, Sharon Stone',\n",
       " 'Guillermo del Toro (dir.), Ivana Baquero, Ariadna Gil',\n",
       " 'Martin Scorsese (dir.), Robert De Niro, Cathy Moriarty',\n",
       " 'Juan José Campanella (dir.), Ricardo Darín, Soledad Villamil',\n",
       " 'Guy Ritchie (dir.), Jason Flemyng, Dexter Fletcher',\n",
       " 'Martin Scorsese (dir.), Leonardo DiCaprio, Jonah Hill',\n",
       " 'John Huston (dir.), Humphrey Bogart, Walter Huston',\n",
       " 'Stanley Kramer (dir.), Spencer Tracy, Burt Lancaster',\n",
       " 'Martin McDonagh (dir.), Frances McDormand, Woody Harrelson',\n",
       " 'Çagan Irmak (dir.), Çetin Tekindor, Fikret Kuskan',\n",
       " 'Roman Polanski (dir.), Jack Nicholson, Faye Dunaway',\n",
       " 'Paul Thomas Anderson (dir.), Daniel Day-Lewis, Paul Dano',\n",
       " 'Charles Chaplin (dir.), Charles Chaplin, Mack Swain',\n",
       " 'Alfred Hitchcock (dir.), Ray Milland, Grace Kelly',\n",
       " 'James McTeigue (dir.), Hugo Weaving, Natalie Portman',\n",
       " 'Pete Docter (dir.), Amy Poehler, Bill Hader',\n",
       " 'Ingmar Bergman (dir.), Max von Sydow, Gunnar Björnstrand',\n",
       " \"Gavin O'Connor (dir.), Tom Hardy, Nick Nolte\",\n",
       " 'Ethan Coen (dir.), Tommy Lee Jones, Javier Bardem',\n",
       " 'Danny Boyle (dir.), Ewan McGregor, Ewen Bremner',\n",
       " 'David Lynch (dir.), Anthony Hopkins, John Hurt',\n",
       " 'James Mangold (dir.), Matt Damon, Christian Bale',\n",
       " 'Martin Scorsese (dir.), Leonardo DiCaprio, Emily Mortimer',\n",
       " 'Lenny Abrahamson (dir.), Brie Larson, Jacob Tremblay',\n",
       " 'M. Night Shyamalan (dir.), Bruce Willis, Haley Joel Osment',\n",
       " 'John Carpenter (dir.), Kurt Russell, Wilford Brimley',\n",
       " 'Victor Fleming (dir.), Clark Gable, Vivien Leigh',\n",
       " 'Ridley Scott (dir.), Harrison Ford, Rutger Hauer',\n",
       " 'David Lean (dir.), William Holden, Alec Guinness',\n",
       " 'Steven Spielberg (dir.), Sam Neill, Laura Dern',\n",
       " 'Carol Reed (dir.), Orson Welles, Joseph Cotten',\n",
       " 'Elia Kazan (dir.), Marlon Brando, Karl Malden',\n",
       " 'Andrew Stanton (dir.), Albert Brooks, Ellen DeGeneres',\n",
       " 'Ingmar Bergman (dir.), Victor Sjöström, Bibi Andersson',\n",
       " 'Joel Coen (dir.), William H. Macy, Frances McDormand',\n",
       " 'Clint Eastwood (dir.), Clint Eastwood, Bee Vang',\n",
       " 'Quentin Tarantino (dir.), Uma Thurman, David Carradine',\n",
       " 'Sriram Raghavan (dir.), Ayushmann Khurrana, Tabu',\n",
       " 'Michael Cimino (dir.), Robert De Niro, Christopher Walken',\n",
       " 'Yasujirô Ozu (dir.), Chishû Ryû, Chieko Higashiyama',\n",
       " 'Yavuz Turgul (dir.), Sener Sen, Ugur Yücel',\n",
       " 'Andrei Tarkovsky (dir.), Alisa Freyndlikh, Aleksandr Kaydanovskiy',\n",
       " 'Peter Weir (dir.), Jim Carrey, Ed Harris',\n",
       " 'Damián Szifron (dir.), Darío Grandinetti, María Marull',\n",
       " 'Joel Coen (dir.), Jeff Bridges, John Goodman',\n",
       " 'Sergio Pablos (dir.), Jason Schwartzman, J.K. Simmons',\n",
       " 'Adam Elliot (dir.), Toni Collette, Philip Seymour Hoffman',\n",
       " 'Bong Joon Ho (dir.), Kang-ho Song, Sang-kyung Kim',\n",
       " 'Jim Sheridan (dir.), Daniel Day-Lewis, Pete Postlethwaite',\n",
       " 'David Fincher (dir.), Ben Affleck, Rosamund Pike',\n",
       " 'Mel Gibson (dir.), Andrew Garfield, Sam Worthington',\n",
       " 'Frank Capra (dir.), James Stewart, Jean Arthur',\n",
       " 'Clyde Bruckman (dir.), Buster Keaton, Marion Mack',\n",
       " 'Dean DeBlois (dir.), Jay Baruchel, Gerard Butler',\n",
       " 'Wes Anderson (dir.), Ralph Fiennes, F. Murray Abraham',\n",
       " 'Buster Keaton (dir.), Buster Keaton, Kathryn McGuire',\n",
       " 'Richard Linklater (dir.), Ethan Hawke, Julie Delpy',\n",
       " 'Ingmar Bergman (dir.), Bibi Andersson, Liv Ullmann',\n",
       " 'Steven Spielberg (dir.), Leonardo DiCaprio, Tom Hanks',\n",
       " 'Denis Villeneuve (dir.), Hugh Jackman, Jake Gyllenhaal',\n",
       " 'Steve McQueen (dir.), Chiwetel Ejiofor, Michael Kenneth Williams',\n",
       " 'Stuart Rosenberg (dir.), Paul Newman, George Kennedy',\n",
       " 'Sean Penn (dir.), Emile Hirsch, Vince Vaughn',\n",
       " 'Henri-Georges Clouzot (dir.), Yves Montand, Charles Vanel',\n",
       " 'Sidney Lumet (dir.), Faye Dunaway, William Holden',\n",
       " 'Rob Reiner (dir.), Wil Wheaton, River Phoenix',\n",
       " 'George Miller (dir.), Tom Hardy, Charlize Theron',\n",
       " 'Terry Jones (dir.), Graham Chapman, John Cleese',\n",
       " \"Stanley Kubrick (dir.), Ryan O'Neal, Marisa Berenson\",\n",
       " 'Oliver Stone (dir.), Charlie Sheen, Tom Berenger',\n",
       " 'Clint Eastwood (dir.), Hilary Swank, Clint Eastwood',\n",
       " 'Lasse Hallström (dir.), Richard Gere, Joan Allen',\n",
       " 'Carl Theodor Dreyer (dir.), Maria Falconetti, Eugene Silvain',\n",
       " 'Ron Howard (dir.), Daniel Brühl, Chris Hemsworth',\n",
       " 'James Mangold (dir.), Hugh Jackman, Patrick Stewart',\n",
       " 'William Wyler (dir.), Charlton Heston, Jack Hawkins',\n",
       " 'Rakeysh Omprakash Mehra (dir.), Aamir Khan, Soha Ali Khan',\n",
       " 'Andrei Tarkovsky (dir.), Anatoliy Solonitsyn, Ivan Lapikov',\n",
       " 'Hayao Miyazaki (dir.), Sumi Shimamoto, Mahito Tsujimura',\n",
       " 'David Yates (dir.), Daniel Radcliffe, Emma Watson',\n",
       " 'François Truffaut (dir.), Jean-Pierre Léaud, Albert Rémy',\n",
       " 'Peter Weir (dir.), Robin Williams, Robert Sean Leonard',\n",
       " 'Terry George (dir.), Don Cheadle, Sophie Okonedo',\n",
       " 'Alejandro G. Iñárritu (dir.), Emilio Echevarría, Gael García Bernal',\n",
       " 'Tom McCarthy (dir.), Mark Ruffalo, Michael Keaton',\n",
       " 'Alfred Hitchcock (dir.), Laurence Olivier, Joan Fontaine',\n",
       " 'John G. Avildsen (dir.), Sylvester Stallone, Talia Shire',\n",
       " 'Michael Powell (dir.), Anton Walbrook, Marius Goring',\n",
       " 'Chan-wook Park (dir.), Min-hee Kim, Jung-woo Ha',\n",
       " 'Pete Docter (dir.), Billy Crystal, John Goodman',\n",
       " 'Billy Wilder (dir.), Kirk Douglas, Jan Sterling',\n",
       " 'Mathieu Kassovitz (dir.), Vincent Cassel, Hubert Koundé',\n",
       " 'Frank Capra (dir.), Clark Gable, Claudette Colbert',\n",
       " 'Noah Baumbach (dir.), Adam Driver, Scarlett Johansson',\n",
       " 'Raoul Walsh (dir.), James Cagney, Virginia Mayo',\n",
       " 'Rob Reiner (dir.), Cary Elwes, Mandy Patinkin',\n",
       " 'Ashutosh Gowariker (dir.), Aamir Khan, Raghuvir Yadav',\n",
       " 'Anurag Kashyap (dir.), Manoj Bajpayee, Richa Chadha',\n",
       " 'Richard Linklater (dir.), Ethan Hawke, Julie Delpy',\n",
       " 'Kar-Wai Wong (dir.), Tony Chiu-Wai Leung, Maggie Cheung',\n",
       " 'Tate Taylor (dir.), Emma Stone, Viola Davis',\n",
       " 'James Cameron (dir.), Arnold Schwarzenegger, Linda Hamilton',\n",
       " 'George Roy Hill (dir.), Paul Newman, Robert Redford',\n",
       " 'Wim Wenders (dir.), Harry Dean Stanton, Nastassja Kinski',\n",
       " 'Katsuhiro Ôtomo (dir.), Mitsuo Iwata, Nozomu Sasaki',\n",
       " 'Rajkumar Hirani (dir.), Aamir Khan, Anushka Sharma',\n",
       " 'Oriol Paulo (dir.), Mario Casas, Ana Wagener',\n",
       " 'Ron Clements (dir.), Scott Weinger, Robin Williams',\n",
       " 'Hayao Miyazaki (dir.), Anna Paquin, James Van Der Beek',\n",
       " 'Ashutosh Gowariker (dir.), Shah Rukh Khan, Gayatri Joshi',\n",
       " 'Tomm Moore (dir.), David Rawle, Brendan Gleeson']"
      ]
     },
     "execution_count": 96,
     "metadata": {},
     "output_type": "execute_result"
    }
   ],
   "source": [
    "# find the table data\n",
    "table_data = soup.find_all('td')\n",
    "\n",
    "# the names of the movies are under the image tag, specifically <img alt=\n",
    "movies = [t.find('img')['alt'] for t in table_data if t.find('img')]\n",
    "\n",
    "peoples = [t.a.get('title') for t in table_data if (t.a and t.a.get('title'))]\n",
    "peoples\n"
   ]
  },
  {
   "cell_type": "markdown",
   "metadata": {},
   "source": [
    "#### Display the movie name, year and a brief summary of the top 10 random movies (IMDB) as a pandas dataframe."
   ]
  },
  {
   "cell_type": "code",
   "execution_count": 28,
   "metadata": {},
   "outputs": [],
   "source": [
    "#This is the url you will scrape in this exercise\n",
    "url = 'http://www.imdb.com/chart/top'\n",
    "response = requests.get(url)\n",
    "soup = BeautifulSoup(response.content, \"html.parser\")"
   ]
  },
  {
   "cell_type": "code",
   "execution_count": 29,
   "metadata": {},
   "outputs": [],
   "source": [
    "# your code here"
   ]
  },
  {
   "cell_type": "markdown",
   "metadata": {},
   "source": [
    "## Bonus"
   ]
  },
  {
   "cell_type": "markdown",
   "metadata": {},
   "source": [
    "#### Find the live weather report (temperature, wind speed, description and weather) of a given city."
   ]
  },
  {
   "cell_type": "code",
   "execution_count": null,
   "metadata": {},
   "outputs": [],
   "source": [
    "#https://openweathermap.org/current\n",
    "city = input('Enter the city: ')\n",
    "url = 'http://api.openweathermap.org/data/2.5/weather?'+'q='+city+'&APPID=b35975e18dc93725acb092f7272cc6b8&units=metric'"
   ]
  },
  {
   "cell_type": "code",
   "execution_count": null,
   "metadata": {},
   "outputs": [],
   "source": [
    "# your code here"
   ]
  },
  {
   "cell_type": "markdown",
   "metadata": {},
   "source": [
    "#### Find the book name, price and stock availability as a pandas dataframe."
   ]
  },
  {
   "cell_type": "code",
   "execution_count": null,
   "metadata": {},
   "outputs": [],
   "source": [
    "# This is the url you will scrape in this exercise. \n",
    "# It is a fictional bookstore created to be scraped. \n",
    "url = 'http://books.toscrape.com/'"
   ]
  },
  {
   "cell_type": "code",
   "execution_count": null,
   "metadata": {},
   "outputs": [],
   "source": [
    "# your code here"
   ]
  },
  {
   "cell_type": "markdown",
   "metadata": {},
   "source": [
    "####  Display the 20 latest earthquakes info (date, time, latitude, longitude and region name) by the EMSC as a pandas dataframe."
   ]
  },
  {
   "cell_type": "code",
   "execution_count": null,
   "metadata": {},
   "outputs": [],
   "source": [
    "# This is the url you will scrape in this exercise\n",
    "url = 'https://www.emsc-csem.org/Earthquake/'"
   ]
  },
  {
   "cell_type": "code",
   "execution_count": null,
   "metadata": {},
   "outputs": [],
   "source": [
    "# your code here"
   ]
  }
 ],
 "metadata": {
  "kernelspec": {
   "display_name": "Python 3",
   "language": "python",
   "name": "python3"
  },
  "language_info": {
   "codemirror_mode": {
    "name": "ipython",
    "version": 3
   },
   "file_extension": ".py",
   "mimetype": "text/x-python",
   "name": "python",
   "nbconvert_exporter": "python",
   "pygments_lexer": "ipython3",
   "version": "3.7.4"
  }
 },
 "nbformat": 4,
 "nbformat_minor": 2
}
