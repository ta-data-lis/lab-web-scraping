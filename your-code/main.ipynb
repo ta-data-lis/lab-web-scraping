{
 "cells": [
  {
   "cell_type": "markdown",
   "metadata": {},
   "source": [
    "# Web Scraping Lab\n",
    "\n",
    "You will find in this notebook some scrapy exercises to practise your scraping skills.\n",
    "\n",
    "**Tips:**\n",
    "\n",
    "- Check the response status code for each request to ensure you have obtained the intended content.\n",
    "- Print the response text in each request to understand the kind of info you are getting and its format.\n",
    "- Check for patterns in the response text to extract the data/info requested in each question.\n",
    "- Visit the urls below and take a look at their source code through Chrome DevTools. You'll need to identify the html tags, special class names, etc used in the html content you are expected to extract.\n",
    "\n",
    "**Resources**:\n",
    "- [Requests library](http://docs.python-requests.org/en/master/#the-user-guide)\n",
    "- [Beautiful Soup Doc](https://www.crummy.com/software/BeautifulSoup/bs4/doc/)\n",
    "- [Urllib](https://docs.python.org/3/library/urllib.html#module-urllib)\n",
    "- [re lib](https://docs.python.org/3/library/re.html)\n",
    "- [lxml lib](https://lxml.de/)\n",
    "- [Scrapy](https://scrapy.org/)\n",
    "- [List of HTTP status codes](https://en.wikipedia.org/wiki/List_of_HTTP_status_codes)\n",
    "- [HTML basics](http://www.simplehtmlguide.com/cheatsheet.php)\n",
    "- [CSS basics](https://www.cssbasics.com/#page_start)"
   ]
  },
  {
   "cell_type": "markdown",
   "metadata": {},
   "source": [
    "#### Below are the libraries and modules you may need. `requests`,  `BeautifulSoup` and `pandas` are already imported for you. If you prefer to use additional libraries feel free to do it."
   ]
  },
  {
   "cell_type": "code",
   "execution_count": 4,
   "metadata": {},
   "outputs": [],
   "source": [
    "import requests\n",
    "from bs4 import BeautifulSoup\n",
    "import pandas as pd"
   ]
  },
  {
   "cell_type": "markdown",
   "metadata": {},
   "source": [
    "#### Download, parse (using BeautifulSoup), and print the content from the Trending Developers page from GitHub:"
   ]
  },
  {
   "cell_type": "code",
   "execution_count": 5,
   "metadata": {},
   "outputs": [],
   "source": [
    "# This is the url you will scrape in this exercise\n",
    "url = 'https://github.com/trending/developers'"
   ]
  },
  {
   "cell_type": "code",
   "execution_count": 6,
   "metadata": {},
   "outputs": [
    {
     "name": "stdout",
     "output_type": "stream",
     "text": [
      "Lianmin Zheng\n",
      "Peer Richelsen\n",
      "Henrik Rydgård\n",
      "Jerry Liu\n",
      "pilcrowOnPaper\n",
      "Evgenii Bazhanov\n",
      "Jelle Zijlstra\n",
      "oobabooga\n",
      "Luca Palmieri\n",
      "J. Nick Koston\n",
      "Michael Bui\n",
      "Laurent Mazare\n",
      "Dan Gohman\n",
      "Fons van der Plas\n",
      "Fabian-Lars\n",
      "Harrison Chase\n",
      "Anders Jenbo\n",
      "Juliette\n",
      "Bjorn Lu\n",
      "Steven Tey\n",
      "Paweł Bylica\n",
      "Ariel Mashraki\n",
      "Erik Bernhardsson\n",
      "Mattias Wadman\n",
      "dylan\n"
     ]
    }
   ],
   "source": [
    "response = requests.get(url)\n",
    "soup = BeautifulSoup(response.content, 'html.parser')\n",
    "\n",
    "for dev in soup.find_all('h1', {'class': 'h3 lh-condensed'}):\n",
    "    print(dev.text.strip())\n",
    "\n"
   ]
  },
  {
   "attachments": {},
   "cell_type": "markdown",
   "metadata": {},
   "source": [
    "#### 1. Display the names of the trending developers retrieved in the previous step.\n",
    "\n",
    "Your output should be a Python list of developer names. Each name should not contain any html tag.\n",
    "\n",
    "**Instructions:**\n",
    "\n",
    "1. Find out the html tag and class names used for the developer names. You can achieve this using Chrome DevTools or clicking in 'Inspect' on any browser. Here is an example:\n",
    "\n",
    "![title](example_1.png)\n",
    "\n",
    "2. Use BeautifulSoup `find_all()` to extract all the html elements that contain the developer names. Hint: pass in the `attrs` parameter to specify the class.\n",
    "\n",
    "3. Loop through the elements found and get the text for each of them.\n",
    "\n",
    "4. While you are at it, use string manipulation techniques to replace whitespaces and linebreaks (i.e. `\\n`) in the *text* of each html element. Use a list to store the clean names. Hint: you may also use `.get_text()` instead of `.text` and pass in the desired parameters to do some string manipulation (check the documentation).\n",
    "\n",
    "5. Print the list of names.\n",
    "\n",
    "Your output should look like below:\n",
    "\n",
    "```\n",
    "['trimstray (@trimstray)',\n",
    " 'joewalnes (JoeWalnes)',\n",
    " 'charlax (Charles-AxelDein)',\n",
    " 'ForrestKnight (ForrestKnight)',\n",
    " 'revery-ui (revery-ui)',\n",
    " 'alibaba (Alibaba)',\n",
    " 'Microsoft (Microsoft)',\n",
    " 'github (GitHub)',\n",
    " 'facebook (Facebook)',\n",
    " 'boazsegev (Bo)',\n",
    " 'google (Google)',\n",
    " 'cloudfetch',\n",
    " 'sindresorhus (SindreSorhus)',\n",
    " 'tensorflow',\n",
    " 'apache (TheApacheSoftwareFoundation)',\n",
    " 'DevonCrawford (DevonCrawford)',\n",
    " 'ARMmbed (ArmMbed)',\n",
    " 'vuejs (vuejs)',\n",
    " 'fastai (fast.ai)',\n",
    " 'QiShaoXuan (Qi)',\n",
    " 'joelparkerhenderson (JoelParkerHenderson)',\n",
    " 'torvalds (LinusTorvalds)',\n",
    " 'CyC2018',\n",
    " 'komeiji-satori (神楽坂覚々)',\n",
    " 'script-8']\n",
    " ```"
   ]
  },
  {
   "cell_type": "code",
   "execution_count": 7,
   "metadata": {},
   "outputs": [
    {
     "name": "stdout",
     "output_type": "stream",
     "text": [
      "['LianminZheng (@merrymercy)', 'PeerRichelsen (@PeerRich)', 'HenrikRydgård (@hrydgard)', 'JerryLiu (@jerryjliu)', 'pilcrowOnPaper (@pilcrowOnPaper)', 'EvgeniiBazhanov (@Ebazhanov)', 'JelleZijlstra (@JelleZijlstra)', 'oobabooga (@oobabooga)', 'LucaPalmieri (@LukeMathWalker)', 'J.NickKoston (@bdraco)', 'MichaelBui (@MaikuB)', 'LaurentMazare (@LaurentMazare)', 'DanGohman (@sunfishcode)', 'FonsvanderPlas (@fonsp)', 'Fabian-Lars (@FabianLars)', 'HarrisonChase (@hwchase17)', 'AndersJenbo (@AJenbo)', 'Juliette (@jrfnl)', 'BjornLu (@bluwy)', 'StevenTey (@steven-tey)', 'PawełBylica (@chfast)', 'ArielMashraki (@a8m)', 'ErikBernhardsson (@erikbern)', 'MattiasWadman (@wader)', 'dylan (@dylanaraps)']\n"
     ]
    }
   ],
   "source": [
    "dev_names = []\n",
    "\n",
    "for dev in soup.find_all('h1', {'class': 'h3 lh-condensed'}):\n",
    "    dev_name = dev.text.strip().replace('\\n', '').replace(' ', '')\n",
    "    dev_handle = dev.find('a')['href'].split('/')[1]\n",
    "    dev_names.append(dev_name + ' (@' + dev_handle + ')')\n",
    "\n",
    "print(dev_names)\n"
   ]
  },
  {
   "cell_type": "markdown",
   "metadata": {},
   "source": [
    "#### 1.1. Display the trending Python repositories in GitHub.\n",
    "\n",
    "The steps to solve this problem is similar to the previous one except that you need to find out the repository names instead of developer names."
   ]
  },
  {
   "cell_type": "code",
   "execution_count": 8,
   "metadata": {},
   "outputs": [],
   "source": [
    "# This is the url you will scrape in this exercise\n",
    "url = \"https://github.com/trending/python?since=daily\""
   ]
  },
  {
   "cell_type": "code",
   "execution_count": 9,
   "metadata": {},
   "outputs": [
    {
     "name": "stdout",
     "output_type": "stream",
     "text": [
      "[]\n"
     ]
    }
   ],
   "source": [
    "response = requests.get(url)\n",
    "soup = BeautifulSoup(response.content, 'html.parser')\n",
    "\n",
    "repo_names = []\n",
    "\n",
    "for repo in soup.find_all('h1', {'class': 'h3 lh-condensed'}):\n",
    "    repo_name = repo.text.strip().replace('\\n', '').replace(' ', '')\n",
    "    repo_names.append(repo_name)\n",
    "\n",
    "print(repo_names)"
   ]
  },
  {
   "cell_type": "code",
   "execution_count": 10,
   "metadata": {},
   "outputs": [
    {
     "name": "stdout",
     "output_type": "stream",
     "text": [
      "Note: you may need to restart the kernel to use updated packages.\n"
     ]
    },
    {
     "name": "stderr",
     "output_type": "stream",
     "text": [
      "ERROR: Could not find a version that satisfies the requirement parser (from versions: none)\n",
      "ERROR: No matching distribution found for parser\n",
      "\n",
      "[notice] A new release of pip available: 22.3.1 -> 23.1.1\n",
      "[notice] To update, run: python.exe -m pip install --upgrade pip\n"
     ]
    }
   ],
   "source": [
    "pip install parser library"
   ]
  },
  {
   "cell_type": "markdown",
   "metadata": {},
   "source": [
    "#### 2. Display all the image links from Walt Disney wikipedia page.\n",
    "Hint: use `.get()` to access information inside tags. Check out the documentation."
   ]
  },
  {
   "cell_type": "code",
   "execution_count": 11,
   "metadata": {},
   "outputs": [],
   "source": [
    "# This is the url you will scrape in this exercise\n",
    "url = 'https://en.wikipedia.org/wiki/Walt_Disney'"
   ]
  },
  {
   "cell_type": "code",
   "execution_count": 12,
   "metadata": {},
   "outputs": [
    {
     "name": "stdout",
     "output_type": "stream",
     "text": [
      "/static/images/icons/wikipedia.png\n",
      "/static/images/mobile/copyright/wikipedia-wordmark-en.svg\n",
      "/static/images/mobile/copyright/wikipedia-tagline-en.svg\n",
      "//upload.wikimedia.org/wikipedia/en/thumb/e/e7/Cscr-featured.svg/20px-Cscr-featured.svg.png\n",
      "//upload.wikimedia.org/wikipedia/en/thumb/8/8c/Extended-protection-shackle.svg/20px-Extended-protection-shackle.svg.png\n",
      "//upload.wikimedia.org/wikipedia/commons/thumb/d/df/Walt_Disney_1946.JPG/220px-Walt_Disney_1946.JPG\n",
      "//upload.wikimedia.org/wikipedia/commons/thumb/8/87/Walt_Disney_1942_signature.svg/150px-Walt_Disney_1942_signature.svg.png\n",
      "//upload.wikimedia.org/wikipedia/commons/thumb/3/3a/Walt_Disney_Birthplace_Exterior_Hermosa_Chicago_Illinois.jpg/220px-Walt_Disney_Birthplace_Exterior_Hermosa_Chicago_Illinois.jpg\n",
      "//upload.wikimedia.org/wikipedia/commons/thumb/c/c4/Walt_Disney_envelope_ca._1921.jpg/220px-Walt_Disney_envelope_ca._1921.jpg\n",
      "//upload.wikimedia.org/wikipedia/commons/thumb/0/0d/Trolley_Troubles_poster.jpg/170px-Trolley_Troubles_poster.jpg\n",
      "//upload.wikimedia.org/wikipedia/en/thumb/4/4e/Steamboat-willie.jpg/170px-Steamboat-willie.jpg\n",
      "//upload.wikimedia.org/wikipedia/commons/thumb/5/57/Walt_Disney_1935.jpg/170px-Walt_Disney_1935.jpg\n",
      "//upload.wikimedia.org/wikipedia/commons/thumb/c/cd/Walt_Disney_Snow_white_1937_trailer_screenshot_%2813%29.jpg/220px-Walt_Disney_Snow_white_1937_trailer_screenshot_%2813%29.jpg\n",
      "//upload.wikimedia.org/wikipedia/commons/thumb/1/15/Disney_drawing_goofy.jpg/170px-Disney_drawing_goofy.jpg\n",
      "//upload.wikimedia.org/wikipedia/commons/thumb/8/8c/WaltDisneyplansDisneylandDec1954.jpg/220px-WaltDisneyplansDisneylandDec1954.jpg\n",
      "//upload.wikimedia.org/wikipedia/commons/thumb/f/ff/Walt_disney_portrait_right.jpg/170px-Walt_disney_portrait_right.jpg\n",
      "//upload.wikimedia.org/wikipedia/commons/thumb/1/1a/Walt_Disney_Grave.JPG/170px-Walt_Disney_Grave.JPG\n",
      "//upload.wikimedia.org/wikipedia/commons/thumb/2/2d/Roy_O._Disney_with_Company_at_Press_Conference.jpg/170px-Roy_O._Disney_with_Company_at_Press_Conference.jpg\n",
      "//upload.wikimedia.org/wikipedia/commons/thumb/1/13/DisneySchiphol1951.jpg/220px-DisneySchiphol1951.jpg\n",
      "//upload.wikimedia.org/wikipedia/commons/thumb/6/6c/Disney1968.jpg/170px-Disney1968.jpg\n",
      "//upload.wikimedia.org/wikipedia/commons/thumb/b/b0/Disney_Oscar_1953_%28cropped%29.jpg/170px-Disney_Oscar_1953_%28cropped%29.jpg\n",
      "//upload.wikimedia.org/wikipedia/en/thumb/4/4a/Commons-logo.svg/30px-Commons-logo.svg.png\n",
      "//upload.wikimedia.org/wikipedia/commons/thumb/4/4c/Wikisource-logo.svg/38px-Wikisource-logo.svg.png\n",
      "//upload.wikimedia.org/wikipedia/commons/thumb/f/fa/Wikiquote-logo.svg/34px-Wikiquote-logo.svg.png\n",
      "//upload.wikimedia.org/wikipedia/en/thumb/8/8a/OOjs_UI_icon_edit-ltr-progressive.svg/10px-OOjs_UI_icon_edit-ltr-progressive.svg.png\n",
      "//upload.wikimedia.org/wikipedia/en/thumb/8/8a/OOjs_UI_icon_edit-ltr-progressive.svg/10px-OOjs_UI_icon_edit-ltr-progressive.svg.png\n",
      "//upload.wikimedia.org/wikipedia/commons/thumb/e/e3/Disneyland_Resort_logo.svg/135px-Disneyland_Resort_logo.svg.png\n",
      "//upload.wikimedia.org/wikipedia/commons/thumb/d/da/Animation_disc.svg/20px-Animation_disc.svg.png\n",
      "//upload.wikimedia.org/wikipedia/en/thumb/6/69/P_vip.svg/19px-P_vip.svg.png\n",
      "//upload.wikimedia.org/wikipedia/commons/thumb/1/1a/Magic_Kingdom_castle.jpg/15px-Magic_Kingdom_castle.jpg\n",
      "//upload.wikimedia.org/wikipedia/en/thumb/e/e7/Video-x-generic.svg/19px-Video-x-generic.svg.png\n",
      "//upload.wikimedia.org/wikipedia/commons/thumb/a/a3/Flag_of_Los_Angeles_County%2C_California.svg/21px-Flag_of_Los_Angeles_County%2C_California.svg.png\n",
      "//upload.wikimedia.org/wikipedia/commons/thumb/8/8c/Blank_television_set.svg/21px-Blank_television_set.svg.png\n",
      "//upload.wikimedia.org/wikipedia/en/thumb/a/a4/Flag_of_the_United_States.svg/21px-Flag_of_the_United_States.svg.png\n",
      "//upload.wikimedia.org/wikipedia/en/thumb/4/4a/Commons-logo.svg/14px-Commons-logo.svg.png\n",
      "//upload.wikimedia.org/wikipedia/commons/thumb/f/fa/Wikiquote-logo.svg/16px-Wikiquote-logo.svg.png\n",
      "//upload.wikimedia.org/wikipedia/commons/thumb/4/4c/Wikisource-logo.svg/18px-Wikisource-logo.svg.png\n",
      "//upload.wikimedia.org/wikipedia/commons/thumb/f/ff/Wikidata-logo.svg/21px-Wikidata-logo.svg.png\n",
      "//upload.wikimedia.org/wikipedia/en/thumb/8/8a/OOjs_UI_icon_edit-ltr-progressive.svg/10px-OOjs_UI_icon_edit-ltr-progressive.svg.png\n",
      "//en.wikipedia.org/wiki/Special:CentralAutoLogin/start?type=1x1\n",
      "/static/images/footer/wikimedia-button.png\n",
      "/static/images/footer/poweredby_mediawiki_88x31.png\n"
     ]
    }
   ],
   "source": [
    "page = requests.get(url)\n",
    "\n",
    "soup = BeautifulSoup(page.content, \"html.parser\")\n",
    "\n",
    "images = soup.find_all(\"img\")\n",
    "\n",
    "for img in images:\n",
    "    print(img.get(\"src\"))"
   ]
  },
  {
   "cell_type": "markdown",
   "metadata": {},
   "source": [
    "#### 2.1. List all language names and number of related articles in the order they appear in wikipedia.org."
   ]
  },
  {
   "cell_type": "code",
   "execution_count": 13,
   "metadata": {},
   "outputs": [],
   "source": [
    "# This is the url you will scrape in this exercise\n",
    "url = 'https://www.wikipedia.org/'"
   ]
  },
  {
   "cell_type": "code",
   "execution_count": 14,
   "metadata": {},
   "outputs": [
    {
     "name": "stdout",
     "output_type": "stream",
     "text": [
      "English 6 644 000\n",
      "Русский 1 909 000\n",
      "日本語 1 370 000\n",
      "Deutsch 2 792 000\n",
      "Español 1 854 000\n",
      "Français 2 514 000\n",
      "Italiano 1 806 000\n",
      "中文 1 347 000\n",
      "فارسی فارسی\n",
      "Português 1 101 000\n"
     ]
    },
    {
     "data": {
      "text/plain": [
       "'Português'"
      ]
     },
     "execution_count": 14,
     "metadata": {},
     "output_type": "execute_result"
    }
   ],
   "source": [
    "response = requests.get(url)\n",
    "response\n",
    "\n",
    "soup = BeautifulSoup(response.content)\n",
    "n_language = soup.find_all(\"div\", attrs = {\"class\": \"central-featured-lang\"})\n",
    "for i in n_language:\n",
    "    n_language = i.find(\"strong\").get_text().strip()\n",
    "    n_article = i.find(\"bdi\").text.strip().split(\"+\")[0]\n",
    "    print(n_language, n_article)\n",
    "n_language"
   ]
  },
  {
   "cell_type": "markdown",
   "metadata": {},
   "source": [
    "#### 2.2. Display the top 10 languages by number of native speakers stored in a pandas dataframe.\n",
    "Hint: After finding the correct table you want to analyse, you can use a nested **for** loop to find the elements row by row (check out the 'td' and 'tr' tags). <br>An easier way to do it is using pd.read_html(), check out documentation [here](https://pandas.pydata.org/pandas-docs/version/0.23.4/generated/pandas.read_html.html)."
   ]
  },
  {
   "cell_type": "code",
   "execution_count": 15,
   "metadata": {},
   "outputs": [],
   "source": [
    "# This is the url you will scrape in this exercise\n",
    "url = 'https://en.wikipedia.org/wiki/List_of_languages_by_number_of_native_speakers'"
   ]
  },
  {
   "cell_type": "code",
   "execution_count": 27,
   "metadata": {},
   "outputs": [
    {
     "data": {
      "text/plain": [
       "[    0                                                  1   \n",
       " 0 NaN  set_server_date(2023,5,1,22,2,25)  Current tim...  \\\n",
       " \n",
       "                          2  \n",
       " 0  Member access  Name Pwd  ,\n",
       "                0              1\n",
       " 0  Member access  Member access\n",
       " 1            NaN            NaN\n",
       " 2           Name            NaN\n",
       " 3            NaN            NaN\n",
       " 4            Pwd            NaN\n",
       " 5            NaN            NaN\n",
       " 6            NaN            NaN,\n",
       "                                                    0         1\n",
       " 0  - Sorting by column is performed on the data o...  Glossary,\n",
       "    Citizen Response                                   \n",
       "       12345678910» 12345678910».1 12345678910».2   \n",
       " 0               NaN             NaN             NaN  \\\n",
       " 1               NaN             NaN             NaN   \n",
       " 2               NaN             NaN             NaN   \n",
       " 3               NaN             NaN             NaN   \n",
       " 4               NaN             NaN             NaN   \n",
       " 5               NaN             NaN             NaN   \n",
       " 6                53             NaN              IV   \n",
       " 7               NaN             NaN             NaN   \n",
       " 8               NaN             NaN             NaN   \n",
       " 9               NaN             NaN             NaN   \n",
       " 10              NaN             NaN             NaN   \n",
       " 11              NaN             NaN             NaN   \n",
       " 12              NaN             NaN             NaN   \n",
       " 13              NaN             NaN             NaN   \n",
       " 14              NaN             NaN             NaN   \n",
       " 15              NaN             NaN             NaN   \n",
       " 16              NaN             NaN               F   \n",
       " 17              NaN             NaN             NaN   \n",
       " 18              NaN             NaN             NaN   \n",
       " 19              NaN             NaN             NaN   \n",
       " 20                9             NaN              IV   \n",
       " 21              NaN             NaN             NaN   \n",
       " 22              NaN             NaN             NaN   \n",
       " 23              NaN             NaN             NaN   \n",
       " 24              NaN             NaN             NaN   \n",
       " 25              NaN             NaN             NaN   \n",
       " 26              NaN             NaN             NaN   \n",
       " 27              NaN             NaN             NaN   \n",
       " 28              NaN             NaN             NaN   \n",
       " 29               11             NaN              IV   \n",
       " 30              NaN             NaN             NaN   \n",
       " 31              NaN             NaN             NaN   \n",
       " 32              NaN             NaN             NaN   \n",
       " 33              NaN             NaN             NaN   \n",
       " 34              NaN             NaN             NaN   \n",
       " 35              NaN             NaN             NaN   \n",
       " 36              NaN             NaN             NaN   \n",
       " 37              NaN             NaN             NaN   \n",
       " 38              NaN             NaN             NaN   \n",
       " 39              NaN             NaN             NaN   \n",
       " 40              NaN             NaN             NaN   \n",
       " 41              NaN             NaN             NaN   \n",
       " 42              NaN             NaN               F   \n",
       " 43              NaN             NaN             NaN   \n",
       " 44              NaN             NaN             NaN   \n",
       " 45              NaN             NaN             NaN   \n",
       " 46              NaN             NaN             NaN   \n",
       " 47              NaN             NaN             NaN   \n",
       " 48              NaN             NaN             NaN   \n",
       " 49              NaN             NaN             NaN   \n",
       " 50              NaN             NaN             NaN   \n",
       " 51    12345678910»   12345678910»   12345678910»   \n",
       " 52              NaN             NaN             NaN   \n",
       " \n",
       "                        Date & Time UTC Latitude degrees                   \n",
       "                          12345678910»    12345678910» 12345678910».1   \n",
       " 0       2023-05-01 21:52:52.009min ago             3.42               S  \\\n",
       " 1       2023-05-01 21:51:31.010min ago             2.93               S   \n",
       " 2       2023-05-01 21:51:30.010min ago            24.33               S   \n",
       " 3       2023-05-01 21:50:49.111min ago            37.91               N   \n",
       " 4       2023-05-01 21:48:28.913min ago            37.85               N   \n",
       " 5       2023-05-01 21:42:59.819min ago            18.48               N   \n",
       " 6       2023-05-01 21:35:58.826min ago            38.18               N   \n",
       " 7       2023-05-01 21:35:47.826min ago            32.73               N   \n",
       " 8       2023-05-01 21:33:58.028min ago             1.52               N   \n",
       " 9       2023-05-01 21:21:24.741min ago            33.03               N   \n",
       " 10      2023-05-01 21:20:45.841min ago            37.67               N   \n",
       " 11      2023-05-01 21:16:40.045min ago            19.92               N   \n",
       " 12      2023-05-01 21:04:30.057min ago            24.18               S   \n",
       " 13      2023-05-01 21:04:09.358min ago            35.30               N   \n",
       " 14      2023-05-01 21:03:36.058min ago             4.57               S   \n",
       " 15      2023-05-01 21:03:16.559min ago            40.60               N   \n",
       " 16  2023-05-01 21:02:05.61hr 00min ago            37.85               N   \n",
       " 17  2023-05-01 20:58:18.01hr 04min ago            38.47               N   \n",
       " 18  2023-05-01 20:47:10.01hr 15min ago            17.80               N   \n",
       " 19  2023-05-01 20:42:44.11hr 19min ago            38.17               N   \n",
       " 20  2023-05-01 20:40:57.21hr 21min ago            37.10               N   \n",
       " 21  2023-05-01 20:40:18.11hr 22min ago            38.80               N   \n",
       " 22  2023-05-01 20:37:49.01hr 24min ago             6.37               N   \n",
       " 23  2023-05-01 20:36:50.91hr 25min ago            33.04               N   \n",
       " 24  2023-05-01 20:34:16.01hr 28min ago            20.27               N   \n",
       " 25  2023-05-01 20:24:55.71hr 37min ago            40.15               N   \n",
       " 26  2023-05-01 20:20:20.41hr 42min ago            37.91               N   \n",
       " 27  2023-05-01 20:10:55.01hr 51min ago            40.72               N   \n",
       " 28  2023-05-01 20:04:08.91hr 58min ago            60.06               N   \n",
       " 29  2023-05-01 19:54:01.02hr 08min ago            46.15               N   \n",
       " 30  2023-05-01 19:42:35.02hr 19min ago             7.78               N   \n",
       " 31  2023-05-01 19:42:11.22hr 20min ago            38.14               N   \n",
       " 32  2023-05-01 19:39:48.22hr 22min ago            40.13               N   \n",
       " 33  2023-05-01 19:37:42.02hr 24min ago             6.91               S   \n",
       " 34  2023-05-01 19:37:12.02hr 25min ago            20.19               N   \n",
       " 35  2023-05-01 19:35:41.22hr 26min ago            18.49               N   \n",
       " 36  2023-05-01 19:24:12.02hr 38min ago            34.42               S   \n",
       " 37  2023-05-01 19:16:56.02hr 45min ago             0.76               N   \n",
       " 38  2023-05-01 19:13:00.22hr 49min ago            38.27               N   \n",
       " 39  2023-05-01 19:12:06.02hr 50min ago             2.75               S   \n",
       " 40  2023-05-01 19:11:14.02hr 51min ago            14.49               S   \n",
       " 41  2023-05-01 19:09:57.02hr 52min ago             2.69               S   \n",
       " 42  2023-05-01 18:56:30.03hr 05min ago            37.80               N   \n",
       " 43  2023-05-01 18:47:12.93hr 15min ago            40.14               S   \n",
       " 44  2023-05-01 18:45:54.03hr 16min ago            36.24               N   \n",
       " 45  2023-05-01 18:44:34.23hr 17min ago            40.17               S   \n",
       " 46  2023-05-01 18:36:06.03hr 26min ago             7.76               N   \n",
       " 47  2023-05-01 18:34:37.03hr 27min ago             9.30               S   \n",
       " 48  2023-05-01 18:31:10.03hr 31min ago            25.83               S   \n",
       " 49  2023-05-01 18:24:43.73hr 37min ago            38.33               N   \n",
       " 50                                 NaN              NaN             NaN   \n",
       " 51                       12345678910»    12345678910»   12345678910»   \n",
       " 52                                 NaN              NaN             NaN   \n",
       " \n",
       "    Longitude degrees                       Depth km        Mag [+]   \n",
       "        12345678910» 12345678910».1  12345678910»  12345678910»   \n",
       " 0             128.33               E             10              M  \\\n",
       " 1             119.38               E             10              M   \n",
       " 2              67.27               W            194              M   \n",
       " 3              36.23               E              5             ML   \n",
       " 4              36.60               E              3             ML   \n",
       " 5              73.38               W              5              M   \n",
       " 6              38.59               E              5             ML   \n",
       " 7             115.54               W              4             Ml   \n",
       " 8             127.24               E            126              M   \n",
       " 9             116.00               W              9             Ml   \n",
       " 10             35.39               E              5             ML   \n",
       " 11             70.30               W             30              M   \n",
       " 12             66.84               W            207              M   \n",
       " 13              3.59               W             26             ML   \n",
       " 14            102.65               E             34              M   \n",
       " 15             33.41               E             14             ML   \n",
       " 16             21.23               E             10             ML   \n",
       " 17             36.97               E              6             ML   \n",
       " 18             66.31               W             11             Md   \n",
       " 19             38.23               E             22             ML   \n",
       " 20             28.49               E              3             ML   \n",
       " 21            122.75               W              1             Md   \n",
       " 22            127.29               E             58              M   \n",
       " 23            116.01               W              5             ML   \n",
       " 24            121.55               E             19              M   \n",
       " 25              3.23               W              2             ML   \n",
       " 26             36.26               E              5             ML   \n",
       " 27             25.77               E              8             ML   \n",
       " 28            151.55               W             68             ML   \n",
       " 29             15.60               E              1             ML   \n",
       " 30             80.88               W             10              M   \n",
       " 31             37.76               E             13             ML   \n",
       " 32              3.21               W              5             ML   \n",
       " 33            108.19               E             11              M   \n",
       " 34            122.21               E             15              M   \n",
       " 35             68.82               W            122             ML   \n",
       " 36             71.01               W             72              M   \n",
       " 37             78.13               W              5              M   \n",
       " 38             42.43               E             12             ML   \n",
       " 39            128.02               E             10              M   \n",
       " 40             74.24               W            105              M   \n",
       " 41            128.27               E             17              M   \n",
       " 42            141.70               E             60              M   \n",
       " 43            174.35               E             30              M   \n",
       " 44             89.43               W              5             mb   \n",
       " 45            174.35               E              9              M   \n",
       " 46             80.95               W             10              M   \n",
       " 47            113.99               E             26              M   \n",
       " 48             70.46               W             50              M   \n",
       " 49             37.81               E              8             ML   \n",
       " 50               NaN             NaN            NaN            NaN   \n",
       " 51     12345678910»   12345678910»  12345678910»  12345678910»   \n",
       " 52               NaN             NaN            NaN            NaN   \n",
       " \n",
       "    Region name [+]                   Last update [-] Unnamed: 12_level_0  \n",
       "      12345678910»                     12345678910»       12345678910»  \n",
       " 0              2.6                  SERAM, INDONESIA    2023-05-01 22:00  \n",
       " 1              2.7               SULAWESI, INDONESIA    2023-05-01 21:55  \n",
       " 2              3.6                  SALTA, ARGENTINA    2023-05-01 22:00  \n",
       " 3              2.0                    CENTRAL TURKEY    2023-05-01 21:58  \n",
       " 4              2.0                    CENTRAL TURKEY    2023-05-01 21:53  \n",
       " 5              3.7                      HAITI REGION    2023-05-01 21:50  \n",
       " 6              4.4                    EASTERN TURKEY    2023-05-01 21:54  \n",
       " 7              2.4               SOUTHERN CALIFORNIA    2023-05-01 21:39  \n",
       " 8              3.1              HALMAHERA, INDONESIA    2023-05-01 21:40  \n",
       " 9              2.5               SOUTHERN CALIFORNIA    2023-05-01 21:24  \n",
       " 10             2.0                    CENTRAL TURKEY    2023-05-01 21:28  \n",
       " 11             3.5         DOMINICAN REPUBLIC REGION    2023-05-01 21:35  \n",
       " 12             3.5                  SALTA, ARGENTINA    2023-05-01 21:25  \n",
       " 13             2.1               STRAIT OF GIBRALTAR    2023-05-01 21:19  \n",
       " 14             2.9       SOUTHERN SUMATRA, INDONESIA    2023-05-01 21:15  \n",
       " 15             2.0                    CENTRAL TURKEY    2023-05-01 21:23  \n",
       " 16             2.7                   SOUTHERN GREECE    2023-05-01 21:44  \n",
       " 17             2.6                    CENTRAL TURKEY    2023-05-01 21:31  \n",
       " 18             2.5                PUERTO RICO REGION    2023-05-01 21:00  \n",
       " 19             2.1                    EASTERN TURKEY    2023-05-01 20:58  \n",
       " 20             3.4                    WESTERN TURKEY    2023-05-01 21:32  \n",
       " 21             2.4               NORTHERN CALIFORNIA    2023-05-01 20:41  \n",
       " 22             3.4         PHILIPPINE ISLANDS REGION    2023-05-01 20:50  \n",
       " 23             3.0               SOUTHERN CALIFORNIA    2023-05-01 21:22  \n",
       " 24             3.1     BATAN ISL REGION, PHILIPPINES    2023-05-01 20:50  \n",
       " 25             1.6                             SPAIN    2023-05-01 21:01  \n",
       " 26             2.1                    CENTRAL TURKEY    2023-05-01 20:27  \n",
       " 27             2.5                        AEGEAN SEA    2023-05-01 21:33  \n",
       " 28             2.6           KENAI PENINSULA, ALASKA    2023-05-01 21:00  \n",
       " 29             1.3                          SLOVENIA    2023-05-01 19:56  \n",
       " 30             3.1                            PANAMA    2023-05-01 19:45  \n",
       " 31             2.0                    CENTRAL TURKEY    2023-05-01 19:51  \n",
       " 32             1.8                             SPAIN    2023-05-01 20:00  \n",
       " 33             2.7                   JAVA, INDONESIA    2023-05-01 19:45  \n",
       " 34             3.3     BATAN ISL REGION, PHILIPPINES    2023-05-01 19:50  \n",
       " 35             3.8                DOMINICAN REPUBLIC    2023-05-01 21:32  \n",
       " 36             3.1       LIBERTADOR O'HIGGINS, CHILE    2023-05-01 19:39  \n",
       " 37             3.8    COLOMBIA-ECUADOR BORDER REGION    2023-05-01 19:30  \n",
       " 38             2.2                    EASTERN TURKEY    2023-05-01 19:27  \n",
       " 39             3.1              CERAM SEA, INDONESIA    2023-05-01 19:40  \n",
       " 40             4.0                      CENTRAL PERU    2023-05-01 19:20  \n",
       " 41             2.6              CERAM SEA, INDONESIA    2023-05-01 19:40  \n",
       " 42             4.3  NEAR EAST COAST OF HONSHU, JAPAN    2023-05-01 19:05  \n",
       " 43             3.1          COOK STRAIT, NEW ZEALAND    2023-05-01 18:50  \n",
       " 44             2.7                         TENNESSEE    2023-05-01 21:28  \n",
       " 45             3.1          COOK STRAIT, NEW ZEALAND    2023-05-01 18:50  \n",
       " 46             3.2                            PANAMA    2023-05-01 18:50  \n",
       " 47             2.9          SOUTH OF JAVA, INDONESIA    2023-05-01 19:45  \n",
       " 48             3.1                ANTOFAGASTA, CHILE    2023-05-01 18:47  \n",
       " 49             2.2                    CENTRAL TURKEY    2023-05-01 18:29  \n",
       " 50             NaN                               NaN                 NaN  \n",
       " 51   12345678910»                     12345678910»       12345678910»  \n",
       " 52             NaN                               NaN                 NaN  ]"
      ]
     },
     "execution_count": 27,
     "metadata": {},
     "output_type": "execute_result"
    }
   ],
   "source": [
    "pd.read_html(url)\n",
    "tables = pd.read_html(url)\n",
    "tables"
   ]
  },
  {
   "cell_type": "markdown",
   "metadata": {},
   "source": [
    "#### 3. Display IMDB's top 250 data (movie name, initial release, director name and stars) as a pandas dataframe.\n",
    "Hint: If you hover over the title of the movie, you should see the director's name. Can you find where it's stored in the html?"
   ]
  },
  {
   "cell_type": "code",
   "execution_count": 17,
   "metadata": {},
   "outputs": [],
   "source": [
    "# This is the url you will scrape in this exercise \n",
    "url = 'https://www.imdb.com/chart/top'"
   ]
  },
  {
   "cell_type": "code",
   "execution_count": 18,
   "metadata": {},
   "outputs": [],
   "source": [
    "# your code here"
   ]
  },
  {
   "cell_type": "markdown",
   "metadata": {},
   "source": [
    "#### 3.1. Display the movie name, year and a brief summary of the top 10 random movies (IMDB) as a pandas dataframe."
   ]
  },
  {
   "cell_type": "code",
   "execution_count": 19,
   "metadata": {},
   "outputs": [],
   "source": [
    "#This is the url you will scrape in this exercise\n",
    "url = 'https://www.imdb.com/list/ls009796553/'"
   ]
  },
  {
   "cell_type": "code",
   "execution_count": 20,
   "metadata": {},
   "outputs": [],
   "source": [
    "# your code here"
   ]
  },
  {
   "cell_type": "markdown",
   "metadata": {},
   "source": [
    "## Bonus"
   ]
  },
  {
   "cell_type": "markdown",
   "metadata": {},
   "source": [
    "#### Find the live weather report (temperature, wind speed, description and weather) of a given city."
   ]
  },
  {
   "cell_type": "code",
   "execution_count": 21,
   "metadata": {},
   "outputs": [],
   "source": [
    "#https://openweathermap.org/current\n",
    "city = input('Enter the city: ')\n",
    "url = 'http://api.openweathermap.org/data/2.5/weather?'+'q='+city+'&APPID=b35975e18dc93725acb092f7272cc6b8&units=metric'"
   ]
  },
  {
   "cell_type": "code",
   "execution_count": 22,
   "metadata": {},
   "outputs": [],
   "source": [
    "# your code here"
   ]
  },
  {
   "cell_type": "markdown",
   "metadata": {},
   "source": [
    "#### Find the book name, price and stock availability as a pandas dataframe."
   ]
  },
  {
   "cell_type": "code",
   "execution_count": 23,
   "metadata": {},
   "outputs": [],
   "source": [
    "# This is the url you will scrape in this exercise. \n",
    "# It is a fictional bookstore created to be scraped. \n",
    "url = 'http://books.toscrape.com/'"
   ]
  },
  {
   "cell_type": "code",
   "execution_count": 24,
   "metadata": {},
   "outputs": [],
   "source": [
    "# your code here"
   ]
  },
  {
   "cell_type": "markdown",
   "metadata": {},
   "source": [
    "####  Display the 100 latest earthquakes info (date, time, latitude, longitude and region name) by the EMSC as a pandas dataframe.\n",
    "***Hint:*** Here the displayed number of earthquakes per page is 20, but you can easily move to the next page by looping through the desired number of pages and adding it to the end of the url."
   ]
  },
  {
   "cell_type": "code",
   "execution_count": 25,
   "metadata": {},
   "outputs": [
    {
     "data": {
      "text/plain": [
       "['https://www.emsc-csem.org/Earthquake/?view=1',\n",
       " 'https://www.emsc-csem.org/Earthquake/?view=2',\n",
       " 'https://www.emsc-csem.org/Earthquake/?view=3',\n",
       " 'https://www.emsc-csem.org/Earthquake/?view=4',\n",
       " 'https://www.emsc-csem.org/Earthquake/?view=5']"
      ]
     },
     "execution_count": 25,
     "metadata": {},
     "output_type": "execute_result"
    }
   ],
   "source": [
    "# This is the url you will scrape in this exercise\n",
    "url = 'https://www.emsc-csem.org/Earthquake/?view='\n",
    "\n",
    "# This is how you will loop through each page:\n",
    "number_of_pages = int(100/20)\n",
    "each_page_urls = []\n",
    "\n",
    "for n in range(1, number_of_pages+1):\n",
    "    link = url+str(n)\n",
    "    each_page_urls.append(link)\n",
    "    \n",
    "each_page_urls"
   ]
  },
  {
   "cell_type": "code",
   "execution_count": 26,
   "metadata": {},
   "outputs": [],
   "source": [
    "# your code here"
   ]
  }
 ],
 "metadata": {
  "kernelspec": {
   "display_name": "Python 3",
   "language": "python",
   "name": "python3"
  },
  "language_info": {
   "codemirror_mode": {
    "name": "ipython",
    "version": 3
   },
   "file_extension": ".py",
   "mimetype": "text/x-python",
   "name": "python",
   "nbconvert_exporter": "python",
   "pygments_lexer": "ipython3",
   "version": "3.11.2"
  }
 },
 "nbformat": 4,
 "nbformat_minor": 2
}
