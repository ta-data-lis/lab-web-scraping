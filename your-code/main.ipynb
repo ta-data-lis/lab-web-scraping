{
 "cells": [
  {
   "cell_type": "markdown",
   "metadata": {},
   "source": [
    "# Web Scraping Lab\n",
    "\n",
    "You will find in this notebook some scrapy exercises to practise your scraping skills.\n",
    "\n",
    "**Tips:**\n",
    "\n",
    "- Check the response status code for each request to ensure you have obtained the intended content.\n",
    "- Print the response text in each request to understand the kind of info you are getting and its format.\n",
    "- Check for patterns in the response text to extract the data/info requested in each question.\n",
    "- Visit the urls below and take a look at their source code through Chrome DevTools. You'll need to identify the html tags, special class names, etc used in the html content you are expected to extract.\n",
    "\n",
    "**Resources**:\n",
    "- [Requests library](http://docs.python-requests.org/en/master/#the-user-guide)\n",
    "- [Beautiful Soup Doc](https://www.crummy.com/software/BeautifulSoup/bs4/doc/)\n",
    "- [Urllib](https://docs.python.org/3/library/urllib.html#module-urllib)\n",
    "- [re lib](https://docs.python.org/3/library/re.html)\n",
    "- [lxml lib](https://lxml.de/)\n",
    "- [Scrapy](https://scrapy.org/)\n",
    "- [List of HTTP status codes](https://en.wikipedia.org/wiki/List_of_HTTP_status_codes)\n",
    "- [HTML basics](http://www.simplehtmlguide.com/cheatsheet.php)\n",
    "- [CSS basics](https://www.cssbasics.com/#page_start)"
   ]
  },
  {
   "cell_type": "markdown",
   "metadata": {},
   "source": [
    "#### Below are the libraries and modules you may need. `requests`,  `BeautifulSoup` and `pandas` are already imported for you. If you prefer to use additional libraries feel free to do it."
   ]
  },
  {
   "cell_type": "code",
   "execution_count": 16,
   "metadata": {},
   "outputs": [],
   "source": [
    "import requests\n",
    "from bs4 import BeautifulSoup\n",
    "import pandas as pd\n",
    "import re"
   ]
  },
  {
   "cell_type": "markdown",
   "metadata": {},
   "source": [
    "#### Download, parse (using BeautifulSoup), and print the content from the Trending Developers page from GitHub:"
   ]
  },
  {
   "cell_type": "code",
   "execution_count": 3,
   "metadata": {},
   "outputs": [],
   "source": [
    "# This is the url you will scrape in this exercise\n",
    "url = 'https://github.com/trending/developers'"
   ]
  },
  {
   "cell_type": "code",
   "execution_count": 59,
   "metadata": {},
   "outputs": [],
   "source": [
    "html = requests.get(url).content\n",
    "html\n",
    "\n",
    "soup = BeautifulSoup(html, \"lxml\")  # Check documentation to specify 'features'\n",
    "#soup"
   ]
  },
  {
   "cell_type": "markdown",
   "metadata": {},
   "source": [
    "#### Display the names of the trending developers retrieved in the previous step.\n",
    "\n",
    "Your output should be a Python list of developer names. Each name should not contain any html tag.\n",
    "\n",
    "**Instructions:**\n",
    "\n",
    "1. Find out the html tag and class names used for the developer names. You can achieve this using Chrome DevTools.\n",
    "\n",
    "1. Use BeautifulSoup to extract all the html elements that contain the developer names.\n",
    "\n",
    "1. Use string manipulation techniques to replace whitespaces and linebreaks (i.e. `\\n`) in the *text* of each html element. Use a list to store the clean names.\n",
    "\n",
    "1. Print the list of names.\n",
    "\n",
    "Your output should look like below:\n",
    "\n",
    "```\n",
    "['trimstray (@trimstray)',\n",
    " 'joewalnes (JoeWalnes)',\n",
    " 'charlax (Charles-AxelDein)',\n",
    " 'ForrestKnight (ForrestKnight)',\n",
    " 'revery-ui (revery-ui)',\n",
    " 'alibaba (Alibaba)',\n",
    " 'Microsoft (Microsoft)',\n",
    " 'github (GitHub)',\n",
    " 'facebook (Facebook)',\n",
    " 'boazsegev (Bo)',\n",
    " 'google (Google)',\n",
    " 'cloudfetch',\n",
    " 'sindresorhus (SindreSorhus)',\n",
    " 'tensorflow',\n",
    " 'apache (TheApacheSoftwareFoundation)',\n",
    " 'DevonCrawford (DevonCrawford)',\n",
    " 'ARMmbed (ArmMbed)',\n",
    " 'vuejs (vuejs)',\n",
    " 'fastai (fast.ai)',\n",
    " 'QiShaoXuan (Qi)',\n",
    " 'joelparkerhenderson (JoelParkerHenderson)',\n",
    " 'torvalds (LinusTorvalds)',\n",
    " 'CyC2018',\n",
    " 'komeiji-satori (神楽坂覚々)',\n",
    " 'script-8']\n",
    " ```"
   ]
  },
  {
   "cell_type": "code",
   "execution_count": 48,
   "metadata": {},
   "outputs": [
    {
     "data": {
      "text/plain": [
       "[]"
      ]
     },
     "execution_count": 48,
     "metadata": {},
     "output_type": "execute_result"
    }
   ],
   "source": [
    "#developers name\n",
    "devs = soup.find_all('h1', attrs = {'class':'h3 lh-condensed'})\n",
    "\n",
    "#developers user name\n",
    "udevs = soup.find_all('p', attrs = {'class':'f4 text-normal mb-1'})\n",
    "udevs"
   ]
  },
  {
   "cell_type": "code",
   "execution_count": 43,
   "metadata": {},
   "outputs": [
    {
     "data": {
      "text/plain": [
       "['Eric Ma']"
      ]
     },
     "execution_count": 43,
     "metadata": {},
     "output_type": "execute_result"
    }
   ],
   "source": [
    "#developers names\n",
    "all_devs = [i.text for i in devs]\n",
    "all_devs"
   ]
  },
  {
   "cell_type": "code",
   "execution_count": 45,
   "metadata": {},
   "outputs": [
    {
     "data": {
      "text/plain": [
       "['ericmjl']"
      ]
     },
     "execution_count": 45,
     "metadata": {},
     "output_type": "execute_result"
    }
   ],
   "source": [
    "#developers user names\n",
    "all_udevs = [i.text.replace('\\n', '') for i in udevs]\n",
    "all_udevs"
   ]
  },
  {
   "cell_type": "code",
   "execution_count": 58,
   "metadata": {},
   "outputs": [
    {
     "name": "stdout",
     "output_type": "stream",
     "text": [
      "[('Eric Ma', 'ericmjl')]\n"
     ]
    }
   ],
   "source": [
    "developers = list(zip(all_devs,all_udevs))\n",
    "print(developers)"
   ]
  },
  {
   "cell_type": "markdown",
   "metadata": {},
   "source": [
    "#### Display the trending Python repositories in GitHub.\n",
    "\n",
    "The steps to solve this problem is similar to the previous one except that you need to find out the repository names instead of developer names."
   ]
  },
  {
   "cell_type": "code",
   "execution_count": 49,
   "metadata": {},
   "outputs": [],
   "source": [
    "# This is the url you will scrape in this exercise\n",
    "url = 'https://github.com/trending/python?since=daily'"
   ]
  },
  {
   "cell_type": "code",
   "execution_count": 52,
   "metadata": {},
   "outputs": [
    {
     "data": {
      "text/plain": [
       "[<h1 class=\"h3 lh-condensed\">\n",
       " <a href=\"/microsoft/nlp\">\n",
       " <svg aria-hidden=\"true\" class=\"octicon octicon-repo text-gray mr-1\" height=\"16\" version=\"1.1\" viewbox=\"0 0 12 16\" width=\"12\"><path d=\"M4 9H3V8h1v1zm0-3H3v1h1V6zm0-2H3v1h1V4zm0-2H3v1h1V2zm8-1v12c0 .55-.45 1-1 1H6v2l-1.5-1.5L3 16v-2H1c-.55 0-1-.45-1-1V1c0-.55.45-1 1-1h10c.55 0 1 .45 1 1zm-1 10H1v2h2v-1h3v1h5v-2zm0-10H2v9h9V1z\" fill-rule=\"evenodd\"></path></svg>\n",
       " <span class=\"text-normal\">microsoft / </span>nlp\n",
       " </a> </h1>, <h1 class=\"h3 lh-condensed\">\n",
       " <a href=\"/deepfakes/faceswap\">\n",
       " <svg aria-hidden=\"true\" class=\"octicon octicon-repo text-gray mr-1\" height=\"16\" version=\"1.1\" viewbox=\"0 0 12 16\" width=\"12\"><path d=\"M4 9H3V8h1v1zm0-3H3v1h1V6zm0-2H3v1h1V4zm0-2H3v1h1V2zm8-1v12c0 .55-.45 1-1 1H6v2l-1.5-1.5L3 16v-2H1c-.55 0-1-.45-1-1V1c0-.55.45-1 1-1h10c.55 0 1 .45 1 1zm-1 10H1v2h2v-1h3v1h5v-2zm0-10H2v9h9V1z\" fill-rule=\"evenodd\"></path></svg>\n",
       " <span class=\"text-normal\">deepfakes / </span>faceswap\n",
       " </a> </h1>, <h1 class=\"h3 lh-condensed\">\n",
       " <a href=\"/eriklindernoren/ML-From-Scratch\">\n",
       " <svg aria-hidden=\"true\" class=\"octicon octicon-repo text-gray mr-1\" height=\"16\" version=\"1.1\" viewbox=\"0 0 12 16\" width=\"12\"><path d=\"M4 9H3V8h1v1zm0-3H3v1h1V6zm0-2H3v1h1V4zm0-2H3v1h1V2zm8-1v12c0 .55-.45 1-1 1H6v2l-1.5-1.5L3 16v-2H1c-.55 0-1-.45-1-1V1c0-.55.45-1 1-1h10c.55 0 1 .45 1 1zm-1 10H1v2h2v-1h3v1h5v-2zm0-10H2v9h9V1z\" fill-rule=\"evenodd\"></path></svg>\n",
       " <span class=\"text-normal\">eriklindernoren / </span>ML-From-Scratch\n",
       " </a> </h1>, <h1 class=\"h3 lh-condensed\">\n",
       " <a href=\"/openai/baselines\">\n",
       " <svg aria-hidden=\"true\" class=\"octicon octicon-repo text-gray mr-1\" height=\"16\" version=\"1.1\" viewbox=\"0 0 12 16\" width=\"12\"><path d=\"M4 9H3V8h1v1zm0-3H3v1h1V6zm0-2H3v1h1V4zm0-2H3v1h1V2zm8-1v12c0 .55-.45 1-1 1H6v2l-1.5-1.5L3 16v-2H1c-.55 0-1-.45-1-1V1c0-.55.45-1 1-1h10c.55 0 1 .45 1 1zm-1 10H1v2h2v-1h3v1h5v-2zm0-10H2v9h9V1z\" fill-rule=\"evenodd\"></path></svg>\n",
       " <span class=\"text-normal\">openai / </span>baselines\n",
       " </a> </h1>, <h1 class=\"h3 lh-condensed\">\n",
       " <a href=\"/google/brain-tokyo-workshop\">\n",
       " <svg aria-hidden=\"true\" class=\"octicon octicon-repo text-gray mr-1\" height=\"16\" version=\"1.1\" viewbox=\"0 0 12 16\" width=\"12\"><path d=\"M4 9H3V8h1v1zm0-3H3v1h1V6zm0-2H3v1h1V4zm0-2H3v1h1V2zm8-1v12c0 .55-.45 1-1 1H6v2l-1.5-1.5L3 16v-2H1c-.55 0-1-.45-1-1V1c0-.55.45-1 1-1h10c.55 0 1 .45 1 1zm-1 10H1v2h2v-1h3v1h5v-2zm0-10H2v9h9V1z\" fill-rule=\"evenodd\"></path></svg>\n",
       " <span class=\"text-normal\">google / </span>brain-tokyo-workshop\n",
       " </a> </h1>, <h1 class=\"h3 lh-condensed\">\n",
       " <a href=\"/public-apis/public-apis\">\n",
       " <svg aria-hidden=\"true\" class=\"octicon octicon-repo text-gray mr-1\" height=\"16\" version=\"1.1\" viewbox=\"0 0 12 16\" width=\"12\"><path d=\"M4 9H3V8h1v1zm0-3H3v1h1V6zm0-2H3v1h1V4zm0-2H3v1h1V2zm8-1v12c0 .55-.45 1-1 1H6v2l-1.5-1.5L3 16v-2H1c-.55 0-1-.45-1-1V1c0-.55.45-1 1-1h10c.55 0 1 .45 1 1zm-1 10H1v2h2v-1h3v1h5v-2zm0-10H2v9h9V1z\" fill-rule=\"evenodd\"></path></svg>\n",
       " <span class=\"text-normal\">public-apis / </span>public-apis\n",
       " </a> </h1>, <h1 class=\"h3 lh-condensed\">\n",
       " <a href=\"/openai/gym\">\n",
       " <svg aria-hidden=\"true\" class=\"octicon octicon-repo text-gray mr-1\" height=\"16\" version=\"1.1\" viewbox=\"0 0 12 16\" width=\"12\"><path d=\"M4 9H3V8h1v1zm0-3H3v1h1V6zm0-2H3v1h1V4zm0-2H3v1h1V2zm8-1v12c0 .55-.45 1-1 1H6v2l-1.5-1.5L3 16v-2H1c-.55 0-1-.45-1-1V1c0-.55.45-1 1-1h10c.55 0 1 .45 1 1zm-1 10H1v2h2v-1h3v1h5v-2zm0-10H2v9h9V1z\" fill-rule=\"evenodd\"></path></svg>\n",
       " <span class=\"text-normal\">openai / </span>gym\n",
       " </a> </h1>, <h1 class=\"h3 lh-condensed\">\n",
       " <a href=\"/ansible/ansible\">\n",
       " <svg aria-hidden=\"true\" class=\"octicon octicon-repo text-gray mr-1\" height=\"16\" version=\"1.1\" viewbox=\"0 0 12 16\" width=\"12\"><path d=\"M4 9H3V8h1v1zm0-3H3v1h1V6zm0-2H3v1h1V4zm0-2H3v1h1V2zm8-1v12c0 .55-.45 1-1 1H6v2l-1.5-1.5L3 16v-2H1c-.55 0-1-.45-1-1V1c0-.55.45-1 1-1h10c.55 0 1 .45 1 1zm-1 10H1v2h2v-1h3v1h5v-2zm0-10H2v9h9V1z\" fill-rule=\"evenodd\"></path></svg>\n",
       " <span class=\"text-normal\">ansible / </span>ansible\n",
       " </a> </h1>, <h1 class=\"h3 lh-condensed\">\n",
       " <a href=\"/zalandoresearch/flair\">\n",
       " <svg aria-hidden=\"true\" class=\"octicon octicon-repo text-gray mr-1\" height=\"16\" version=\"1.1\" viewbox=\"0 0 12 16\" width=\"12\"><path d=\"M4 9H3V8h1v1zm0-3H3v1h1V6zm0-2H3v1h1V4zm0-2H3v1h1V2zm8-1v12c0 .55-.45 1-1 1H6v2l-1.5-1.5L3 16v-2H1c-.55 0-1-.45-1-1V1c0-.55.45-1 1-1h10c.55 0 1 .45 1 1zm-1 10H1v2h2v-1h3v1h5v-2zm0-10H2v9h9V1z\" fill-rule=\"evenodd\"></path></svg>\n",
       " <span class=\"text-normal\">zalandoresearch / </span>flair\n",
       " </a> </h1>, <h1 class=\"h3 lh-condensed\">\n",
       " <a href=\"/Kr1s77/awesome-python-login-model\">\n",
       " <svg aria-hidden=\"true\" class=\"octicon octicon-repo text-gray mr-1\" height=\"16\" version=\"1.1\" viewbox=\"0 0 12 16\" width=\"12\"><path d=\"M4 9H3V8h1v1zm0-3H3v1h1V6zm0-2H3v1h1V4zm0-2H3v1h1V2zm8-1v12c0 .55-.45 1-1 1H6v2l-1.5-1.5L3 16v-2H1c-.55 0-1-.45-1-1V1c0-.55.45-1 1-1h10c.55 0 1 .45 1 1zm-1 10H1v2h2v-1h3v1h5v-2zm0-10H2v9h9V1z\" fill-rule=\"evenodd\"></path></svg>\n",
       " <span class=\"text-normal\">Kr1s77 / </span>awesome-python-login-model\n",
       " </a> </h1>, <h1 class=\"h3 lh-condensed\">\n",
       " <a href=\"/fendouai/PyTorchDocs\">\n",
       " <svg aria-hidden=\"true\" class=\"octicon octicon-repo text-gray mr-1\" height=\"16\" version=\"1.1\" viewbox=\"0 0 12 16\" width=\"12\"><path d=\"M4 9H3V8h1v1zm0-3H3v1h1V6zm0-2H3v1h1V4zm0-2H3v1h1V2zm8-1v12c0 .55-.45 1-1 1H6v2l-1.5-1.5L3 16v-2H1c-.55 0-1-.45-1-1V1c0-.55.45-1 1-1h10c.55 0 1 .45 1 1zm-1 10H1v2h2v-1h3v1h5v-2zm0-10H2v9h9V1z\" fill-rule=\"evenodd\"></path></svg>\n",
       " <span class=\"text-normal\">fendouai / </span>PyTorchDocs\n",
       " </a> </h1>, <h1 class=\"h3 lh-condensed\">\n",
       " <a href=\"/pennersr/django-allauth\">\n",
       " <svg aria-hidden=\"true\" class=\"octicon octicon-repo text-gray mr-1\" height=\"16\" version=\"1.1\" viewbox=\"0 0 12 16\" width=\"12\"><path d=\"M4 9H3V8h1v1zm0-3H3v1h1V6zm0-2H3v1h1V4zm0-2H3v1h1V2zm8-1v12c0 .55-.45 1-1 1H6v2l-1.5-1.5L3 16v-2H1c-.55 0-1-.45-1-1V1c0-.55.45-1 1-1h10c.55 0 1 .45 1 1zm-1 10H1v2h2v-1h3v1h5v-2zm0-10H2v9h9V1z\" fill-rule=\"evenodd\"></path></svg>\n",
       " <span class=\"text-normal\">pennersr / </span>django-allauth\n",
       " </a> </h1>, <h1 class=\"h3 lh-condensed\">\n",
       " <a href=\"/pi-hole/docker-pi-hole\">\n",
       " <svg aria-hidden=\"true\" class=\"octicon octicon-repo text-gray mr-1\" height=\"16\" version=\"1.1\" viewbox=\"0 0 12 16\" width=\"12\"><path d=\"M4 9H3V8h1v1zm0-3H3v1h1V6zm0-2H3v1h1V4zm0-2H3v1h1V2zm8-1v12c0 .55-.45 1-1 1H6v2l-1.5-1.5L3 16v-2H1c-.55 0-1-.45-1-1V1c0-.55.45-1 1-1h10c.55 0 1 .45 1 1zm-1 10H1v2h2v-1h3v1h5v-2zm0-10H2v9h9V1z\" fill-rule=\"evenodd\"></path></svg>\n",
       " <span class=\"text-normal\">pi-hole / </span>docker-pi-hole\n",
       " </a> </h1>, <h1 class=\"h3 lh-condensed\">\n",
       " <a href=\"/dmlc/tvm\">\n",
       " <svg aria-hidden=\"true\" class=\"octicon octicon-repo text-gray mr-1\" height=\"16\" version=\"1.1\" viewbox=\"0 0 12 16\" width=\"12\"><path d=\"M4 9H3V8h1v1zm0-3H3v1h1V6zm0-2H3v1h1V4zm0-2H3v1h1V2zm8-1v12c0 .55-.45 1-1 1H6v2l-1.5-1.5L3 16v-2H1c-.55 0-1-.45-1-1V1c0-.55.45-1 1-1h10c.55 0 1 .45 1 1zm-1 10H1v2h2v-1h3v1h5v-2zm0-10H2v9h9V1z\" fill-rule=\"evenodd\"></path></svg>\n",
       " <span class=\"text-normal\">dmlc / </span>tvm\n",
       " </a> </h1>, <h1 class=\"h3 lh-condensed\">\n",
       " <a href=\"/google-research/google-research\">\n",
       " <svg aria-hidden=\"true\" class=\"octicon octicon-repo text-gray mr-1\" height=\"16\" version=\"1.1\" viewbox=\"0 0 12 16\" width=\"12\"><path d=\"M4 9H3V8h1v1zm0-3H3v1h1V6zm0-2H3v1h1V4zm0-2H3v1h1V2zm8-1v12c0 .55-.45 1-1 1H6v2l-1.5-1.5L3 16v-2H1c-.55 0-1-.45-1-1V1c0-.55.45-1 1-1h10c.55 0 1 .45 1 1zm-1 10H1v2h2v-1h3v1h5v-2zm0-10H2v9h9V1z\" fill-rule=\"evenodd\"></path></svg>\n",
       " <span class=\"text-normal\">google-research / </span>google-research\n",
       " </a> </h1>, <h1 class=\"h3 lh-condensed\">\n",
       " <a href=\"/google-research/football\">\n",
       " <svg aria-hidden=\"true\" class=\"octicon octicon-repo text-gray mr-1\" height=\"16\" version=\"1.1\" viewbox=\"0 0 12 16\" width=\"12\"><path d=\"M4 9H3V8h1v1zm0-3H3v1h1V6zm0-2H3v1h1V4zm0-2H3v1h1V2zm8-1v12c0 .55-.45 1-1 1H6v2l-1.5-1.5L3 16v-2H1c-.55 0-1-.45-1-1V1c0-.55.45-1 1-1h10c.55 0 1 .45 1 1zm-1 10H1v2h2v-1h3v1h5v-2zm0-10H2v9h9V1z\" fill-rule=\"evenodd\"></path></svg>\n",
       " <span class=\"text-normal\">google-research / </span>football\n",
       " </a> </h1>, <h1 class=\"h3 lh-condensed\">\n",
       " <a href=\"/huggingface/pytorch-transformers\">\n",
       " <svg aria-hidden=\"true\" class=\"octicon octicon-repo text-gray mr-1\" height=\"16\" version=\"1.1\" viewbox=\"0 0 12 16\" width=\"12\"><path d=\"M4 9H3V8h1v1zm0-3H3v1h1V6zm0-2H3v1h1V4zm0-2H3v1h1V2zm8-1v12c0 .55-.45 1-1 1H6v2l-1.5-1.5L3 16v-2H1c-.55 0-1-.45-1-1V1c0-.55.45-1 1-1h10c.55 0 1 .45 1 1zm-1 10H1v2h2v-1h3v1h5v-2zm0-10H2v9h9V1z\" fill-rule=\"evenodd\"></path></svg>\n",
       " <span class=\"text-normal\">huggingface / </span>pytorch-transformers\n",
       " </a> </h1>, <h1 class=\"h3 lh-condensed\">\n",
       " <a href=\"/apache/airflow\">\n",
       " <svg aria-hidden=\"true\" class=\"octicon octicon-repo text-gray mr-1\" height=\"16\" version=\"1.1\" viewbox=\"0 0 12 16\" width=\"12\"><path d=\"M4 9H3V8h1v1zm0-3H3v1h1V6zm0-2H3v1h1V4zm0-2H3v1h1V2zm8-1v12c0 .55-.45 1-1 1H6v2l-1.5-1.5L3 16v-2H1c-.55 0-1-.45-1-1V1c0-.55.45-1 1-1h10c.55 0 1 .45 1 1zm-1 10H1v2h2v-1h3v1h5v-2zm0-10H2v9h9V1z\" fill-rule=\"evenodd\"></path></svg>\n",
       " <span class=\"text-normal\">apache / </span>airflow\n",
       " </a> </h1>, <h1 class=\"h3 lh-condensed\">\n",
       " <a href=\"/techwithtim/NEAT-Flappy-Bird\">\n",
       " <svg aria-hidden=\"true\" class=\"octicon octicon-repo text-gray mr-1\" height=\"16\" version=\"1.1\" viewbox=\"0 0 12 16\" width=\"12\"><path d=\"M4 9H3V8h1v1zm0-3H3v1h1V6zm0-2H3v1h1V4zm0-2H3v1h1V2zm8-1v12c0 .55-.45 1-1 1H6v2l-1.5-1.5L3 16v-2H1c-.55 0-1-.45-1-1V1c0-.55.45-1 1-1h10c.55 0 1 .45 1 1zm-1 10H1v2h2v-1h3v1h5v-2zm0-10H2v9h9V1z\" fill-rule=\"evenodd\"></path></svg>\n",
       " <span class=\"text-normal\">techwithtim / </span>NEAT-Flappy-Bird\n",
       " </a> </h1>, <h1 class=\"h3 lh-condensed\">\n",
       " <a href=\"/apache/incubator-mxnet\">\n",
       " <svg aria-hidden=\"true\" class=\"octicon octicon-repo text-gray mr-1\" height=\"16\" version=\"1.1\" viewbox=\"0 0 12 16\" width=\"12\"><path d=\"M4 9H3V8h1v1zm0-3H3v1h1V6zm0-2H3v1h1V4zm0-2H3v1h1V2zm8-1v12c0 .55-.45 1-1 1H6v2l-1.5-1.5L3 16v-2H1c-.55 0-1-.45-1-1V1c0-.55.45-1 1-1h10c.55 0 1 .45 1 1zm-1 10H1v2h2v-1h3v1h5v-2zm0-10H2v9h9V1z\" fill-rule=\"evenodd\"></path></svg>\n",
       " <span class=\"text-normal\">apache / </span>incubator-mxnet\n",
       " </a> </h1>, <h1 class=\"h3 lh-condensed\">\n",
       " <a href=\"/saltstack/salt\">\n",
       " <svg aria-hidden=\"true\" class=\"octicon octicon-repo text-gray mr-1\" height=\"16\" version=\"1.1\" viewbox=\"0 0 12 16\" width=\"12\"><path d=\"M4 9H3V8h1v1zm0-3H3v1h1V6zm0-2H3v1h1V4zm0-2H3v1h1V2zm8-1v12c0 .55-.45 1-1 1H6v2l-1.5-1.5L3 16v-2H1c-.55 0-1-.45-1-1V1c0-.55.45-1 1-1h10c.55 0 1 .45 1 1zm-1 10H1v2h2v-1h3v1h5v-2zm0-10H2v9h9V1z\" fill-rule=\"evenodd\"></path></svg>\n",
       " <span class=\"text-normal\">saltstack / </span>salt\n",
       " </a> </h1>, <h1 class=\"h3 lh-condensed\">\n",
       " <a href=\"/kovidgoyal/calibre\">\n",
       " <svg aria-hidden=\"true\" class=\"octicon octicon-repo text-gray mr-1\" height=\"16\" version=\"1.1\" viewbox=\"0 0 12 16\" width=\"12\"><path d=\"M4 9H3V8h1v1zm0-3H3v1h1V6zm0-2H3v1h1V4zm0-2H3v1h1V2zm8-1v12c0 .55-.45 1-1 1H6v2l-1.5-1.5L3 16v-2H1c-.55 0-1-.45-1-1V1c0-.55.45-1 1-1h10c.55 0 1 .45 1 1zm-1 10H1v2h2v-1h3v1h5v-2zm0-10H2v9h9V1z\" fill-rule=\"evenodd\"></path></svg>\n",
       " <span class=\"text-normal\">kovidgoyal / </span>calibre\n",
       " </a> </h1>, <h1 class=\"h3 lh-condensed\">\n",
       " <a href=\"/STVIR/pysot\">\n",
       " <svg aria-hidden=\"true\" class=\"octicon octicon-repo text-gray mr-1\" height=\"16\" version=\"1.1\" viewbox=\"0 0 12 16\" width=\"12\"><path d=\"M4 9H3V8h1v1zm0-3H3v1h1V6zm0-2H3v1h1V4zm0-2H3v1h1V2zm8-1v12c0 .55-.45 1-1 1H6v2l-1.5-1.5L3 16v-2H1c-.55 0-1-.45-1-1V1c0-.55.45-1 1-1h10c.55 0 1 .45 1 1zm-1 10H1v2h2v-1h3v1h5v-2zm0-10H2v9h9V1z\" fill-rule=\"evenodd\"></path></svg>\n",
       " <span class=\"text-normal\">STVIR / </span>pysot\n",
       " </a> </h1>, <h1 class=\"h3 lh-condensed\">\n",
       " <a href=\"/eeshashetty/InvisibilityCloak\">\n",
       " <svg aria-hidden=\"true\" class=\"octicon octicon-repo text-gray mr-1\" height=\"16\" version=\"1.1\" viewbox=\"0 0 12 16\" width=\"12\"><path d=\"M4 9H3V8h1v1zm0-3H3v1h1V6zm0-2H3v1h1V4zm0-2H3v1h1V2zm8-1v12c0 .55-.45 1-1 1H6v2l-1.5-1.5L3 16v-2H1c-.55 0-1-.45-1-1V1c0-.55.45-1 1-1h10c.55 0 1 .45 1 1zm-1 10H1v2h2v-1h3v1h5v-2zm0-10H2v9h9V1z\" fill-rule=\"evenodd\"></path></svg>\n",
       " <span class=\"text-normal\">eeshashetty / </span>InvisibilityCloak\n",
       " </a> </h1>, <h1 class=\"h3 lh-condensed\">\n",
       " <a href=\"/tensorflow/addons\">\n",
       " <svg aria-hidden=\"true\" class=\"octicon octicon-repo text-gray mr-1\" height=\"16\" version=\"1.1\" viewbox=\"0 0 12 16\" width=\"12\"><path d=\"M4 9H3V8h1v1zm0-3H3v1h1V6zm0-2H3v1h1V4zm0-2H3v1h1V2zm8-1v12c0 .55-.45 1-1 1H6v2l-1.5-1.5L3 16v-2H1c-.55 0-1-.45-1-1V1c0-.55.45-1 1-1h10c.55 0 1 .45 1 1zm-1 10H1v2h2v-1h3v1h5v-2zm0-10H2v9h9V1z\" fill-rule=\"evenodd\"></path></svg>\n",
       " <span class=\"text-normal\">tensorflow / </span>addons\n",
       " </a> </h1>]"
      ]
     },
     "execution_count": 52,
     "metadata": {},
     "output_type": "execute_result"
    }
   ],
   "source": [
    "html = requests.get(url).content\n",
    "soup = BeautifulSoup(html, \"lxml\")\n",
    "\n",
    "reps_tag = soup.find_all('h1', attrs = {'class':'h3 lh-condensed'})\n",
    "reps = [i.text.replace('\\n', '') for i in reps_tag]\n",
    "#reps"
   ]
  },
  {
   "cell_type": "code",
   "execution_count": 67,
   "metadata": {},
   "outputs": [],
   "source": [
    "#IGNORE\n",
    "\n",
    "#description of the reps\n",
    "descr_tag = soup.find_all('p', attrs = {'class':'col-9 text-gray my-1 pr-4'})\n",
    "descr = [i.text.replace('\\n', '') for i in descr_tag]\n",
    "#descr"
   ]
  },
  {
   "cell_type": "markdown",
   "metadata": {},
   "source": [
    "#### Display all the image links from Walt Disney wikipedia page."
   ]
  },
  {
   "cell_type": "code",
   "execution_count": 4,
   "metadata": {},
   "outputs": [],
   "source": [
    "# This is the url you will scrape in this exercise\n",
    "url = 'https://en.wikipedia.org/wiki/Walt_Disney'"
   ]
  },
  {
   "cell_type": "code",
   "execution_count": 33,
   "metadata": {
    "scrolled": true
   },
   "outputs": [],
   "source": [
    "html = requests.get(url).content\n",
    "soup = BeautifulSoup(html, \"lxml\")\n",
    "\n",
    "images_tag = soup.find_all('a', attrs = {'class':'image'})\n",
    "#print(images_tag)\n",
    "#images_tag[0].img.get('src')\n",
    "\n",
    "images = [i.img.get('src').replace('//', '') for i in images_tag]\n",
    "#images"
   ]
  },
  {
   "cell_type": "markdown",
   "metadata": {},
   "source": [
    "#### Retrieve an arbitary Wikipedia page of \"Python\" and create a list of links on that page."
   ]
  },
  {
   "cell_type": "code",
   "execution_count": 3,
   "metadata": {},
   "outputs": [],
   "source": [
    "# This is the url you will scrape in this exercise \n",
    "url ='https://en.wikipedia.org/wiki/Python' "
   ]
  },
  {
   "cell_type": "code",
   "execution_count": 32,
   "metadata": {
    "scrolled": false
   },
   "outputs": [],
   "source": [
    "html = requests.get(url).content\n",
    "soup = BeautifulSoup(html, \"lxml\")\n",
    "\n",
    "allinks = [link.get('href') for link in soup.find_all('a')]\n",
    "\n",
    "def filter1(x):\n",
    "    return x.startswith('https')\n",
    "def filter2(x):\n",
    "    return x.startswith('/wiki')\n",
    "\n",
    "l1 = list(filter(filter1,allinks[1:]))\n",
    "l2 = list(filter(filter2,allinks[1:]))\n",
    "\n",
    "links_notyet = l1+l2\n",
    "links_notyet\n",
    "\n",
    "#add \"https://en.wikipedia.org\" to all elements that start with '/wiki'\n",
    "\n",
    "links = ['https://en.wikipedia.org'+i if i.startswith('/wiki') else i for i in links_notyet]\n",
    "#links"
   ]
  },
  {
   "cell_type": "markdown",
   "metadata": {},
   "source": [
    "#### Find the number of titles that have changed in the United States Code since its last release point."
   ]
  },
  {
   "cell_type": "code",
   "execution_count": 55,
   "metadata": {},
   "outputs": [],
   "source": [
    "# This is the url you will scrape in this exercise\n",
    "url = 'http://uscode.house.gov/download/download.shtml'"
   ]
  },
  {
   "cell_type": "code",
   "execution_count": 68,
   "metadata": {},
   "outputs": [
    {
     "data": {
      "text/plain": [
       "['Title5-GovernmentOrganizationandEmployees٭',\n",
       " 'Title11-Bankruptcy٭',\n",
       " 'Title20-Education',\n",
       " 'Title28-JudiciaryandJudicialProcedure٭',\n",
       " \"Title38-Veterans'Benefits٭\",\n",
       " 'Title42-ThePublicHealthandWelfare']"
      ]
     },
     "execution_count": 68,
     "metadata": {},
     "output_type": "execute_result"
    }
   ],
   "source": [
    "html = requests.get(url).content\n",
    "soup = BeautifulSoup(html, \"lxml\")\n",
    "\n",
    "titles_tag = soup.find_all('div', attrs = {'class':'usctitlechanged'})\n",
    "titles = [i.text.replace('\\n','').replace(' ','') for i in titles_tag]\n",
    "titles\n",
    "\n",
    "#miss cleaning '*' due to lack of time"
   ]
  },
  {
   "cell_type": "markdown",
   "metadata": {},
   "source": [
    "#### Find a Python list with the top ten FBI's Most Wanted names."
   ]
  },
  {
   "cell_type": "code",
   "execution_count": 109,
   "metadata": {},
   "outputs": [],
   "source": [
    "# This is the url you will scrape in this exercise\n",
    "url = 'https://www.fbi.gov/wanted/topten'"
   ]
  },
  {
   "cell_type": "code",
   "execution_count": 110,
   "metadata": {},
   "outputs": [
    {
     "data": {
      "text/plain": [
       "['JASON DEREK BROWN',\n",
       " 'ALEXIS FLORES',\n",
       " 'EUGENE PALMER',\n",
       " 'SANTIAGO VILLALBA MEDEROS',\n",
       " 'RAFAEL CARO-QUINTERO',\n",
       " 'ROBERT WILLIAM FISHER',\n",
       " 'BHADRESHKUMAR CHETANBHAI PATEL',\n",
       " 'ARNOLDO JIMENEZ',\n",
       " 'ALEJANDRO ROSALES CASTILLO',\n",
       " 'YASER ABDEL SAID']"
      ]
     },
     "execution_count": 110,
     "metadata": {},
     "output_type": "execute_result"
    }
   ],
   "source": [
    "html = requests.get(url).content\n",
    "soup = BeautifulSoup(html, \"lxml\")\n",
    "\n",
    "fbi_tag = soup.find_all('h3', attrs = {'class':'title'})\n",
    "#fbi_tag\n",
    "fbi = [i.text.replace('\\n','') for i in fbi_tag]\n",
    "fbi"
   ]
  },
  {
   "cell_type": "markdown",
   "metadata": {},
   "source": [
    "####  Display the 20 latest earthquakes info (date, time, latitude, longitude and region name) by the EMSC as a pandas dataframe."
   ]
  },
  {
   "cell_type": "code",
   "execution_count": 17,
   "metadata": {},
   "outputs": [],
   "source": [
    "# This is the url you will scrape in this exercise\n",
    "url = 'https://www.emsc-csem.org/Earthquake/'"
   ]
  },
  {
   "cell_type": "code",
   "execution_count": 18,
   "metadata": {},
   "outputs": [
    {
     "data": {
      "text/plain": [
       "[<tr>\n",
       " <td colspan=\"13\" style=\"background: white;height: 1px\"></td>\n",
       " </tr>,\n",
       " <tr id=\"haut_tableau\"><th class=\"th2 th3\" colspan=\"3\" style=\"width:90px;display:table-csell;\"><div onmouseout=\"info_b('notshow','','');\" onmouseover=\"info_b('show','Represents the results of information provided by users (Felt earthquake, pictures, testimonies ,...)&lt;br&gt;See an intensity map for more details on the macroseismic intensity scale.','Citizen response');\">Citizen<br/>Response</div><br/><table cellpadding=\"0\" cellspacing=\"0\" style=\"width:100%;margin:0;text-align:center;\"><tr><td><div onclick=\"change_tri('im_report');\" onmouseout=\"change_image(this,'out','im_report');\" onmouseover=\"change_image(this,'over','im_report');\"><span class=\"spriteorig sp_ico_list\" onmouseout=\"info_b2('notshow','');\" onmouseover=\"info_b2('show','Sorted by number of &lt;b&gt;Comments&lt;/b&gt;');\"></span><span class=\"spriteorig sp_s_asc\" id=\"im_report\" style=\"display:none;\"></span></div></td><td><div onclick=\"change_tri('im_pics');\" onmouseout=\"change_image(this,'out','im_pics');\" onmouseover=\"change_image(this,'over','im_pics');\"><span class=\"spriteorig sp_digikam\" onmouseout=\"info_b2('notshow','');\" onmouseover=\"info_b2('show','Sorted by number of &lt;b&gt;Pictures&lt;/b&gt;');\"></span><span class=\"spriteorig sp_s_asc\" id=\"im_pics\" style=\"display:none;\"></span></div></td><td><div onclick=\"change_tri('im_intens');\" onmouseout=\"change_image(this,'out','im_intens');\" onmouseover=\"change_image(this,'over','im_intens');\"><span class=\"spriteorig sp_IntensityMap\" onmouseout=\"info_b2('notshow','');\" onmouseover=\"info_b2('show','Sorted by &lt;b&gt;Macroseismic Intensity&lt;/b&gt;');\"></span><span class=\"spriteorig sp_s_asc\" id=\"im_intens\" style=\"display:none;\"></span></div></td></tr></table></th><th class=\"th2\" onclick=\"change_tri('im_time');\" onmouseout=\"change_image(this,'out','im_time');\" onmouseover=\"change_image(this,'over','im_time');\">Date &amp; Time <span class=\"spriteorig sp_s_desc\" id=\"im_select\"></span><div style=\"font-weight:normal;\">UTC</div></th><th class=\"th2\" colspan=\"2\" onclick=\"change_tri('im_lat');\" onmouseout=\"change_image(this,'out','im_lat');\" onmouseover=\"change_image(this,'over','im_lat');\">Latitude <span class=\"spriteorig sp_s_asc\" id=\"im_lat\" style=\"display:none;\"></span><div style=\"font-weight:normal;\">degrees</div></th><th class=\"th2\" colspan=\"2\" onclick=\"change_tri('im_lon');\" onmouseout=\"change_image(this,'out','im_lon');\" onmouseover=\"change_image(this,'over','im_lon');\">Longitude <span class=\"spriteorig sp_s_asc\" id=\"im_lon\" style=\"display:none;\"></span><div style=\"font-weight:normal;\">degrees</div></th><th class=\"th2\" onclick=\"change_tri('im_depth');\" onmouseout=\"change_image(this,'out','im_depth');\" onmouseover=\"change_image(this,'over','im_depth');\">Depth <span class=\"spriteorig sp_s_asc\" id=\"im_depth\" style=\"display:none;\"></span><div style=\"font-weight: normal\">km</div></th><th class=\"th2\" colspan=\"1\" id=\"thmag\"><div onclick=\"change_tri('im_mag');\" onmouseout=\"change_image(this,'out','im_mag');\" onmouseover=\"change_image(this,'over','im_mag');\" style=\"float:left;\">Mag <span class=\"spriteorig sp_s_asc\" id=\"im_mag\" style=\"display:none;\"></span></div><div id=\"magplus2\" style=\"float:left;\"> <a href=\"javascript:hide_magni();\" id=\"magplus\" style=\"color:white;\">[+]</a></div></th><th class=\"th2\" id=\"ex_th2\"><div onclick=\"change_tri('im_reg');\" onmouseout=\"change_image(this,'out','im_reg');\" onmouseover=\"change_image(this,'over','im_reg');\" style=\"float:left;\">Region name <span class=\"spriteorig sp_s_asc\" id=\"im_reg\" style=\"display:none;\"></span></div><div id=\"upda\" onmouseout=\"info_b2('notshow','');\" onmouseover=\"info_b2('show','Show last update');\"> <a href=\"javascript:hide_upd();\" style=\"color:white;\">[+]</a></div></th><th class=\"th2 updatetimeno\" id=\"upd\"><div id=\"labupd\" onclick=\"change_tri('im_upd');\" onmouseout=\"change_image(this,'out','im_upd');\" onmouseover=\"change_image(this,'over','im_upd');\" style=\"float:left;text-align:right;\">Last update <span class=\"spriteorig sp_s_asc\" id=\"im_upd\" style=\"display:none;\"></span></div><div id=\"hideupda\" onmouseout=\"info_b2('notshow','');\" onmouseover=\"info_b2('show','Hide last update');\" style=\"float:left;\"><a href=\"javascript:hide_upd();\" style=\"color:white;\">[-]</a></div></th></tr>,\n",
       " <tr><td><div onclick=\"change_tri('im_report');\" onmouseout=\"change_image(this,'out','im_report');\" onmouseover=\"change_image(this,'over','im_report');\"><span class=\"spriteorig sp_ico_list\" onmouseout=\"info_b2('notshow','');\" onmouseover=\"info_b2('show','Sorted by number of &lt;b&gt;Comments&lt;/b&gt;');\"></span><span class=\"spriteorig sp_s_asc\" id=\"im_report\" style=\"display:none;\"></span></div></td><td><div onclick=\"change_tri('im_pics');\" onmouseout=\"change_image(this,'out','im_pics');\" onmouseover=\"change_image(this,'over','im_pics');\"><span class=\"spriteorig sp_digikam\" onmouseout=\"info_b2('notshow','');\" onmouseover=\"info_b2('show','Sorted by number of &lt;b&gt;Pictures&lt;/b&gt;');\"></span><span class=\"spriteorig sp_s_asc\" id=\"im_pics\" style=\"display:none;\"></span></div></td><td><div onclick=\"change_tri('im_intens');\" onmouseout=\"change_image(this,'out','im_intens');\" onmouseover=\"change_image(this,'over','im_intens');\"><span class=\"spriteorig sp_IntensityMap\" onmouseout=\"info_b2('notshow','');\" onmouseover=\"info_b2('show','Sorted by &lt;b&gt;Macroseismic Intensity&lt;/b&gt;');\"></span><span class=\"spriteorig sp_s_asc\" id=\"im_intens\" style=\"display:none;\"></span></div></td></tr>,\n",
       " <tr><td colspan=\"13\" style=\"background: white;height: 1px\"></td></tr>,\n",
       " <tr class=\"npages\" id=\"my_pagelist_0\"><td colspan=\"13\"><a class=\"sublink sublinka\" href=\"javascript:void()\" rel=\"nofollow\">1</a><a class=\"sublink\" href=\"/Earthquake/?view=2\">2</a><a class=\"sublink\" href=\"/Earthquake/?view=3\">3</a><a class=\"sublink\" href=\"/Earthquake/?view=4\">4</a><a class=\"sublink\" href=\"/Earthquake/?view=5\">5</a><a class=\"sublink\" href=\"/Earthquake/?view=6\">6</a><a class=\"sublink\" href=\"/Earthquake/?view=7\">7</a><a class=\"sublink\" href=\"/Earthquake/?view=8\">8</a><a class=\"sublink\" href=\"/Earthquake/?view=9\">9</a><a class=\"sublink\" href=\"/Earthquake/?view=10\">10</a><a alt=\"Next page\" class=\"sublink\" href=\"/Earthquake/?view=2\"></a><a alt=\"Next 10 pages\" class=\"sublink\" href=\"/Earthquake/?view=11\">»</a></td></tr>,\n",
       " <tr class=\"ligne1 normal\" id=\"789903\" onclick=\"go_details(event,789903);\"><td class=\"tabev0\"></td><td class=\"tabev0\"></td><td class=\"tabev0\"></td><td class=\"tabev6\"><b><i style=\"display:none;\">earthquake</i><a href=\"/Earthquake/earthquake.php?id=789903\">2019-09-02   07:24:17.8</a></b><i class=\"ago\" id=\"ago0\">14min ago</i></td><td class=\"tabev1\">35.80 </td><td class=\"tabev2\">N  </td><td class=\"tabev1\">121.36 </td><td class=\"tabev2\">W  </td><td class=\"tabev3\">4</td><td class=\"tabev5\" id=\"magtyp0\">Md</td><td class=\"tabev2\">2.1</td><td class=\"tb_region\" id=\"reg0\"> OFFSHORE CENTRAL CALIFORNIA</td><td class=\"comment updatetimeno\" id=\"upd0\" style=\"text-align:right;\">2019-09-02 07:25</td></tr>,\n",
       " <tr class=\"ligne2 normal\" id=\"789902\" onclick=\"go_details(event,789902);\"><td class=\"tabev0\"></td><td class=\"tabev0\"></td><td class=\"tabev0\"></td><td class=\"tabev6\"><b><i style=\"display:none;\">earthquake</i><a href=\"/Earthquake/earthquake.php?id=789902\">2019-09-02   07:06:05.0</a></b><i class=\"ago\" id=\"ago1\">32min ago</i></td><td class=\"tabev1\">4.43 </td><td class=\"tabev2\">N  </td><td class=\"tabev1\">96.36 </td><td class=\"tabev2\">E  </td><td class=\"tabev3\">10</td><td class=\"tabev5\" id=\"magtyp1\"> M</td><td class=\"tabev2\">4.1</td><td class=\"tb_region\" id=\"reg1\"> NORTHERN SUMATRA, INDONESIA</td><td class=\"comment updatetimeno\" id=\"upd1\" style=\"text-align:right;\">2019-09-02 07:20</td></tr>,\n",
       " <tr class=\"ligne1 normal\" id=\"789900\" onclick=\"go_details(event,789900);\"><td class=\"tabev0\"></td><td class=\"tabev0\"></td><td class=\"tabev0\"></td><td class=\"tabev6\"><b><i style=\"display:none;\">earthquake</i><a href=\"/Earthquake/earthquake.php?id=789900\">2019-09-02   06:48:25.7</a></b><i class=\"ago\" id=\"ago2\">50min ago</i></td><td class=\"tabev1\">35.36 </td><td class=\"tabev2\">N  </td><td class=\"tabev1\">117.83 </td><td class=\"tabev2\">W  </td><td class=\"tabev3\">5</td><td class=\"tabev5\" id=\"magtyp2\">ML</td><td class=\"tabev2\">2.3</td><td class=\"tb_region\" id=\"reg2\"> SOUTHERN CALIFORNIA</td><td class=\"comment updatetimeno\" id=\"upd2\" style=\"text-align:right;\">2019-09-02 06:52</td></tr>,\n",
       " <tr class=\"ligne2 normal\" id=\"789909\" onclick=\"go_details(event,789909);\"><td class=\"tabev0\"></td><td class=\"tabev0\"></td><td class=\"tabev0\"></td><td class=\"tabev6\"><b><i style=\"display:none;\">earthquake</i><a href=\"/Earthquake/earthquake.php?id=789909\">2019-09-02   06:48:24.9</a></b><i class=\"ago\" id=\"ago3\">50min ago</i></td><td class=\"tabev1\">12.39 </td><td class=\"tabev2\">N  </td><td class=\"tabev1\">144.67 </td><td class=\"tabev2\">E  </td><td class=\"tabev3\">10</td><td class=\"tabev5\" id=\"magtyp3\">mb</td><td class=\"tabev2\">4.8</td><td class=\"tb_region\" id=\"reg3\"> GUAM REGION</td><td class=\"comment updatetimeno\" id=\"upd3\" style=\"text-align:right;\">2019-09-02 07:36</td></tr>,\n",
       " <tr class=\"ligne1 normal\" id=\"789901\" onclick=\"go_details(event,789901);\"><td class=\"tabev0\"></td><td class=\"tabev0\"></td><td class=\"tabev0\"></td><td class=\"tabev6\"><b><i style=\"display:none;\">earthquake</i><a href=\"/Earthquake/earthquake.php?id=789901\">2019-09-02   06:41:51.8</a></b><i class=\"ago\" id=\"ago4\">57min ago</i></td><td class=\"tabev1\">12.34 </td><td class=\"tabev2\">N  </td><td class=\"tabev1\">144.92 </td><td class=\"tabev2\">E  </td><td class=\"tabev3\">40</td><td class=\"tabev5\" id=\"magtyp4\">mb</td><td class=\"tabev2\">5.0</td><td class=\"tb_region\" id=\"reg4\"> GUAM REGION</td><td class=\"comment updatetimeno\" id=\"upd4\" style=\"text-align:right;\">2019-09-02 07:00</td></tr>,\n",
       " <tr class=\"ligne2 normal\" id=\"789896\" onclick=\"go_details(event,789896);\"><td class=\"tabev0\"></td><td class=\"tabev0\"></td><td class=\"tabev0\"></td><td class=\"tabev6\"><b><i style=\"display:none;\">earthquake</i><a href=\"/Earthquake/earthquake.php?id=789896\">2019-09-02   06:13:18.4</a></b><i class=\"ago\" id=\"ago5\">1hr 25min ago</i></td><td class=\"tabev1\">36.43 </td><td class=\"tabev2\">N  </td><td class=\"tabev1\">28.78 </td><td class=\"tabev2\">E  </td><td class=\"tabev3\">2</td><td class=\"tabev5\" id=\"magtyp5\">ML</td><td class=\"tabev2\">3.6</td><td class=\"tb_region\" id=\"reg5\"> DODECANESE IS.-TURKEY BORDER REG</td><td class=\"comment updatetimeno\" id=\"upd5\" style=\"text-align:right;\">2019-09-02 06:51</td></tr>,\n",
       " <tr class=\"ligne1 normal\" id=\"789898\" onclick=\"go_details(event,789898);\"><td class=\"tabev0\"></td><td class=\"tabev0\"></td><td class=\"tabev0\"></td><td class=\"tabev6\"><b><i style=\"display:none;\">earthquake</i><a href=\"/Earthquake/earthquake.php?id=789898\">2019-09-02   05:55:41.3</a></b><i class=\"ago\" id=\"ago6\">1hr 43min ago</i></td><td class=\"tabev1\">0.37 </td><td class=\"tabev2\">N  </td><td class=\"tabev1\">103.03 </td><td class=\"tabev2\">W  </td><td class=\"tabev3\">10</td><td class=\"tabev5\" id=\"magtyp6\">mb</td><td class=\"tabev2\">4.4</td><td class=\"tb_region\" id=\"reg6\"> GALAPAGOS TRIPLE JUNCTION REGION</td><td class=\"comment updatetimeno\" id=\"upd6\" style=\"text-align:right;\">2019-09-02 06:31</td></tr>,\n",
       " <tr class=\"ligne2 normal\" id=\"789888\" onclick=\"go_details(event,789888);\"><td class=\"tabev0\" style=\"text-align:center;\"><a href=\"https://www.emsc-csem.org/Earthquake/Testimonies/comments.php?id=789888\" onmouseout=\"info_b2('notshow','');\" onmouseover=\"info_b2('show','See the &lt;b&gt;6 testimonies&lt;/b&gt; for this earthquake');\"><span class=\"\" style=\"vertical-align:middle;\">6</span></a></td><td class=\"tabev0\"></td><td class=\"tabev0\"><span class=\"intensity\" onclick=\"go_details(event,null,'https://www.emsc-csem.org/Earthquake/popup_intensmap.php?id=789888&amp;f=/INTENSITY_MAPS/78/789888/AUTOMATIC/AreaThreshold_5/EMS_98__RMW_Musson/LocMethod_PerClusterCity/DynamicClusters_MaxSize50/IntensityMapThumbnails.png');\" onmouseout=\"info_b2('notshow','');\" onmouseover=\"info_b2('show','See the &lt;b&gt; Intensity map&lt;/b&gt;');\" style=\"background-color:#66CCFF;\">III</span></td><td class=\"tabev6\"><b><i style=\"display:none;\">earthquake</i><a href=\"/Earthquake/earthquake.php?id=789888\">2019-09-02   04:54:53.5</a></b><i class=\"ago\" id=\"ago7\">2hr 44min ago</i></td><td class=\"tabev1\">33.65 </td><td class=\"tabev2\">N  </td><td class=\"tabev1\">117.33 </td><td class=\"tabev2\">W  </td><td class=\"tabev3\">6</td><td class=\"tabev5\" id=\"magtyp7\">ML</td><td class=\"tabev2\">2.1</td><td class=\"tb_region\" id=\"reg7\"> SOUTHERN CALIFORNIA</td><td class=\"comment updatetimeno\" id=\"upd7\" style=\"text-align:right;\">2019-09-02 04:57</td></tr>,\n",
       " <tr class=\"ligne1 normal\" id=\"789886\" onclick=\"go_details(event,789886);\"><td class=\"tabev0\"></td><td class=\"tabev0\"></td><td class=\"tabev0\"></td><td class=\"tabev6\"><b><i style=\"display:none;\">earthquake</i><a href=\"/Earthquake/earthquake.php?id=789886\">2019-09-02   04:21:35.8</a></b><i class=\"ago\" id=\"ago8\">3hr 17min ago</i></td><td class=\"tabev1\">47.77 </td><td class=\"tabev2\">N  </td><td class=\"tabev1\">122.87 </td><td class=\"tabev2\">W  </td><td class=\"tabev3\">48</td><td class=\"tabev5\" id=\"magtyp8\">Md</td><td class=\"tabev2\">2.4</td><td class=\"tb_region\" id=\"reg8\"> OLYMPIC PENINSULA, WASHINGTON</td><td class=\"comment updatetimeno\" id=\"upd8\" style=\"text-align:right;\">2019-09-02 04:25</td></tr>,\n",
       " <tr class=\"ligne2 normal\" id=\"789887\" onclick=\"go_details(event,789887);\"><td class=\"tabev0\"></td><td class=\"tabev0\"></td><td class=\"tabev0\"></td><td class=\"tabev6\"><b><i style=\"display:none;\">earthquake</i><a href=\"/Earthquake/earthquake.php?id=789887\">2019-09-02   04:19:10.6</a></b><i class=\"ago\" id=\"ago9\">3hr 19min ago</i></td><td class=\"tabev1\">37.55 </td><td class=\"tabev2\">N  </td><td class=\"tabev1\">26.78 </td><td class=\"tabev2\">E  </td><td class=\"tabev3\">6</td><td class=\"tabev5\" id=\"magtyp9\">ML</td><td class=\"tabev2\">2.0</td><td class=\"tb_region\" id=\"reg9\"> DODECANESE ISLANDS, GREECE</td><td class=\"comment updatetimeno\" id=\"upd9\" style=\"text-align:right;\">2019-09-02 04:48</td></tr>,\n",
       " <tr class=\"ligne1 normal\" id=\"789884\" onclick=\"go_details(event,789884);\"><td class=\"tabev0\" style=\"text-align:center;\"><a href=\"https://www.emsc-csem.org/Earthquake/Testimonies/comments.php?id=789884\" onmouseout=\"info_b2('notshow','');\" onmouseover=\"info_b2('show','See the &lt;b&gt;37 testimonies&lt;/b&gt; for this earthquake');\"><span class=\"\" style=\"vertical-align:middle;\">37</span></a></td><td class=\"tabev0\"></td><td class=\"tabev0\"><span class=\"intensity\" onclick=\"go_details(event,null,'https://www.emsc-csem.org/Earthquake/popup_intensmap.php?id=789884&amp;f=/INTENSITY_MAPS/78/789884/AUTOMATIC/AreaThreshold_5/EMS_98__RMW_Musson/LocMethod_PerClusterCity/DynamicClusters_MaxSize50/IntensityMapThumbnails.png');\" onmouseout=\"info_b2('notshow','');\" onmouseover=\"info_b2('show','See the &lt;b&gt; Intensity map&lt;/b&gt;');\" style=\"background-color:#00FFFF;\">IV</span></td><td class=\"tabev6\"><b><i style=\"display:none;\">earthquake</i><a href=\"/Earthquake/earthquake.php?id=789884\">2019-09-02   04:05:04.6</a></b><i class=\"ago\" id=\"ago10\">3hr 33min ago</i></td><td class=\"tabev1\">33.65 </td><td class=\"tabev2\">N  </td><td class=\"tabev1\">117.33 </td><td class=\"tabev2\">W  </td><td class=\"tabev3\">5</td><td class=\"tabev5\" id=\"magtyp10\">ML</td><td class=\"tabev2\">3.3</td><td class=\"tb_region\" id=\"reg10\"> SOUTHERN CALIFORNIA</td><td class=\"comment updatetimeno\" id=\"upd10\" style=\"text-align:right;\">2019-09-02 04:29</td></tr>,\n",
       " <tr class=\"ligne2 normal\" id=\"789885\" onclick=\"go_details(event,789885);\"><td class=\"tabev0\"></td><td class=\"tabev0\"></td><td class=\"tabev0\"></td><td class=\"tabev6\"><b><i style=\"display:none;\">earthquake</i><a href=\"/Earthquake/earthquake.php?id=789885\">2019-09-02   03:59:21.7</a></b><i class=\"ago\" id=\"ago11\">3hr 39min ago</i></td><td class=\"tabev1\">37.19 </td><td class=\"tabev2\">N  </td><td class=\"tabev1\">112.89 </td><td class=\"tabev2\">W  </td><td class=\"tabev3\">16</td><td class=\"tabev5\" id=\"magtyp11\">ML</td><td class=\"tabev2\">3.0</td><td class=\"tb_region\" id=\"reg11\"> UTAH</td><td class=\"comment updatetimeno\" id=\"upd11\" style=\"text-align:right;\">2019-09-02 04:36</td></tr>,\n",
       " <tr class=\"ligne1 normal\" id=\"789883\" onclick=\"go_details(event,789883);\"><td class=\"tabev0\"></td><td class=\"tabev0\"></td><td class=\"tabev0\"></td><td class=\"tabev6\"><b><i style=\"display:none;\">earthquake</i><a href=\"/Earthquake/earthquake.php?id=789883\">2019-09-02   03:47:51.1</a></b><i class=\"ago\" id=\"ago12\">3hr 51min ago</i></td><td class=\"tabev1\">58.17 </td><td class=\"tabev2\">N  </td><td class=\"tabev1\">155.40 </td><td class=\"tabev2\">W  </td><td class=\"tabev3\">0</td><td class=\"tabev5\" id=\"magtyp12\">ML</td><td class=\"tabev2\">2.2</td><td class=\"tb_region\" id=\"reg12\"> ALASKA PENINSULA</td><td class=\"comment updatetimeno\" id=\"upd12\" style=\"text-align:right;\">2019-09-02 04:02</td></tr>,\n",
       " <tr class=\"ligne2 normal\" id=\"789882\" onclick=\"go_details(event,789882);\"><td class=\"tabev0\"></td><td class=\"tabev0\"></td><td class=\"tabev0\"></td><td class=\"tabev6\"><b><i style=\"display:none;\">earthquake</i><a href=\"/Earthquake/earthquake.php?id=789882\">2019-09-02   03:42:45.0</a></b><i class=\"ago\" id=\"ago13\">3hr 56min ago</i></td><td class=\"tabev1\">1.71 </td><td class=\"tabev2\">N  </td><td class=\"tabev1\">126.56 </td><td class=\"tabev2\">E  </td><td class=\"tabev3\">10</td><td class=\"tabev5\" id=\"magtyp13\"> M</td><td class=\"tabev2\">4.4</td><td class=\"tb_region\" id=\"reg13\"> MOLUCCA SEA</td><td class=\"comment updatetimeno\" id=\"upd13\" style=\"text-align:right;\">2019-09-02 03:50</td></tr>,\n",
       " <tr class=\"ligne1 normal\" id=\"789881\" onclick=\"go_details(event,789881);\"><td class=\"tabev0\"></td><td class=\"tabev0\"></td><td class=\"tabev0\"></td><td class=\"tabev6\"><b><i style=\"display:none;\">earthquake</i><a href=\"/Earthquake/earthquake.php?id=789881\">2019-09-02   03:03:21.0</a></b><i class=\"ago\" id=\"ago14\">4hr 35min ago</i></td><td class=\"tabev1\">15.98 </td><td class=\"tabev2\">N  </td><td class=\"tabev1\">98.43 </td><td class=\"tabev2\">W  </td><td class=\"tabev3\">3</td><td class=\"tabev5\" id=\"magtyp14\"> M</td><td class=\"tabev2\">4.2</td><td class=\"tb_region\" id=\"reg14\"> OFFSHORE OAXACA, MEXICO</td><td class=\"comment updatetimeno\" id=\"upd14\" style=\"text-align:right;\">2019-09-02 03:25</td></tr>,\n",
       " <tr class=\"ligne2 normal\" id=\"789879\" onclick=\"go_details(event,789879);\"><td class=\"tabev0\"></td><td class=\"tabev0\"></td><td class=\"tabev0\"></td><td class=\"tabev6\"><b><i style=\"display:none;\">earthquake</i><a href=\"/Earthquake/earthquake.php?id=789879\">2019-09-02   02:59:15.7</a></b><i class=\"ago\" id=\"ago15\">4hr 39min ago</i></td><td class=\"tabev1\">19.20 </td><td class=\"tabev2\">N  </td><td class=\"tabev1\">155.44 </td><td class=\"tabev2\">W  </td><td class=\"tabev3\">36</td><td class=\"tabev5\" id=\"magtyp15\">ML</td><td class=\"tabev2\">2.7</td><td class=\"tb_region\" id=\"reg15\"> ISLAND OF HAWAII, HAWAII</td><td class=\"comment updatetimeno\" id=\"upd15\" style=\"text-align:right;\">2019-09-02 03:28</td></tr>,\n",
       " <tr class=\"ligne1 normal\" id=\"789877\" onclick=\"go_details(event,789877);\"><td class=\"tabev0\"></td><td class=\"tabev0\"></td><td class=\"tabev0\"></td><td class=\"tabev6\"><b><i style=\"display:none;\">earthquake</i><a href=\"/Earthquake/earthquake.php?id=789877\">2019-09-02   02:30:16.3</a></b><i class=\"ago\" id=\"ago16\">5hr 08min ago</i></td><td class=\"tabev1\">19.93 </td><td class=\"tabev2\">N  </td><td class=\"tabev1\">155.48 </td><td class=\"tabev2\">W  </td><td class=\"tabev3\">36</td><td class=\"tabev5\" id=\"magtyp16\">Md</td><td class=\"tabev2\">2.3</td><td class=\"tb_region\" id=\"reg16\"> ISLAND OF HAWAII, HAWAII</td><td class=\"comment updatetimeno\" id=\"upd16\" style=\"text-align:right;\">2019-09-02 02:33</td></tr>,\n",
       " <tr class=\"ligne2 normal\" id=\"789894\" onclick=\"go_details(event,789894);\"><td class=\"tabev0\"></td><td class=\"tabev0\"></td><td class=\"tabev0\"></td><td class=\"tabev6\"><b><i style=\"display:none;\">earthquake</i><a href=\"/Earthquake/earthquake.php?id=789894\">2019-09-02   02:12:29.3</a></b><i class=\"ago\" id=\"ago17\">5hr 26min ago</i></td><td class=\"tabev1\">19.22 </td><td class=\"tabev2\">N  </td><td class=\"tabev1\">63.90 </td><td class=\"tabev2\">W  </td><td class=\"tabev3\">17</td><td class=\"tabev5\" id=\"magtyp17\">Md</td><td class=\"tabev2\">3.1</td><td class=\"tb_region\" id=\"reg17\"> VIRGIN ISLANDS REGION</td><td class=\"comment updatetimeno\" id=\"upd17\" style=\"text-align:right;\">2019-09-02 05:50</td></tr>,\n",
       " <tr class=\"ligne1 normal\" id=\"789874\" onclick=\"go_details(event,789874);\"><td class=\"tabev0\"></td><td class=\"tabev0\"></td><td class=\"tabev0\"></td><td class=\"tabev6\"><b><i style=\"display:none;\">earthquake</i><a href=\"/Earthquake/earthquake.php?id=789874\">2019-09-02   01:56:54.3</a></b><i class=\"ago\" id=\"ago18\">5hr 42min ago</i></td><td class=\"tabev1\">19.24 </td><td class=\"tabev2\">N  </td><td class=\"tabev1\">155.40 </td><td class=\"tabev2\">W  </td><td class=\"tabev3\">31</td><td class=\"tabev5\" id=\"magtyp18\">Md</td><td class=\"tabev2\">2.2</td><td class=\"tb_region\" id=\"reg18\"> ISLAND OF HAWAII, HAWAII</td><td class=\"comment updatetimeno\" id=\"upd18\" style=\"text-align:right;\">2019-09-02 02:00</td></tr>,\n",
       " <tr class=\"ligne2 normal\" id=\"789873\" onclick=\"go_details(event,789873);\"><td class=\"tabev0\"></td><td class=\"tabev0\"></td><td class=\"tabev0\"></td><td class=\"tabev6\"><b><i style=\"display:none;\">earthquake</i><a href=\"/Earthquake/earthquake.php?id=789873\">2019-09-02   01:54:03.4</a></b><i class=\"ago\" id=\"ago19\">5hr 44min ago</i></td><td class=\"tabev1\">46.56 </td><td class=\"tabev2\">N  </td><td class=\"tabev1\">6.94 </td><td class=\"tabev2\">E  </td><td class=\"tabev3\">2</td><td class=\"tabev5\" id=\"magtyp19\">ML</td><td class=\"tabev2\">1.5</td><td class=\"tb_region\" id=\"reg19\"> SWITZERLAND</td><td class=\"comment updatetimeno\" id=\"upd19\" style=\"text-align:right;\">2019-09-02 02:00</td></tr>,\n",
       " <tr class=\"ligne1 normal\" id=\"789872\" onclick=\"go_details(event,789872);\"><td class=\"tabev0\"></td><td class=\"tabev0\"></td><td class=\"tabev0\"></td><td class=\"tabev6\"><b><i style=\"display:none;\">earthquake</i><a href=\"/Earthquake/earthquake.php?id=789872\">2019-09-02   01:53:54.9</a></b><i class=\"ago\" id=\"ago20\">5hr 45min ago</i></td><td class=\"tabev1\">33.90 </td><td class=\"tabev2\">N  </td><td class=\"tabev1\">115.86 </td><td class=\"tabev2\">W  </td><td class=\"tabev3\">0</td><td class=\"tabev5\" id=\"magtyp20\">Ml</td><td class=\"tabev2\">2.3</td><td class=\"tb_region\" id=\"reg20\"> SOUTHERN CALIFORNIA</td><td class=\"comment updatetimeno\" id=\"upd20\" style=\"text-align:right;\">2019-09-02 01:57</td></tr>,\n",
       " <tr class=\"ligne2 normal\" id=\"789876\" onclick=\"go_details(event,789876);\"><td class=\"tabev0\"></td><td class=\"tabev0\"></td><td class=\"tabev0\"></td><td class=\"tabev6\"><b><i style=\"display:none;\">earthquake</i><a href=\"/Earthquake/earthquake.php?id=789876\">2019-09-02   01:53:15.5</a></b><i class=\"ago\" id=\"ago21\">5hr 45min ago</i></td><td class=\"tabev1\">40.01 </td><td class=\"tabev2\">N  </td><td class=\"tabev1\">39.94 </td><td class=\"tabev2\">E  </td><td class=\"tabev3\">7</td><td class=\"tabev5\" id=\"magtyp21\">ML</td><td class=\"tabev2\">2.0</td><td class=\"tb_region\" id=\"reg21\"> EASTERN TURKEY</td><td class=\"comment updatetimeno\" id=\"upd21\" style=\"text-align:right;\">2019-09-02 02:32</td></tr>,\n",
       " <tr class=\"ligne1 normal\" id=\"789871\" onclick=\"go_details(event,789871);\"><td class=\"tabev0\"></td><td class=\"tabev0\"></td><td class=\"tabev0\"></td><td class=\"tabev6\"><b><i style=\"display:none;\">earthquake</i><a href=\"/Earthquake/earthquake.php?id=789871\">2019-09-02   01:33:37.0</a></b><i class=\"ago\" id=\"ago22\">6hr 05min ago</i></td><td class=\"tabev1\">21.60 </td><td class=\"tabev2\">S  </td><td class=\"tabev1\">68.55 </td><td class=\"tabev2\">W  </td><td class=\"tabev3\">131</td><td class=\"tabev5\" id=\"magtyp22\">ML</td><td class=\"tabev2\">3.1</td><td class=\"tb_region\" id=\"reg22\"> ANTOFAGASTA, CHILE</td><td class=\"comment updatetimeno\" id=\"upd22\" style=\"text-align:right;\">2019-09-02 01:48</td></tr>,\n",
       " <tr class=\"ligne2 normal\" id=\"789869\" onclick=\"go_details(event,789869);\"><td class=\"tabev0\"></td><td class=\"tabev0\"></td><td class=\"tabev0\"></td><td class=\"tabev6\"><b><i style=\"display:none;\">earthquake</i><a href=\"/Earthquake/earthquake.php?id=789869\">2019-09-02   01:25:35.9</a></b><i class=\"ago\" id=\"ago23\">6hr 13min ago</i></td><td class=\"tabev1\">34.93 </td><td class=\"tabev2\">N  </td><td class=\"tabev1\">97.70 </td><td class=\"tabev2\">W  </td><td class=\"tabev3\">5</td><td class=\"tabev5\" id=\"magtyp23\">mb</td><td class=\"tabev2\">2.3</td><td class=\"tb_region\" id=\"reg23\"> OKLAHOMA</td><td class=\"comment updatetimeno\" id=\"upd23\" style=\"text-align:right;\">2019-09-02 03:44</td></tr>,\n",
       " <tr class=\"ligne1 normal\" id=\"789866\" onclick=\"go_details(event,789866);\"><td class=\"tabev0\"></td><td class=\"tabev0\"></td><td class=\"tabev0\"></td><td class=\"tabev6\"><b><i style=\"display:none;\">earthquake</i><a href=\"/Earthquake/earthquake.php?id=789866\">2019-09-02   01:07:30.7</a></b><i class=\"ago\" id=\"ago24\">6hr 31min ago</i></td><td class=\"tabev1\">43.43 </td><td class=\"tabev2\">N  </td><td class=\"tabev1\">12.75 </td><td class=\"tabev2\">E  </td><td class=\"tabev3\">11</td><td class=\"tabev5\" id=\"magtyp24\">ML</td><td class=\"tabev2\">2.2</td><td class=\"tb_region\" id=\"reg24\"> CENTRAL ITALY</td><td class=\"comment updatetimeno\" id=\"upd24\" style=\"text-align:right;\">2019-09-02 01:14</td></tr>,\n",
       " <tr class=\"ligne2 normal\" id=\"789870\" onclick=\"go_details(event,789870);\"><td class=\"tabev0\"></td><td class=\"tabev0\"></td><td class=\"tabev0\"></td><td class=\"tabev6\"><b><i style=\"display:none;\">earthquake</i><a href=\"/Earthquake/earthquake.php?id=789870\">2019-09-02   00:54:50.5</a></b><i class=\"ago\" id=\"ago25\">6hr 44min ago</i></td><td class=\"tabev1\">17.84 </td><td class=\"tabev2\">N  </td><td class=\"tabev1\">65.90 </td><td class=\"tabev2\">W  </td><td class=\"tabev3\">10</td><td class=\"tabev5\" id=\"magtyp25\">ML</td><td class=\"tabev2\">2.9</td><td class=\"tb_region\" id=\"reg25\"> PUERTO RICO REGION</td><td class=\"comment updatetimeno\" id=\"upd25\" style=\"text-align:right;\">2019-09-02 02:26</td></tr>,\n",
       " <tr class=\"autour\" id=\"tr026\"><td colspan=\"13\" style=\"height:3px;background-color:#FFF;\"></td></tr>,\n",
       " <tr class=\"black\" id=\"tr126\"><td colspan=\"13\" style=\"height:1px;line-height:1px;\"> <!--[if lte IE 7]>&nbsp;<![endif]--></td></tr>,\n",
       " <tr class=\"autour\" id=\"tr226\"><td colspan=\"13\" style=\"height:3px;background-color:#FFF;\"></td></tr>,\n",
       " <tr class=\"ligne1 normal\" id=\"789847\" onclick=\"go_details(event,789847);\"><td class=\"tabev0\"></td><td class=\"tabev0\"></td><td class=\"tabev0\"></td><td class=\"tabev6\"><b><i style=\"display:none;\">earthquake</i><a href=\"/Earthquake/earthquake.php?id=789847\">2019-09-01   23:35:06.8</a></b><i class=\"ago\" id=\"ago26\">8hr 03min ago</i></td><td class=\"tabev1\">35.66 </td><td class=\"tabev2\">N  </td><td class=\"tabev1\">117.46 </td><td class=\"tabev2\">W  </td><td class=\"tabev3\">2</td><td class=\"tabev5\" id=\"magtyp26\">Ml</td><td class=\"tabev2\">2.8</td><td class=\"tb_region\" id=\"reg26\"> SOUTHERN CALIFORNIA</td><td class=\"comment updatetimeno\" id=\"upd26\" style=\"text-align:right;\">2019-09-01 23:38</td></tr>,\n",
       " <tr class=\"ligne2 normal\" id=\"789851\" onclick=\"go_details(event,789851);\"><td class=\"tabev0\"></td><td class=\"tabev0\"></td><td class=\"tabev0\"></td><td class=\"tabev6\"><b><i style=\"display:none;\">earthquake</i><a href=\"/Earthquake/earthquake.php?id=789851\">2019-09-01   23:28:31.0</a></b><i class=\"ago\" id=\"ago27\">8hr 10min ago</i></td><td class=\"tabev1\">24.02 </td><td class=\"tabev2\">S  </td><td class=\"tabev1\">66.91 </td><td class=\"tabev2\">W  </td><td class=\"tabev3\">208</td><td class=\"tabev5\" id=\"magtyp27\">ML</td><td class=\"tabev2\">3.0</td><td class=\"tb_region\" id=\"reg27\"> SALTA, ARGENTINA</td><td class=\"comment updatetimeno\" id=\"upd27\" style=\"text-align:right;\">2019-09-02 00:56</td></tr>,\n",
       " <tr class=\"ligne1 normal\" id=\"789848\" onclick=\"go_details(event,789848);\"><td class=\"tabev0\"></td><td class=\"tabev0\"></td><td class=\"tabev0\"></td><td class=\"tabev6\"><b><i style=\"display:none;\">earthquake</i><a href=\"/Earthquake/earthquake.php?id=789848\">2019-09-01   23:19:17.5</a></b><i class=\"ago\" id=\"ago28\">8hr 19min ago</i></td><td class=\"tabev1\">53.07 </td><td class=\"tabev2\">N  </td><td class=\"tabev1\">168.70 </td><td class=\"tabev2\">W  </td><td class=\"tabev3\">86</td><td class=\"tabev5\" id=\"magtyp28\">mb</td><td class=\"tabev2\">4.2</td><td class=\"tb_region\" id=\"reg28\"> FOX ISLANDS, ALEUTIAN ISLANDS</td><td class=\"comment updatetimeno\" id=\"upd28\" style=\"text-align:right;\">2019-09-02 01:12</td></tr>,\n",
       " <tr class=\"ligne2 normal\" id=\"789846\" onclick=\"go_details(event,789846);\"><td class=\"tabev0\"></td><td class=\"tabev0\"></td><td class=\"tabev0\"></td><td class=\"tabev6\"><b><i style=\"display:none;\">earthquake</i><a href=\"/Earthquake/earthquake.php?id=789846\">2019-09-01   23:16:53.5</a></b><i class=\"ago\" id=\"ago29\">8hr 22min ago</i></td><td class=\"tabev1\">19.36 </td><td class=\"tabev2\">N  </td><td class=\"tabev1\">155.08 </td><td class=\"tabev2\">W  </td><td class=\"tabev3\">2</td><td class=\"tabev5\" id=\"magtyp29\">Ml</td><td class=\"tabev2\">2.0</td><td class=\"tb_region\" id=\"reg29\"> ISLAND OF HAWAII, HAWAII</td><td class=\"comment updatetimeno\" id=\"upd29\" style=\"text-align:right;\">2019-09-01 23:22</td></tr>,\n",
       " <tr class=\"ligne1 normal\" id=\"789845\" onclick=\"go_details(event,789845);\"><td class=\"tabev0\"></td><td class=\"tabev0\"></td><td class=\"tabev0\"></td><td class=\"tabev6\"><b><i style=\"display:none;\">earthquake</i><a href=\"/Earthquake/earthquake.php?id=789845\">2019-09-01   23:02:22.0</a></b><i class=\"ago\" id=\"ago30\">8hr 36min ago</i></td><td class=\"tabev1\">18.59 </td><td class=\"tabev2\">S  </td><td class=\"tabev1\">71.06 </td><td class=\"tabev2\">W  </td><td class=\"tabev3\">34</td><td class=\"tabev5\" id=\"magtyp30\">ML</td><td class=\"tabev2\">3.4</td><td class=\"tb_region\" id=\"reg30\"> OFF COAST OF TARAPACA, CHILE</td><td class=\"comment updatetimeno\" id=\"upd30\" style=\"text-align:right;\">2019-09-01 23:19</td></tr>,\n",
       " <tr class=\"ligne2 normal\" id=\"789843\" onclick=\"go_details(event,789843);\"><td class=\"tabev0\"></td><td class=\"tabev0\"></td><td class=\"tabev0\"></td><td class=\"tabev6\"><b><i style=\"display:none;\">earthquake</i><a href=\"/Earthquake/earthquake.php?id=789843\">2019-09-01   22:55:52.0</a></b><i class=\"ago\" id=\"ago31\">8hr 43min ago</i></td><td class=\"tabev1\">13.21 </td><td class=\"tabev2\">N  </td><td class=\"tabev1\">89.46 </td><td class=\"tabev2\">W  </td><td class=\"tabev3\">49</td><td class=\"tabev5\" id=\"magtyp31\"> M</td><td class=\"tabev2\">4.1</td><td class=\"tb_region\" id=\"reg31\"> OFFSHORE EL SALVADOR</td><td class=\"comment updatetimeno\" id=\"upd31\" style=\"text-align:right;\">2019-09-01 23:11</td></tr>,\n",
       " <tr class=\"ligne1 normal\" id=\"789841\" onclick=\"go_details(event,789841);\"><td class=\"tabev0\"></td><td class=\"tabev0\"></td><td class=\"tabev0\"></td><td class=\"tabev6\"><b><i style=\"display:none;\">earthquake</i><a href=\"/Earthquake/earthquake.php?id=789841\">2019-09-01   22:53:18.8</a></b><i class=\"ago\" id=\"ago32\">8hr 45min ago</i></td><td class=\"tabev1\">32.56 </td><td class=\"tabev2\">N  </td><td class=\"tabev1\">115.65 </td><td class=\"tabev2\">W  </td><td class=\"tabev3\">12</td><td class=\"tabev5\" id=\"magtyp32\">Ml</td><td class=\"tabev2\">2.2</td><td class=\"tb_region\" id=\"reg32\"> BAJA CALIFORNIA, MEXICO</td><td class=\"comment updatetimeno\" id=\"upd32\" style=\"text-align:right;\">2019-09-01 22:55</td></tr>,\n",
       " <tr class=\"ligne2 normal\" id=\"789839\" onclick=\"go_details(event,789839);\"><td class=\"tabev0\"></td><td class=\"tabev0\"></td><td class=\"tabev0\"></td><td class=\"tabev6\"><b><i style=\"display:none;\">earthquake</i><a href=\"/Earthquake/earthquake.php?id=789839\">2019-09-01   22:41:23.4</a></b><i class=\"ago\" id=\"ago33\">8hr 57min ago</i></td><td class=\"tabev1\">2.29 </td><td class=\"tabev2\">N  </td><td class=\"tabev1\">96.74 </td><td class=\"tabev2\">E  </td><td class=\"tabev3\">40</td><td class=\"tabev5\" id=\"magtyp33\">mb</td><td class=\"tabev2\">4.9</td><td class=\"tb_region\" id=\"reg33\"> SIMEULUE, INDONESIA</td><td class=\"comment updatetimeno\" id=\"upd33\" style=\"text-align:right;\">2019-09-02 06:50</td></tr>,\n",
       " <tr class=\"ligne1 normal\" id=\"789837\" onclick=\"go_details(event,789837);\"><td class=\"tabev0\"></td><td class=\"tabev0\"></td><td class=\"tabev0\"></td><td class=\"tabev6\"><b><i style=\"display:none;\">earthquake</i><a href=\"/Earthquake/earthquake.php?id=789837\">2019-09-01   22:30:04.8</a></b><i class=\"ago\" id=\"ago34\">9hr 08min ago</i></td><td class=\"tabev1\">35.16 </td><td class=\"tabev2\">N  </td><td class=\"tabev1\">118.21 </td><td class=\"tabev2\">W  </td><td class=\"tabev3\">2</td><td class=\"tabev5\" id=\"magtyp34\">Ml</td><td class=\"tabev2\">2.3</td><td class=\"tb_region\" id=\"reg34\"> SOUTHERN CALIFORNIA</td><td class=\"comment updatetimeno\" id=\"upd34\" style=\"text-align:right;\">2019-09-01 22:34</td></tr>,\n",
       " <tr class=\"ligne2 normal\" id=\"789835\" onclick=\"go_details(event,789835);\"><td class=\"tabev0\"></td><td class=\"tabev0\"></td><td class=\"tabev0\"></td><td class=\"tabev6\"><b><i style=\"display:none;\">earthquake</i><a href=\"/Earthquake/earthquake.php?id=789835\">2019-09-01   22:07:54.9</a></b><i class=\"ago\" id=\"ago35\">9hr 31min ago</i></td><td class=\"tabev1\">31.67 </td><td class=\"tabev2\">N  </td><td class=\"tabev1\">115.91 </td><td class=\"tabev2\">W  </td><td class=\"tabev3\">11</td><td class=\"tabev5\" id=\"magtyp35\">ML</td><td class=\"tabev2\">3.1</td><td class=\"tb_region\" id=\"reg35\"> BAJA CALIFORNIA, MEXICO</td><td class=\"comment updatetimeno\" id=\"upd35\" style=\"text-align:right;\">2019-09-01 22:16</td></tr>,\n",
       " <tr class=\"ligne1 normal\" id=\"789833\" onclick=\"go_details(event,789833);\"><td class=\"tabev0\"></td><td class=\"tabev0\"></td><td class=\"tabev0\"></td><td class=\"tabev6\"><b><i style=\"display:none;\">earthquake</i><a href=\"/Earthquake/earthquake.php?id=789833\">2019-09-01   22:03:40.6</a></b><i class=\"ago\" id=\"ago36\">9hr 35min ago</i></td><td class=\"tabev1\">41.38 </td><td class=\"tabev2\">N  </td><td class=\"tabev1\">122.13 </td><td class=\"tabev2\">W  </td><td class=\"tabev3\">4</td><td class=\"tabev5\" id=\"magtyp36\">Md</td><td class=\"tabev2\">2.1</td><td class=\"tb_region\" id=\"reg36\"> MOUNT SHASTA AREA, CALIFORNIA</td><td class=\"comment updatetimeno\" id=\"upd36\" style=\"text-align:right;\">2019-09-01 22:05</td></tr>,\n",
       " <tr class=\"ligne2 normal\" id=\"789831\" onclick=\"go_details(event,789831);\"><td class=\"tabev0\"></td><td class=\"tabev0\"></td><td class=\"tabev0\"></td><td class=\"tabev6\"><b><i style=\"display:none;\">earthquake</i><a href=\"/Earthquake/earthquake.php?id=789831\">2019-09-01   21:32:16.4</a></b><i class=\"ago\" id=\"ago37\">10hr 06min ago</i></td><td class=\"tabev1\">18.60 </td><td class=\"tabev2\">S  </td><td class=\"tabev1\">70.97 </td><td class=\"tabev2\">W  </td><td class=\"tabev3\">30</td><td class=\"tabev5\" id=\"magtyp37\">Mw</td><td class=\"tabev2\">5.1</td><td class=\"tb_region\" id=\"reg37\"> OFFSHORE TARAPACA, CHILE</td><td class=\"comment updatetimeno\" id=\"upd37\" style=\"text-align:right;\">2019-09-02 06:49</td></tr>,\n",
       " <tr class=\"ligne1 normal\" id=\"789852\" onclick=\"go_details(event,789852);\"><td class=\"tabev0\"></td><td class=\"tabev0\"></td><td class=\"tabev0\"></td><td class=\"tabev6\"><b><i style=\"display:none;\">earthquake</i><a href=\"/Earthquake/earthquake.php?id=789852\">2019-09-01   21:12:49.0</a></b><i class=\"ago\" id=\"ago38\">10hr 26min ago</i></td><td class=\"tabev1\">15.29 </td><td class=\"tabev2\">N  </td><td class=\"tabev1\">92.46 </td><td class=\"tabev2\">W  </td><td class=\"tabev3\">106</td><td class=\"tabev5\" id=\"magtyp38\"> M</td><td class=\"tabev2\">3.5</td><td class=\"tb_region\" id=\"reg38\"> CHIAPAS, MEXICO</td><td class=\"comment updatetimeno\" id=\"upd38\" style=\"text-align:right;\">2019-09-02 01:00</td></tr>,\n",
       " <tr class=\"ligne2 normal\" id=\"789829\" onclick=\"go_details(event,789829);\"><td class=\"tabev0\"></td><td class=\"tabev0\"></td><td class=\"tabev0\"></td><td class=\"tabev6\"><b><i style=\"display:none;\">earthquake</i><a href=\"/Earthquake/earthquake.php?id=789829\">2019-09-01   21:12:46.9</a></b><i class=\"ago\" id=\"ago39\">10hr 26min ago</i></td><td class=\"tabev1\">39.29 </td><td class=\"tabev2\">N  </td><td class=\"tabev1\">25.90 </td><td class=\"tabev2\">E  </td><td class=\"tabev3\">10</td><td class=\"tabev5\" id=\"magtyp39\">ML</td><td class=\"tabev2\">3.1</td><td class=\"tb_region\" id=\"reg39\"> AEGEAN SEA</td><td class=\"comment updatetimeno\" id=\"upd39\" style=\"text-align:right;\">2019-09-02 06:46</td></tr>,\n",
       " <tr class=\"ligne1 normal\" id=\"789858\" onclick=\"go_details(event,789858);\"><td class=\"tabev0\"></td><td class=\"tabev0\"></td><td class=\"tabev0\"></td><td class=\"tabev6\"><b><i style=\"display:none;\">earthquake</i><a href=\"/Earthquake/earthquake.php?id=789858\">2019-09-01   21:10:05.0</a></b><i class=\"ago\" id=\"ago40\">10hr 28min ago</i></td><td class=\"tabev1\">16.30 </td><td class=\"tabev2\">N  </td><td class=\"tabev1\">98.56 </td><td class=\"tabev2\">W  </td><td class=\"tabev3\">4</td><td class=\"tabev5\" id=\"magtyp40\"> M</td><td class=\"tabev2\">3.2</td><td class=\"tb_region\" id=\"reg40\"> OFFSHORE OAXACA, MEXICO</td><td class=\"comment updatetimeno\" id=\"upd40\" style=\"text-align:right;\">2019-09-02 01:00</td></tr>,\n",
       " <tr class=\"ligne2 normal\" id=\"789830\" onclick=\"go_details(event,789830);\"><td class=\"tabev0\"></td><td class=\"tabev0\"></td><td class=\"tabev0\"></td><td class=\"tabev6\"><b><i style=\"display:none;\">earthquake</i><a href=\"/Earthquake/earthquake.php?id=789830\">2019-09-01   20:58:06.0</a></b><i class=\"ago\" id=\"ago41\">10hr 40min ago</i></td><td class=\"tabev1\">18.09 </td><td class=\"tabev2\">N  </td><td class=\"tabev1\">101.93 </td><td class=\"tabev2\">W  </td><td class=\"tabev3\">50</td><td class=\"tabev5\" id=\"magtyp41\"> M</td><td class=\"tabev2\">4.2</td><td class=\"tb_region\" id=\"reg41\"> GUERRERO, MEXICO</td><td class=\"comment updatetimeno\" id=\"upd41\" style=\"text-align:right;\">2019-09-01 21:20</td></tr>,\n",
       " <tr class=\"ligne1 normal\" id=\"789861\" onclick=\"go_details(event,789861);\"><td class=\"tabev0\"></td><td class=\"tabev0\"></td><td class=\"tabev0\"></td><td class=\"tabev6\"><b><i style=\"display:none;\">earthquake</i><a href=\"/Earthquake/earthquake.php?id=789861\">2019-09-01   20:55:23.0</a></b><i class=\"ago\" id=\"ago42\">10hr 43min ago</i></td><td class=\"tabev1\">18.12 </td><td class=\"tabev2\">N  </td><td class=\"tabev1\">103.39 </td><td class=\"tabev2\">W  </td><td class=\"tabev3\">5</td><td class=\"tabev5\" id=\"magtyp42\"> M</td><td class=\"tabev2\">3.8</td><td class=\"tb_region\" id=\"reg42\"> OFFSHORE MICHOACAN, MEXICO</td><td class=\"comment updatetimeno\" id=\"upd42\" style=\"text-align:right;\">2019-09-02 01:01</td></tr>,\n",
       " <tr class=\"ligne2 normal\" id=\"789828\" onclick=\"go_details(event,789828);\"><td class=\"tabev0\"></td><td class=\"tabev0\"></td><td class=\"tabev0\"></td><td class=\"tabev6\"><b><i style=\"display:none;\">earthquake</i><a href=\"/Earthquake/earthquake.php?id=789828\">2019-09-01   20:52:14.6</a></b><i class=\"ago\" id=\"ago43\">10hr 46min ago</i></td><td class=\"tabev1\">35.89 </td><td class=\"tabev2\">N  </td><td class=\"tabev1\">117.72 </td><td class=\"tabev2\">W  </td><td class=\"tabev3\">7</td><td class=\"tabev5\" id=\"magtyp43\">Ml</td><td class=\"tabev2\">2.1</td><td class=\"tb_region\" id=\"reg43\"> CENTRAL CALIFORNIA</td><td class=\"comment updatetimeno\" id=\"upd43\" style=\"text-align:right;\">2019-09-01 20:56</td></tr>,\n",
       " <tr class=\"ligne1 normal\" id=\"789827\" onclick=\"go_details(event,789827);\"><td class=\"tabev0\" style=\"text-align:center;\"><a href=\"https://www.emsc-csem.org/Earthquake/Testimonies/comments.php?id=789827\" onmouseout=\"info_b2('notshow','');\" onmouseover=\"info_b2('show','See the &lt;b&gt;17 testimonies&lt;/b&gt; for this earthquake');\"><span class=\"\" style=\"vertical-align:middle;\">17</span></a></td><td class=\"tabev0\"></td><td class=\"tabev0\"><span class=\"intensity\" onclick=\"go_details(event,null,'https://www.emsc-csem.org/Earthquake/popup_intensmap.php?id=789827&amp;f=/INTENSITY_MAPS/78/789827/AUTOMATIC/AreaThreshold_5/EMS_98__RMW_Musson/LocMethod_PerClusterCity/DynamicClusters_MaxSize50/IntensityMapThumbnails.png');\" onmouseout=\"info_b2('notshow','');\" onmouseover=\"info_b2('show','See the &lt;b&gt; Intensity map&lt;/b&gt;');\" style=\"background-color:#00FFFF;\">IV</span></td><td class=\"tabev6\"><b><i style=\"display:none;\">earthquake</i><a href=\"/Earthquake/earthquake.php?id=789827\">2019-09-01   20:49:45.0</a></b><i class=\"ago\" id=\"ago44\">10hr 49min ago</i></td><td class=\"tabev1\">38.69 </td><td class=\"tabev2\">N  </td><td class=\"tabev1\">22.45 </td><td class=\"tabev2\">E  </td><td class=\"tabev3\">6</td><td class=\"tabev5\" id=\"magtyp44\">ML</td><td class=\"tabev2\">3.8</td><td class=\"tb_region\" id=\"reg44\"> GREECE</td><td class=\"comment updatetimeno\" id=\"upd44\" style=\"text-align:right;\">2019-09-02 06:44</td></tr>,\n",
       " <tr class=\"ligne2 normal\" id=\"789859\" onclick=\"go_details(event,789859);\"><td class=\"tabev0\"></td><td class=\"tabev0\"></td><td class=\"tabev0\"></td><td class=\"tabev6\"><b><i style=\"display:none;\">earthquake</i><a href=\"/Earthquake/earthquake.php?id=789859\">2019-09-01   20:35:18.0</a></b><i class=\"ago\" id=\"ago45\">11hr 03min ago</i></td><td class=\"tabev1\">17.46 </td><td class=\"tabev2\">N  </td><td class=\"tabev1\">95.56 </td><td class=\"tabev2\">W  </td><td class=\"tabev3\">114</td><td class=\"tabev5\" id=\"magtyp45\"> M</td><td class=\"tabev2\">3.5</td><td class=\"tb_region\" id=\"reg45\"> OAXACA, MEXICO</td><td class=\"comment updatetimeno\" id=\"upd45\" style=\"text-align:right;\">2019-09-02 01:01</td></tr>,\n",
       " <tr class=\"ligne1 normal\" id=\"789860\" onclick=\"go_details(event,789860);\"><td class=\"tabev0\"></td><td class=\"tabev0\"></td><td class=\"tabev0\"></td><td class=\"tabev6\"><b><i style=\"display:none;\">earthquake</i><a href=\"/Earthquake/earthquake.php?id=789860\">2019-09-01   20:33:09.0</a></b><i class=\"ago\" id=\"ago46\">11hr 05min ago</i></td><td class=\"tabev1\">15.95 </td><td class=\"tabev2\">N  </td><td class=\"tabev1\">98.32 </td><td class=\"tabev2\">W  </td><td class=\"tabev3\">15</td><td class=\"tabev5\" id=\"magtyp46\"> M</td><td class=\"tabev2\">3.5</td><td class=\"tb_region\" id=\"reg46\"> OFFSHORE OAXACA, MEXICO</td><td class=\"comment updatetimeno\" id=\"upd46\" style=\"text-align:right;\">2019-09-02 01:01</td></tr>,\n",
       " <tr class=\"ligne2 normal\" id=\"789826\" onclick=\"go_details(event,789826);\"><td class=\"tabev0\"></td><td class=\"tabev0\"></td><td class=\"tabev0\"></td><td class=\"tabev6\"><b><i style=\"display:none;\">earthquake</i><a href=\"/Earthquake/earthquake.php?id=789826\">2019-09-01   20:07:30.0</a></b><i class=\"ago\" id=\"ago47\">11hr 31min ago</i></td><td class=\"tabev1\">39.33 </td><td class=\"tabev2\">S  </td><td class=\"tabev1\">73.13 </td><td class=\"tabev2\">W  </td><td class=\"tabev3\">48</td><td class=\"tabev5\" id=\"magtyp47\">ML</td><td class=\"tabev2\">3.3</td><td class=\"tb_region\" id=\"reg47\"> ARAUCANIA, CHILE</td><td class=\"comment updatetimeno\" id=\"upd47\" style=\"text-align:right;\">2019-09-01 20:21</td></tr>,\n",
       " <tr class=\"ligne1 normal\" id=\"789825\" onclick=\"go_details(event,789825);\"><td class=\"tabev0\"></td><td class=\"tabev0\"></td><td class=\"tabev0\"></td><td class=\"tabev6\"><b><i style=\"display:none;\">earthquake</i><a href=\"/Earthquake/earthquake.php?id=789825\">2019-09-01   20:03:39.1</a></b><i class=\"ago\" id=\"ago48\">11hr 35min ago</i></td><td class=\"tabev1\">59.07 </td><td class=\"tabev2\">N  </td><td class=\"tabev1\">136.91 </td><td class=\"tabev2\">W  </td><td class=\"tabev3\">7</td><td class=\"tabev5\" id=\"magtyp48\">ML</td><td class=\"tabev2\">2.7</td><td class=\"tb_region\" id=\"reg48\"> SOUTHEASTERN ALASKA</td><td class=\"comment updatetimeno\" id=\"upd48\" style=\"text-align:right;\">2019-09-01 20:16</td></tr>,\n",
       " <tr class=\"ligne2 normal\" id=\"789862\" onclick=\"go_details(event,789862);\"><td class=\"tabev0\"></td><td class=\"tabev0\"></td><td class=\"tabev0\"></td><td class=\"tabev6\"><b><i style=\"display:none;\">earthquake</i><a href=\"/Earthquake/earthquake.php?id=789862\">2019-09-01   20:01:41.0</a></b><i class=\"ago\" id=\"ago49\">11hr 37min ago</i></td><td class=\"tabev1\">16.29 </td><td class=\"tabev2\">N  </td><td class=\"tabev1\">97.93 </td><td class=\"tabev2\">W  </td><td class=\"tabev3\">30</td><td class=\"tabev5\" id=\"magtyp49\"> M</td><td class=\"tabev2\">3.4</td><td class=\"tb_region\" id=\"reg49\"> OAXACA, MEXICO</td><td class=\"comment updatetimeno\" id=\"upd49\" style=\"text-align:right;\">2019-09-02 01:01</td></tr>,\n",
       " <tr><td colspan=\"13\" style=\"height:3px\"></td></tr>,\n",
       " <tr class=\"npages\" id=\"my_pagelist_1\"><td colspan=\"13\"><a class=\"sublink sublinka\" href=\"javascript:void()\" rel=\"nofollow\">1</a><a class=\"sublink\" href=\"/Earthquake/?view=2\">2</a><a class=\"sublink\" href=\"/Earthquake/?view=3\">3</a><a class=\"sublink\" href=\"/Earthquake/?view=4\">4</a><a class=\"sublink\" href=\"/Earthquake/?view=5\">5</a><a class=\"sublink\" href=\"/Earthquake/?view=6\">6</a><a class=\"sublink\" href=\"/Earthquake/?view=7\">7</a><a class=\"sublink\" href=\"/Earthquake/?view=8\">8</a><a class=\"sublink\" href=\"/Earthquake/?view=9\">9</a><a class=\"sublink\" href=\"/Earthquake/?view=10\">10</a><a alt=\"Next page\" class=\"sublink\" href=\"/Earthquake/?view=2\"></a><a alt=\"Next 10 pages\" class=\"sublink\" href=\"/Earthquake/?view=11\">»</a></td></tr>,\n",
       " <tr><td colspan=\"13\" style=\"border-bottom:1px solid #000;\"></td></tr>]"
      ]
     },
     "execution_count": 18,
     "metadata": {},
     "output_type": "execute_result"
    }
   ],
   "source": [
    "html = requests.get(url).content\n",
    "soup = BeautifulSoup(html, \"lxml\")\n",
    "\n",
    "table = soup.find_all('table', attrs = {'border':'0'})[0]\n",
    "table\n",
    "\n",
    "rows_tag = table.find_all('tr')\n",
    "rows_tag "
   ]
  },
  {
   "cell_type": "code",
   "execution_count": 11,
   "metadata": {},
   "outputs": [
    {
     "data": {
      "text/plain": [
       "['earthquake2019-09-02\\xa0\\xa0\\xa006:48:25.717min ago35.36\\xa0N\\xa0\\xa0117.83\\xa0W\\xa0\\xa05ML2.3\\xa0SOUTHERN CALIFORNIA2019-09-02 06:52',\n",
       " 'earthquake2019-09-02\\xa0\\xa0\\xa006:41:51.824min ago12.34\\xa0N\\xa0\\xa0144.92\\xa0E\\xa0\\xa040mb5.0\\xa0GUAM REGION2019-09-02 07:00',\n",
       " 'earthquake2019-09-02\\xa0\\xa0\\xa006:13:18.452min ago36.43\\xa0N\\xa0\\xa028.78\\xa0E\\xa0\\xa02ML3.6\\xa0DODECANESE IS.-TURKEY BORDER REG2019-09-02 06:51',\n",
       " 'earthquake2019-09-02\\xa0\\xa0\\xa005:55:41.31hr 10min ago0.37\\xa0N\\xa0\\xa0103.03\\xa0W\\xa0\\xa010mb4.4\\xa0GALAPAGOS TRIPLE JUNCTION REGION2019-09-02 06:31',\n",
       " '6IIIearthquake2019-09-02\\xa0\\xa0\\xa004:54:53.52hr 11min ago33.65\\xa0N\\xa0\\xa0117.33\\xa0W\\xa0\\xa06ML2.1\\xa0SOUTHERN CALIFORNIA2019-09-02 04:57',\n",
       " 'earthquake2019-09-02\\xa0\\xa0\\xa004:21:35.82hr 44min ago47.77\\xa0N\\xa0\\xa0122.87\\xa0W\\xa0\\xa048Md2.4\\xa0OLYMPIC PENINSULA, WASHINGTON2019-09-02 04:25',\n",
       " 'earthquake2019-09-02\\xa0\\xa0\\xa004:19:10.62hr 46min ago37.55\\xa0N\\xa0\\xa026.78\\xa0E\\xa0\\xa06ML2.0\\xa0DODECANESE ISLANDS, GREECE2019-09-02 04:48',\n",
       " '37IVearthquake2019-09-02\\xa0\\xa0\\xa004:05:04.63hr 00min ago33.65\\xa0N\\xa0\\xa0117.33\\xa0W\\xa0\\xa05ML3.3\\xa0SOUTHERN CALIFORNIA2019-09-02 04:29',\n",
       " 'earthquake2019-09-02\\xa0\\xa0\\xa003:59:21.73hr 06min ago37.19\\xa0N\\xa0\\xa0112.89\\xa0W\\xa0\\xa016ML3.0\\xa0UTAH2019-09-02 04:36',\n",
       " 'earthquake2019-09-02\\xa0\\xa0\\xa003:47:51.13hr 18min ago58.17\\xa0N\\xa0\\xa0155.40\\xa0W\\xa0\\xa00ML2.2\\xa0ALASKA PENINSULA2019-09-02 04:02',\n",
       " 'earthquake2019-09-02\\xa0\\xa0\\xa003:42:45.03hr 23min ago1.71\\xa0N\\xa0\\xa0126.56\\xa0E\\xa0\\xa010 M4.4\\xa0MOLUCCA SEA2019-09-02 03:50',\n",
       " 'earthquake2019-09-02\\xa0\\xa0\\xa003:03:21.04hr 02min ago15.98\\xa0N\\xa0\\xa098.43\\xa0W\\xa0\\xa03 M4.2\\xa0OFFSHORE OAXACA, MEXICO2019-09-02 03:25',\n",
       " 'earthquake2019-09-02\\xa0\\xa0\\xa002:59:15.74hr 06min ago19.20\\xa0N\\xa0\\xa0155.44\\xa0W\\xa0\\xa036ML2.7\\xa0ISLAND OF HAWAII, HAWAII2019-09-02 03:28',\n",
       " 'earthquake2019-09-02\\xa0\\xa0\\xa002:30:16.34hr 35min ago19.93\\xa0N\\xa0\\xa0155.48\\xa0W\\xa0\\xa036Md2.3\\xa0ISLAND OF HAWAII, HAWAII2019-09-02 02:33',\n",
       " 'earthquake2019-09-02\\xa0\\xa0\\xa002:12:29.34hr 53min ago19.22\\xa0N\\xa0\\xa063.90\\xa0W\\xa0\\xa017Md3.1\\xa0VIRGIN ISLANDS REGION2019-09-02 05:50',\n",
       " 'earthquake2019-09-02\\xa0\\xa0\\xa001:56:54.35hr 09min ago19.24\\xa0N\\xa0\\xa0155.40\\xa0W\\xa0\\xa031Md2.2\\xa0ISLAND OF HAWAII, HAWAII2019-09-02 02:00',\n",
       " 'earthquake2019-09-02\\xa0\\xa0\\xa001:54:03.45hr 12min ago46.56\\xa0N\\xa0\\xa06.94\\xa0E\\xa0\\xa02ML1.5\\xa0SWITZERLAND2019-09-02 02:00',\n",
       " 'earthquake2019-09-02\\xa0\\xa0\\xa001:53:54.95hr 12min ago33.90\\xa0N\\xa0\\xa0115.86\\xa0W\\xa0\\xa00Ml2.3\\xa0SOUTHERN CALIFORNIA2019-09-02 01:57',\n",
       " 'earthquake2019-09-02\\xa0\\xa0\\xa001:53:15.55hr 12min ago40.01\\xa0N\\xa0\\xa039.94\\xa0E\\xa0\\xa07ML2.0\\xa0EASTERN TURKEY2019-09-02 02:32',\n",
       " 'earthquake2019-09-02\\xa0\\xa0\\xa001:33:37.05hr 32min ago21.60\\xa0S\\xa0\\xa068.55\\xa0W\\xa0\\xa0131ML3.1\\xa0ANTOFAGASTA, CHILE2019-09-02 01:48']"
      ]
     },
     "execution_count": 11,
     "metadata": {},
     "output_type": "execute_result"
    }
   ],
   "source": [
    "#rows[5].text\n",
    "rows_20 = [row.text for row in rows_tag]\n",
    "rows = rows_20[5:25]\n",
    "rows"
   ]
  },
  {
   "cell_type": "code",
   "execution_count": 106,
   "metadata": {},
   "outputs": [
    {
     "data": {
      "text/plain": [
       "['2019-09-02|06:48:25.717min ago35.36|117.83|W||5ML2.3|SOUTHERN CALIFORNIA2019-09-02 06:52',\n",
       " '2019-09-02|06:41:51.824min ago12.34|144.92|E||40mb5.0|GUAM REGION2019-09-02 07:00',\n",
       " '2019-09-02|06:13:18.452min ago36.43|28.78|E||2ML3.6|DODECANESE IS.-TURKEY BORDER REG2019-09-02 06:51',\n",
       " '2019-09-02|05:55:41.31hr 10min ago0.37|103.03|W||10mb4.4|GALAPAGOS TRIPLE JUNCTION REGION2019-09-02 06:31',\n",
       " '6III2019-09-02|04:54:53.52hr 11min ago33.65|117.33|W||6ML2.1|SOUTHERN CALIFORNIA2019-09-02 04:57',\n",
       " '2019-09-02|04:21:35.82hr 44min ago47.77|122.87|W||48Md2.4|OLYMPIC PENINSULA, WASHINGTON2019-09-02 04:25',\n",
       " '2019-09-02|04:19:10.62hr 46min ago37.55|26.78|E||6ML2.0|DODECANESE ISLANDS, GREECE2019-09-02 04:48',\n",
       " '37IV2019-09-02|04:05:04.63hr 00min ago33.65|117.33|W||5ML3.3|SOUTHERN CALIFORNIA2019-09-02 04:29',\n",
       " '2019-09-02|03:59:21.73hr 06min ago37.19|112.89|W||16ML3.0|UTAH2019-09-02 04:36',\n",
       " '2019-09-02|03:47:51.13hr 18min ago58.17|155.40|W||0ML2.2|ALASKA PENINSULA2019-09-02 04:02',\n",
       " '2019-09-02|03:42:45.03hr 23min ago1.71|126.56|E||10 M4.4|MOLUCCA SEA2019-09-02 03:50',\n",
       " '2019-09-02|03:03:21.04hr 02min ago15.98|98.43|W||3 M4.2|OFFSHORE OAXACA, MEXICO2019-09-02 03:25',\n",
       " '2019-09-02|02:59:15.74hr 06min ago19.20|155.44|W||36ML2.7|ISLAND OF HAWAII, HAWAII2019-09-02 03:28',\n",
       " '2019-09-02|02:30:16.34hr 35min ago19.93|155.48|W||36Md2.3|ISLAND OF HAWAII, HAWAII2019-09-02 02:33',\n",
       " '2019-09-02|02:12:29.34hr 53min ago19.22|63.90|W||17Md3.1|VIRGIN ISLANDS REGION2019-09-02 05:50',\n",
       " '2019-09-02|01:56:54.35hr 09min ago19.24|155.40|W||31Md2.2|ISLAND OF HAWAII, HAWAII2019-09-02 02:00',\n",
       " '2019-09-02|01:54:03.45hr 12min ago46.56|6.94|E||2ML1.5|SWITZERLAND2019-09-02 02:00',\n",
       " '2019-09-02|01:53:54.95hr 12min ago33.90|115.86|W||0Ml2.3|SOUTHERN CALIFORNIA2019-09-02 01:57',\n",
       " '2019-09-02|01:53:15.55hr 12min ago40.01|39.94|E||7ML2.0|EASTERN TURKEY2019-09-02 02:32',\n",
       " '2019-09-02|01:33:37.05hr 32min ago21.60|S||68.55|W||131ML3.1|ANTOFAGASTA, CHILE2019-09-02 01:48']"
      ]
     },
     "execution_count": 106,
     "metadata": {},
     "output_type": "execute_result"
    }
   ],
   "source": [
    "import re\n",
    "#date, time, latitude, longitude and region name)\n",
    "\n",
    "rows_clean = [row.replace('\\xa0\\xa0\\xa0','|').replace('\\xa0N\\xa0\\xa0','|').replace('\\xa0','|') for row in rows]\n",
    "rows_clean\n",
    "\n",
    "rows1 = [re.sub(r'earthquake', '', i) for i in rows_clean]\n",
    "rows1\n",
    "\n",
    "\n",
    "#not finished. ask for help\n",
    "#I don't have the time to explore and finish this exercise... I would really appreciate the solutions\n",
    "#just for this one to use it as reference for the future"
   ]
  },
  {
   "cell_type": "code",
   "execution_count": 26,
   "metadata": {},
   "outputs": [
    {
     "ename": "IndentationError",
     "evalue": "expected an indented block (<ipython-input-26-b9ba2a0124c8>, line 7)",
     "output_type": "error",
     "traceback": [
      "\u001b[0;36m  File \u001b[0;32m\"<ipython-input-26-b9ba2a0124c8>\"\u001b[0;36m, line \u001b[0;32m7\u001b[0m\n\u001b[0;31m    else:\u001b[0m\n\u001b[0m       ^\u001b[0m\n\u001b[0;31mIndentationError\u001b[0m\u001b[0;31m:\u001b[0m expected an indented block\n"
     ]
    }
   ],
   "source": [
    "#IGNORE \n",
    "\n",
    "from bs4.element import NavigableString\n",
    "for tag in soup.descendants: \n",
    "  if isinstance(tag, NavigableString):\n",
    "    print(tag)\n",
    "  else:\n",
    "    print(tag.name)"
   ]
  },
  {
   "cell_type": "markdown",
   "metadata": {},
   "source": [
    "#### Count the number of tweets by a given Twitter account.\n",
    "Ask the user for the handle (@handle) of a twitter account. You will need to include a ***try/except block*** for account names not found. \n",
    "<br>***Hint:*** the program should count the number of tweets for any provided account."
   ]
  },
  {
   "cell_type": "code",
   "execution_count": null,
   "metadata": {},
   "outputs": [],
   "source": [
    "# This is the url you will scrape in this exercise \n",
    "# You will need to add the account credentials to this url\n",
    "url = 'https://twitter.com/'"
   ]
  },
  {
   "cell_type": "code",
   "execution_count": 34,
   "metadata": {},
   "outputs": [
    {
     "data": {
      "text/plain": [
       "67"
      ]
     },
     "execution_count": 34,
     "metadata": {},
     "output_type": "execute_result"
    }
   ],
   "source": [
    "import tweepy\n",
    "\n",
    "API_KEY = 'skivHd5Oc62nClsTDRN7CqNaV'\n",
    "API_SECRET = '1qfOEXdXO80IMmWlauOGa16tx268V1qVJNRQffDq7zwztpGoL1'\n",
    "ACCESS_TOKEN = '894627159750397954-IEcAy8xZLDniom693Rg7ZcwnBnQgUge'\n",
    "ACCESS_TOKEN_SECRET = 'niKUvkmyILAvfABgxOLqRS5X0m2YLqZFbYasCNELDYIa1'\n",
    "\n",
    "auth = tweepy.OAuthHandler(API_KEY, API_SECRET)\n",
    "auth.set_access_token(ACCESS_TOKEN, ACCESS_TOKEN_SECRET)\n",
    "api = tweepy.API(auth)\n",
    "\n",
    "api.get_user('IronhackLIS').statuses_count\n",
    "\n",
    "#is this it?"
   ]
  },
  {
   "cell_type": "markdown",
   "metadata": {},
   "source": [
    "#### Number of followers of a given twitter account\n",
    "Ask the user for the handle (@handle) of a twitter account. You will need to include a ***try/except block*** for account names not found. \n",
    "<br>***Hint:*** the program should count the followers for any provided account."
   ]
  },
  {
   "cell_type": "code",
   "execution_count": null,
   "metadata": {},
   "outputs": [],
   "source": [
    "# This is the url you will scrape in this exercise \n",
    "# You will need to add the account credentials to this url\n",
    "url = 'https://twitter.com/'"
   ]
  },
  {
   "cell_type": "code",
   "execution_count": 35,
   "metadata": {},
   "outputs": [
    {
     "data": {
      "text/plain": [
       "67"
      ]
     },
     "execution_count": 35,
     "metadata": {},
     "output_type": "execute_result"
    }
   ],
   "source": [
    "api.get_user('IronhackLIS').followers_count\n",
    "\n",
    "#is this it? if there is another way of scrapping Twitter I think I wouldn't use it knowing that there is\n",
    "#a tool like tweepy out there."
   ]
  },
  {
   "cell_type": "markdown",
   "metadata": {},
   "source": [
    "#### List all language names and number of related articles in the order they appear in wikipedia.org."
   ]
  },
  {
   "cell_type": "code",
   "execution_count": 36,
   "metadata": {},
   "outputs": [],
   "source": [
    "# This is the url you will scrape in this exercise\n",
    "url = 'https://www.wikipedia.org/'"
   ]
  },
  {
   "cell_type": "code",
   "execution_count": 107,
   "metadata": {},
   "outputs": [
    {
     "name": "stdout",
     "output_type": "stream",
     "text": [
      "['English', '日本語', 'Español', 'Deutsch', 'Русский', 'Français', 'Italiano', '中文', 'Português', 'Polski']\n",
      "\n",
      "\n",
      "['5915000', '1165000', '1539000', '2336000', '1564000', '2134000', '1549000', '1070000', '1012000', '1353000']\n",
      "\n",
      "\n",
      "['English: 5915000', '日本語: 1165000', 'Español: 1539000', 'Deutsch: 2336000', 'Русский: 1564000', 'Français: 2134000', 'Italiano: 1549000', '中文: 1070000', 'Português: 1012000', 'Polski: 1353000']\n",
      "\n",
      "\n",
      "{'English': '5915000', '日本語': '1165000', 'Español': '1539000', 'Deutsch': '2336000', 'Русский': '1564000', 'Français': '2134000', 'Italiano': '1549000', '中文': '1070000', 'Português': '1012000', 'Polski': '1353000'}\n"
     ]
    }
   ],
   "source": [
    "html = requests.get(url).content\n",
    "soup = BeautifulSoup(html, \"lxml\")\n",
    "\n",
    "wiki_tag = soup.find_all('a', attrs = {'class':'link-box'})\n",
    "\n",
    "wiki_lang = [i.text.split('\\n')[1] for i in wiki_tag]\n",
    "print(wiki_lang)\n",
    "print('\\n')\n",
    "\n",
    "wiki_art = [i.small.text for i in wiki_tag]\n",
    "wiki_nr = [''.join(re.findall(r'\\d+',i)) for i in wiki_art]\n",
    "print(wiki_nr)\n",
    "print('\\n')\n",
    "\n",
    "#with list\n",
    "joined = [(l+': '+n) for l,n in zip(wiki_lang,wiki_nr)]\n",
    "print(joined)\n",
    "print('\\n')\n",
    "\n",
    "#with dictionary\n",
    "wiki_dict = dict(zip(wiki_lang,wiki_nr))\n",
    "print(wiki_dict)\n",
    "\n",
    "#not by order of apearence. how to do it? see below"
   ]
  },
  {
   "cell_type": "code",
   "execution_count": 278,
   "metadata": {},
   "outputs": [
    {
     "data": {
      "text/plain": [
       "['\\n\\nEnglish\\n5\\xa0915\\xa0000+ articles\\n\\n',\n",
       " '\\n\\n日本語\\n1\\xa0165\\xa0000+ 記事\\n\\n',\n",
       " '\\n\\nEspañol\\n1\\xa0539\\xa0000+ artículos\\n\\n',\n",
       " '\\n\\nDeutsch\\n2\\xa0336\\xa0000+ Artikel\\n\\n',\n",
       " '\\n\\nРусский\\n1\\xa0564\\xa0000+ статей\\n\\n',\n",
       " '\\n\\nFrançais\\n2\\xa0134\\xa0000+ articles\\n\\n',\n",
       " '\\n\\nItaliano\\n1\\xa0549\\xa0000+ voci\\n\\n',\n",
       " '\\n\\n中文\\n1\\xa0070\\xa0000+ 條目\\n\\n',\n",
       " '\\n\\nPortuguês\\n1\\xa0012\\xa0000+ artigos\\n\\n',\n",
       " '\\n\\nPolski\\n1\\xa0353\\xa0000+ haseł\\n\\n']"
      ]
     },
     "execution_count": 278,
     "metadata": {},
     "output_type": "execute_result"
    }
   ],
   "source": [
    "#by order of appearance\n",
    "url = 'https://www.wikipedia.org/'\n",
    "\n",
    "html = requests.get(url).content\n",
    "soup = BeautifulSoup(html, \"lxml\")\n",
    "\n",
    "wiki_tag = []\n",
    "for i in range(1,11):\n",
    "    word = 'central-featured-lang lang' + str(i)\n",
    "    wiki_tag += soup.find_all('div', attrs = {'class': word})\n",
    "    \n",
    "wiki = [i.text for i in wiki_tag]\n",
    "\n",
    "#continue from here... (not finished)\n",
    "wiki\n",
    "\n",
    "\n",
    "\n",
    "#....... I can't put them by order of appearance. Would love to know how to make this possible"
   ]
  },
  {
   "cell_type": "markdown",
   "metadata": {},
   "source": [
    "#### A list with the different kind of datasets available in data.gov.uk."
   ]
  },
  {
   "cell_type": "code",
   "execution_count": 122,
   "metadata": {},
   "outputs": [],
   "source": [
    "# This is the url you will scrape in this exercise\n",
    "url = 'https://data.gov.uk/'"
   ]
  },
  {
   "cell_type": "code",
   "execution_count": 137,
   "metadata": {},
   "outputs": [
    {
     "data": {
      "text/plain": [
       "['Business and economy',\n",
       " 'Crime and justice',\n",
       " 'Defence',\n",
       " 'Education',\n",
       " 'Environment',\n",
       " 'Government',\n",
       " 'Government spending',\n",
       " 'Health',\n",
       " 'Mapping',\n",
       " 'Society',\n",
       " 'Towns and cities',\n",
       " 'Transport']"
      ]
     },
     "execution_count": 137,
     "metadata": {},
     "output_type": "execute_result"
    }
   ],
   "source": [
    "html = requests.get(url).content\n",
    "soup = BeautifulSoup(html, \"lxml\")\n",
    "\n",
    "gov_tag = soup.find_all('h2')\n",
    "gov = [i.text for i in gov_tag]\n",
    "gov"
   ]
  },
  {
   "cell_type": "markdown",
   "metadata": {},
   "source": [
    "#### Display the top 10 languages by number of native speakers stored in a pandas dataframe."
   ]
  },
  {
   "cell_type": "code",
   "execution_count": 230,
   "metadata": {},
   "outputs": [],
   "source": [
    "# This is the url you will scrape in this exercise\n",
    "url = 'https://en.wikipedia.org/wiki/List_of_languages_by_number_of_native_speakers'"
   ]
  },
  {
   "cell_type": "code",
   "execution_count": 232,
   "metadata": {},
   "outputs": [
    {
     "data": {
      "text/plain": [
       "['Chinese',\n",
       " 'Mandarin',\n",
       " 'Spanish',\n",
       " 'English',\n",
       " 'Hindi',\n",
       " 'Arabic',\n",
       " 'Bengali',\n",
       " 'Portuguese',\n",
       " 'Russian',\n",
       " 'Japanese']"
      ]
     },
     "execution_count": 232,
     "metadata": {},
     "output_type": "execute_result"
    }
   ],
   "source": [
    "html = requests.get(url).content\n",
    "soup = BeautifulSoup(html, \"lxml\")\n",
    "\n",
    "table = soup.find_all('table', attrs = {'class':'wikitable sortable'})[0] #what is the [0] doing here?\n",
    "table\n",
    "\n",
    "rows_tag = table.find_all('tr')\n",
    "rows_tag\n",
    "\n",
    "rows = [i.text.replace('\\n','').replace('(macrolanguage)','') for i in rows_tag[1:11]]\n",
    "rows\n",
    "\n",
    "lang = [re.findall(r'[a-zA-Z]' ,row) for row in rows]\n",
    "lang\n",
    "\n",
    "lang_join = [''.join(row) for row in lang]\n",
    "lang_join\n",
    "\n",
    "languages = [re.findall('[A-Z][^A-Z]*', i)[0] for i in lang_join]\n",
    "languages  "
   ]
  },
  {
   "cell_type": "code",
   "execution_count": 262,
   "metadata": {},
   "outputs": [
    {
     "data": {
      "text/plain": [
       "['1,311', '918', '460', '379', '341', '319', '228', '221', '154', '128']"
      ]
     },
     "execution_count": 262,
     "metadata": {},
     "output_type": "execute_result"
    }
   ],
   "source": [
    "rows1 = [i.text.replace('\\n',' ') for i in rows_tag[1:11]]\n",
    "speakers1 = [re.findall(r'[0,0-9,0]+[0.0-9.0]+', i) for i in rows1] #the cell that contains Chinese speakers\n",
    "#is in a different format: 1,311 (it has a comma)\n",
    "\n",
    "speakers = [i[-2] for i in speakers1]\n",
    "speakers"
   ]
  },
  {
   "cell_type": "code",
   "execution_count": 273,
   "metadata": {},
   "outputs": [
    {
     "data": {
      "text/html": [
       "<div>\n",
       "<style scoped>\n",
       "    .dataframe tbody tr th:only-of-type {\n",
       "        vertical-align: middle;\n",
       "    }\n",
       "\n",
       "    .dataframe tbody tr th {\n",
       "        vertical-align: top;\n",
       "    }\n",
       "\n",
       "    .dataframe thead th {\n",
       "        text-align: right;\n",
       "    }\n",
       "</style>\n",
       "<table border=\"1\" class=\"dataframe\">\n",
       "  <thead>\n",
       "    <tr style=\"text-align: right;\">\n",
       "      <th></th>\n",
       "      <th>Language</th>\n",
       "      <th>Speakers(millions)</th>\n",
       "    </tr>\n",
       "  </thead>\n",
       "  <tbody>\n",
       "    <tr>\n",
       "      <th>0</th>\n",
       "      <td>Chinese</td>\n",
       "      <td>1,311</td>\n",
       "    </tr>\n",
       "    <tr>\n",
       "      <th>1</th>\n",
       "      <td>Mandarin</td>\n",
       "      <td>918</td>\n",
       "    </tr>\n",
       "    <tr>\n",
       "      <th>2</th>\n",
       "      <td>Spanish</td>\n",
       "      <td>460</td>\n",
       "    </tr>\n",
       "    <tr>\n",
       "      <th>3</th>\n",
       "      <td>English</td>\n",
       "      <td>379</td>\n",
       "    </tr>\n",
       "    <tr>\n",
       "      <th>4</th>\n",
       "      <td>Hindi</td>\n",
       "      <td>341</td>\n",
       "    </tr>\n",
       "    <tr>\n",
       "      <th>5</th>\n",
       "      <td>Arabic</td>\n",
       "      <td>319</td>\n",
       "    </tr>\n",
       "    <tr>\n",
       "      <th>6</th>\n",
       "      <td>Bengali</td>\n",
       "      <td>228</td>\n",
       "    </tr>\n",
       "    <tr>\n",
       "      <th>7</th>\n",
       "      <td>Portuguese</td>\n",
       "      <td>221</td>\n",
       "    </tr>\n",
       "    <tr>\n",
       "      <th>8</th>\n",
       "      <td>Russian</td>\n",
       "      <td>154</td>\n",
       "    </tr>\n",
       "    <tr>\n",
       "      <th>9</th>\n",
       "      <td>Japanese</td>\n",
       "      <td>128</td>\n",
       "    </tr>\n",
       "  </tbody>\n",
       "</table>\n",
       "</div>"
      ],
      "text/plain": [
       "     Language Speakers(millions)\n",
       "0     Chinese              1,311\n",
       "1    Mandarin                918\n",
       "2     Spanish                460\n",
       "3     English                379\n",
       "4       Hindi                341\n",
       "5      Arabic                319\n",
       "6     Bengali                228\n",
       "7  Portuguese                221\n",
       "8     Russian                154\n",
       "9    Japanese                128"
      ]
     },
     "execution_count": 273,
     "metadata": {},
     "output_type": "execute_result"
    }
   ],
   "source": [
    "#join everything in a dataframe\n",
    "\n",
    "final = dict(zip(languages,speakers))\n",
    "final\n",
    "\n",
    "df_final = pd.DataFrame(list(final.items()), columns=['Language', 'Speakers(millions)'])\n",
    "\n",
    "df_final"
   ]
  },
  {
   "cell_type": "markdown",
   "metadata": {},
   "source": [
    "## Bonus\n",
    "#### Scrape a certain number of tweets of a given Twitter account."
   ]
  },
  {
   "cell_type": "code",
   "execution_count": null,
   "metadata": {},
   "outputs": [],
   "source": [
    "# This is the url you will scrape in this exercise \n",
    "# You will need to add the account credentials to this url\n",
    "url = 'https://twitter.com/'"
   ]
  },
  {
   "cell_type": "code",
   "execution_count": null,
   "metadata": {},
   "outputs": [],
   "source": [
    "# your code here"
   ]
  },
  {
   "cell_type": "markdown",
   "metadata": {},
   "source": [
    "#### Display IMDB's top 250 data (movie name, initial release, director name and stars) as a pandas dataframe."
   ]
  },
  {
   "cell_type": "code",
   "execution_count": null,
   "metadata": {},
   "outputs": [],
   "source": [
    "# This is the url you will scrape in this exercise \n",
    "url = 'https://www.imdb.com/chart/top'"
   ]
  },
  {
   "cell_type": "code",
   "execution_count": null,
   "metadata": {},
   "outputs": [],
   "source": [
    "# your code here"
   ]
  },
  {
   "cell_type": "markdown",
   "metadata": {},
   "source": [
    "#### Display the movie name, year and a brief summary of the top 10 random movies (IMDB) as a pandas dataframe."
   ]
  },
  {
   "cell_type": "code",
   "execution_count": null,
   "metadata": {},
   "outputs": [],
   "source": [
    "#This is the url you will scrape in this exercise\n",
    "url = 'http://www.imdb.com/chart/top'"
   ]
  },
  {
   "cell_type": "code",
   "execution_count": null,
   "metadata": {},
   "outputs": [],
   "source": [
    "# your code here"
   ]
  },
  {
   "cell_type": "markdown",
   "metadata": {},
   "source": [
    "#### Find the live weather report (temperature, wind speed, description and weather) of a given city."
   ]
  },
  {
   "cell_type": "code",
   "execution_count": null,
   "metadata": {},
   "outputs": [],
   "source": [
    "#https://openweathermap.org/current\n",
    "city = input('Enter the city: ')\n",
    "url = 'http://api.openweathermap.org/data/2.5/weather?'+'q='+city+'&APPID=b35975e18dc93725acb092f7272cc6b8&units=metric'"
   ]
  },
  {
   "cell_type": "code",
   "execution_count": null,
   "metadata": {},
   "outputs": [],
   "source": [
    "# your code here"
   ]
  },
  {
   "cell_type": "markdown",
   "metadata": {},
   "source": [
    "#### Find the book name, price and stock availability as a pandas dataframe."
   ]
  },
  {
   "cell_type": "code",
   "execution_count": null,
   "metadata": {},
   "outputs": [],
   "source": [
    "# This is the url you will scrape in this exercise. \n",
    "# It is a fictional bookstore created to be scraped. \n",
    "url = 'http://books.toscrape.com/'"
   ]
  },
  {
   "cell_type": "code",
   "execution_count": null,
   "metadata": {},
   "outputs": [],
   "source": [
    "# your code here"
   ]
  }
 ],
 "metadata": {
  "kernelspec": {
   "display_name": "Python 3",
   "language": "python",
   "name": "python3"
  },
  "language_info": {
   "codemirror_mode": {
    "name": "ipython",
    "version": 3
   },
   "file_extension": ".py",
   "mimetype": "text/x-python",
   "name": "python",
   "nbconvert_exporter": "python",
   "pygments_lexer": "ipython3",
   "version": "3.6.1"
  }
 },
 "nbformat": 4,
 "nbformat_minor": 2
}
